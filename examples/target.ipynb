{
 "cells": [
  {
   "cell_type": "code",
   "execution_count": 1,
   "id": "79d320f4",
   "metadata": {},
   "outputs": [
    {
     "data": {
      "text/plain": [
       "'Feupy target examples.'"
      ]
     },
     "execution_count": 1,
     "metadata": {},
     "output_type": "execute_result"
    }
   ],
   "source": [
    "# Licensed under a 3-clause BSD style license - see LICENSE.rst\n",
    "\"\"\"Feupy target examples.\"\"\""
   ]
  },
  {
   "cell_type": "code",
   "execution_count": 2,
   "id": "8fdd1859",
   "metadata": {},
   "outputs": [],
   "source": [
    "from feupy.target import Target\n",
    "\n",
    "from astropy import units as u\n",
    "from astropy.units import Quantity\n",
    "\n",
    "from gammapy.modeling.models import PowerLawSpectralModel, SkyModel"
   ]
  },
  {
   "cell_type": "code",
   "execution_count": 3,
   "id": "aa0bf8ba",
   "metadata": {},
   "outputs": [],
   "source": [
    "name = \"LHAASO J1825-1326\"\n",
    "pos_ra = u.Quantity(\"276.45deg\") \n",
    "pos_dec = -13.45* u.Unit('deg')\n",
    "\n",
    "spectral_model = PowerLawSpectralModel()"
   ]
  },
  {
   "cell_type": "code",
   "execution_count": 4,
   "id": "792cdc1b",
   "metadata": {},
   "outputs": [],
   "source": [
    "target = Target(name=name, pos_ra=pos_ra, pos_dec=pos_dec, spectral_model=spectral_model)"
   ]
  },
  {
   "cell_type": "code",
   "execution_count": 5,
   "id": "64644000",
   "metadata": {},
   "outputs": [
    {
     "name": "stdout",
     "output_type": "stream",
     "text": [
      "\n",
      "*** Basic info ***\n",
      "\n",
      "Source name : LHAASO J1825-1326\n",
      "\n",
      "*** Position info ***\n",
      "\n",
      "RA: 276.450 deg\n",
      "DEC: -13.450 deg\n",
      "\n",
      "*** Spectral info ***\n",
      "\n",
      "Spectrum type:  PowerLawSpectralModel\n",
      "index: 2.0 +- 0 \n",
      "amplitude: 1e-12 +- 0 TeV⁻¹ s⁻¹ cm⁻²\n",
      "reference: 1.0 +- 0 TeV\n",
      "\n"
     ]
    }
   ],
   "source": [
    "print(target)"
   ]
  },
  {
   "cell_type": "code",
   "execution_count": 6,
   "id": "af38175f",
   "metadata": {},
   "outputs": [
    {
     "data": {
      "text/plain": [
       "<SkyCoord (ICRS): (ra, dec) in deg\n",
       "    (276.45, -13.45)>"
      ]
     },
     "execution_count": 6,
     "metadata": {},
     "output_type": "execute_result"
    }
   ],
   "source": [
    "target.position"
   ]
  },
  {
   "cell_type": "code",
   "execution_count": 7,
   "id": "f7ca5c2b",
   "metadata": {},
   "outputs": [
    {
     "data": {
      "text/plain": [
       "'LHAASO J1825-1326'"
      ]
     },
     "execution_count": 7,
     "metadata": {},
     "output_type": "execute_result"
    }
   ],
   "source": [
    "target.name"
   ]
  },
  {
   "cell_type": "code",
   "execution_count": 8,
   "id": "fe0d8576",
   "metadata": {},
   "outputs": [
    {
     "name": "stdout",
     "output_type": "stream",
     "text": [
      "PowerLawSpectralModel\n",
      "\n",
      "  type      name     value         unit      ... max frozen is_norm link\n",
      "-------- --------- ---------- -------------- ... --- ------ ------- ----\n",
      "spectral     index 2.0000e+00                ... nan  False   False     \n",
      "spectral amplitude 1.0000e-12 TeV-1 s-1 cm-2 ... nan  False    True     \n",
      "spectral reference 1.0000e+00            TeV ... nan   True   False     \n"
     ]
    }
   ],
   "source": [
    "print(target.spectral_model)"
   ]
  },
  {
   "cell_type": "code",
   "execution_count": 9,
   "id": "21f7f818",
   "metadata": {},
   "outputs": [
    {
     "name": "stdout",
     "output_type": "stream",
     "text": [
      "SkyModel\n",
      "\n",
      "  Name                      : LHAASO J1825-1326\n",
      "  Datasets names            : None\n",
      "  Spectral model type       : PowerLawSpectralModel\n",
      "  Spatial  model type       : \n",
      "  Temporal model type       : \n",
      "  Parameters:\n",
      "    index                         :      2.000   +/-    0.00             \n",
      "    amplitude                     :   1.00e-12   +/- 0.0e+00 1 / (TeV s cm2)\n",
      "    reference             (frozen):      1.000       TeV         \n",
      "\n",
      "\n"
     ]
    }
   ],
   "source": [
    "print(target.sky_model)"
   ]
  },
  {
   "cell_type": "code",
   "execution_count": 10,
   "id": "133f7058",
   "metadata": {},
   "outputs": [
    {
     "data": {
      "text/plain": [
       "{'name': 'LHAASO J1825-1326',\n",
       " 'position': {'lon': <Longitude 276.45 deg>,\n",
       "  'lat': <Latitude -13.45 deg>,\n",
       "  'frame': 'icrs'},\n",
       " 'model': {'name': 'LHAASO J1825-1326',\n",
       "  'type': 'SkyModel',\n",
       "  'spectral': {'type': 'PowerLawSpectralModel',\n",
       "   'parameters': [{'name': 'index', 'value': 2.0},\n",
       "    {'name': 'amplitude', 'value': 1e-12, 'unit': 'TeV-1 s-1 cm-2'},\n",
       "    {'name': 'reference', 'value': 1.0, 'unit': 'TeV'}]}}}"
      ]
     },
     "execution_count": 10,
     "metadata": {},
     "output_type": "execute_result"
    }
   ],
   "source": [
    "target.dict"
   ]
  },
  {
   "cell_type": "code",
   "execution_count": 11,
   "id": "5d4f005e",
   "metadata": {},
   "outputs": [],
   "source": [
    "target_dict = target.dict"
   ]
  },
  {
   "cell_type": "code",
   "execution_count": null,
   "id": "203224af",
   "metadata": {},
   "outputs": [],
   "source": []
  },
  {
   "cell_type": "code",
   "execution_count": null,
   "id": "1bbd54d5",
   "metadata": {},
   "outputs": [],
   "source": []
  }
 ],
 "metadata": {
  "ipub": {
   "titlepage": {
    "author": "R. P. Costa Jr.",
    "email": "rubensp@utfpr.edu.br",
    "institution": [
     "Federal University of Technology – Paraná (UTFPR) "
    ],
    "tagline": "A TeV Astronomy Python package based on Gammapy.",
    "title": "feupy"
   }
  },
  "kernelspec": {
   "display_name": "Python 3 (ipykernel)",
   "language": "python",
   "name": "python3"
  },
  "language_info": {
   "codemirror_mode": {
    "name": "ipython",
    "version": 3
   },
   "file_extension": ".py",
   "mimetype": "text/x-python",
   "name": "python",
   "nbconvert_exporter": "python",
   "pygments_lexer": "ipython3",
   "version": "3.9.18"
  }
 },
 "nbformat": 4,
 "nbformat_minor": 5
}
