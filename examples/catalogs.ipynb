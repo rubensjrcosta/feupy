{
 "cells": [
  {
   "cell_type": "code",
   "execution_count": 1,
   "id": "79d320f4",
   "metadata": {},
   "outputs": [
    {
     "data": {
      "text/plain": [
       "'Feupy source catalogs examples.'"
      ]
     },
     "execution_count": 1,
     "metadata": {},
     "output_type": "execute_result"
    }
   ],
   "source": [
    "# Licensed under a 3-clause BSD style license - see LICENSE.rst\n",
    "\"\"\"Feupy source catalogs examples.\"\"\""
   ]
  },
  {
   "cell_type": "code",
   "execution_count": 2,
   "id": "7c840c9f",
   "metadata": {},
   "outputs": [],
   "source": [
    "from feupy.catalog.gamma.lhaaso import SourceCatalogPublishNatureLHAASO\n",
    "from feupy.catalog.gamma.hawc import SourceCatalogExtraHAWC\n",
    "from feupy.catalog.pulsar.atnf import SourceCatalogATNF"
   ]
  },
  {
   "cell_type": "code",
   "execution_count": 3,
   "id": "b6916f5a",
   "metadata": {},
   "outputs": [],
   "source": [
    "from feupy.catalog import CATALOG_REGISTRY, CATALOG_REGISTRY_FEUPY, CATALOG_REGISTRY_GAMMAPY"
   ]
  },
  {
   "cell_type": "code",
   "execution_count": 4,
   "id": "509b0063",
   "metadata": {},
   "outputs": [
    {
     "data": {
      "text/plain": [
       "[gammapy.catalog.gammacat.SourceCatalogGammaCat,\n",
       " gammapy.catalog.hess.SourceCatalogHGPS,\n",
       " gammapy.catalog.hawc.SourceCatalog2HWC,\n",
       " gammapy.catalog.fermi.SourceCatalog3FGL,\n",
       " gammapy.catalog.fermi.SourceCatalog4FGL,\n",
       " gammapy.catalog.fermi.SourceCatalog2FHL,\n",
       " gammapy.catalog.fermi.SourceCatalog3FHL,\n",
       " gammapy.catalog.hawc.SourceCatalog3HWC,\n",
       " feupy.catalog.gamma.hawc.SourceCatalogExtraHAWC,\n",
       " feupy.catalog.gamma.lhaaso.SourceCatalogPublishNatureLHAASO,\n",
       " feupy.catalog.pulsar.atnf.SourceCatalogATNF]"
      ]
     },
     "execution_count": 4,
     "metadata": {},
     "output_type": "execute_result"
    }
   ],
   "source": [
    "CATALOG_REGISTRY"
   ]
  },
  {
   "cell_type": "code",
   "execution_count": 5,
   "id": "8135720d",
   "metadata": {},
   "outputs": [
    {
     "name": "stdout",
     "output_type": "stream",
     "text": [
      "Registry\n",
      "--------\n",
      "\n",
      "SourceCatalogGammaCat           : gamma-cat \n",
      "SourceCatalogHGPS               : hgps \n",
      "SourceCatalog2HWC               : 2hwc \n",
      "SourceCatalog3FGL               : 3fgl \n",
      "SourceCatalog4FGL               : 4fgl \n",
      "SourceCatalog2FHL               : 2fhl \n",
      "SourceCatalog3FHL               : 3fhl \n",
      "SourceCatalog3HWC               : 3hwc \n",
      "SourceCatalogExtraHAWC          : extraHAWC \n",
      "SourceCatalogPublishNatureLHAASO: publish-nature-lhaaso \n",
      "SourceCatalogATNF               : ATNF \n",
      "\n"
     ]
    }
   ],
   "source": [
    "print(CATALOG_REGISTRY)"
   ]
  },
  {
   "cell_type": "code",
   "execution_count": 6,
   "id": "70a25bbe",
   "metadata": {},
   "outputs": [],
   "source": [
    "from feupy.catalog.utils import catalogs_info"
   ]
  },
  {
   "cell_type": "code",
   "execution_count": 7,
   "id": "2b39f5ae",
   "metadata": {},
   "outputs": [
    {
     "name": "stdout",
     "output_type": "stream",
     "text": [
      "Source catalogs in Gammapy: 8\n",
      "\n",
      "(catalog index: 0) SourceCatalogGammaCat:\n",
      "    name: gamma-cat\n",
      "    description: An open catalog of gamma-ray sources\n",
      "    sources: 162\n",
      "\n",
      "(catalog index: 1) SourceCatalogHGPS:\n",
      "    name: hgps\n",
      "    description: H.E.S.S. Galactic plane survey (HGPS) source catalog\n",
      "    sources: 78\n",
      "\n",
      "(catalog index: 2) SourceCatalog2HWC:\n",
      "    name: 2hwc\n",
      "    description: 2HWC catalog from the HAWC observatory\n",
      "    sources: 40\n",
      "\n",
      "(catalog index: 3) SourceCatalog3FGL:\n",
      "    name: 3fgl\n",
      "    description: LAT 4-year point source catalog\n",
      "    sources: 3034\n",
      "\n",
      "(catalog index: 4) SourceCatalog4FGL:\n",
      "    name: 4fgl\n",
      "    description: LAT 8-year point source catalog\n",
      "    sources: 6659\n",
      "\n",
      "(catalog index: 5) SourceCatalog2FHL:\n",
      "    name: 2fhl\n",
      "    description: LAT second high-energy source catalog\n",
      "    sources: 360\n",
      "\n",
      "(catalog index: 6) SourceCatalog3FHL:\n",
      "    name: 3fhl\n",
      "    description: LAT third high-energy source catalog\n",
      "    sources: 1556\n",
      "\n",
      "(catalog index: 7) SourceCatalog3HWC:\n",
      "    name: 3hwc\n",
      "    description: 3HWC catalog from the HAWC observatory\n",
      "    sources: 65\n",
      "\n",
      "Source catalogs in Feupy: 3\n",
      "\n",
      "(catalog index: 8) SourceCatalogExtraHAWC:\n",
      "    name: extraHAWC\n",
      "    description: extraHAWC catalog from the HAWC observatory\n",
      "    sources: 8\n",
      "\n",
      "(catalog index: 9) SourceCatalogPublishNatureLHAASO:\n",
      "    name: publish-nature-lhaaso\n",
      "    description: LHAASO first 12 PeVatrons Catalogue\n",
      "    sources: 12\n",
      "\n",
      "(catalog index: 10) SourceCatalogATNF:\n",
      "    name: ATNF\n",
      "    description: A comprehensive database of all published pulsars\n",
      "    sources: 3389\n",
      "\n"
     ]
    }
   ],
   "source": [
    "catalogs_info()"
   ]
  },
  {
   "cell_type": "code",
   "execution_count": 8,
   "id": "607e4422",
   "metadata": {},
   "outputs": [
    {
     "data": {
      "text/plain": [
       "[feupy.catalog.gamma.hawc.SourceCatalogExtraHAWC,\n",
       " feupy.catalog.gamma.lhaaso.SourceCatalogPublishNatureLHAASO,\n",
       " feupy.catalog.pulsar.atnf.SourceCatalogATNF]"
      ]
     },
     "execution_count": 8,
     "metadata": {},
     "output_type": "execute_result"
    }
   ],
   "source": [
    "CATALOG_REGISTRY_FEUPY"
   ]
  },
  {
   "cell_type": "code",
   "execution_count": 9,
   "id": "759d0925",
   "metadata": {},
   "outputs": [
    {
     "name": "stdout",
     "output_type": "stream",
     "text": [
      "Registry\n",
      "--------\n",
      "\n",
      "SourceCatalogExtraHAWC          : extraHAWC \n",
      "SourceCatalogPublishNatureLHAASO: publish-nature-lhaaso \n",
      "SourceCatalogATNF               : ATNF \n",
      "\n"
     ]
    }
   ],
   "source": [
    "print(CATALOG_REGISTRY_FEUPY)"
   ]
  },
  {
   "cell_type": "code",
   "execution_count": 10,
   "id": "cf709431",
   "metadata": {},
   "outputs": [],
   "source": [
    "from feupy.catalog.utils import load_catalogs"
   ]
  },
  {
   "cell_type": "code",
   "execution_count": 11,
   "id": "914af5ad",
   "metadata": {},
   "outputs": [
    {
     "data": {
      "text/plain": [
       "[<gammapy.catalog.gammacat.SourceCatalogGammaCat at 0x7f14cf5c7310>,\n",
       " <gammapy.catalog.hess.SourceCatalogHGPS at 0x7f14c194a5b0>,\n",
       " <gammapy.catalog.hawc.SourceCatalog2HWC at 0x7f14cf5d4130>,\n",
       " <gammapy.catalog.fermi.SourceCatalog3FGL at 0x7f14c1959fd0>,\n",
       " <gammapy.catalog.fermi.SourceCatalog4FGL at 0x7f14c2a34a00>,\n",
       " <gammapy.catalog.fermi.SourceCatalog2FHL at 0x7f14cf60db50>,\n",
       " <gammapy.catalog.fermi.SourceCatalog3FHL at 0x7f14cf5d5550>,\n",
       " <gammapy.catalog.hawc.SourceCatalog3HWC at 0x7f14cf5c72e0>,\n",
       " <feupy.catalog.gamma.hawc.SourceCatalogExtraHAWC at 0x7f14cf5c7f40>,\n",
       " <feupy.catalog.gamma.lhaaso.SourceCatalogPublishNatureLHAASO at 0x7f14cf5c7250>,\n",
       " <feupy.catalog.pulsar.atnf.SourceCatalogATNF at 0x7f14cf5c7490>]"
      ]
     },
     "execution_count": 11,
     "metadata": {},
     "output_type": "execute_result"
    }
   ],
   "source": [
    "load_catalogs()"
   ]
  },
  {
   "cell_type": "code",
   "execution_count": 12,
   "id": "314bad46",
   "metadata": {},
   "outputs": [
    {
     "data": {
      "text/plain": [
       "[<gammapy.catalog.gammacat.SourceCatalogGammaCat at 0x7f14c1959d90>,\n",
       " <gammapy.catalog.hess.SourceCatalogHGPS at 0x7f14c19591c0>,\n",
       " <gammapy.catalog.hawc.SourceCatalog2HWC at 0x7f1514474250>,\n",
       " <gammapy.catalog.fermi.SourceCatalog3FGL at 0x7f14c1959910>,\n",
       " <gammapy.catalog.fermi.SourceCatalog4FGL at 0x7f14c18a97c0>,\n",
       " <gammapy.catalog.fermi.SourceCatalog2FHL at 0x7f14cf5c7790>,\n",
       " <gammapy.catalog.fermi.SourceCatalog3FHL at 0x7f14cf5d56a0>,\n",
       " <gammapy.catalog.hawc.SourceCatalog3HWC at 0x7f14c197f2e0>,\n",
       " <feupy.catalog.gamma.hawc.SourceCatalogExtraHAWC at 0x7f14c16477c0>,\n",
       " <feupy.catalog.gamma.lhaaso.SourceCatalogPublishNatureLHAASO at 0x7f14cf614be0>]"
      ]
     },
     "execution_count": 12,
     "metadata": {},
     "output_type": "execute_result"
    }
   ],
   "source": [
    "load_catalogs(\"gamma-rays\")"
   ]
  },
  {
   "cell_type": "code",
   "execution_count": 13,
   "id": "14c71a79",
   "metadata": {},
   "outputs": [
    {
     "data": {
      "text/plain": [
       "[<feupy.catalog.gamma.hawc.SourceCatalogExtraHAWC at 0x7f14c16477c0>,\n",
       " <feupy.catalog.gamma.lhaaso.SourceCatalogPublishNatureLHAASO at 0x7f14cf614be0>,\n",
       " <feupy.catalog.pulsar.atnf.SourceCatalogATNF at 0x7f14cf60d3d0>,\n",
       " <feupy.catalog.gamma.hawc.SourceCatalogExtraHAWC at 0x7f14c194a4f0>,\n",
       " <feupy.catalog.gamma.lhaaso.SourceCatalogPublishNatureLHAASO at 0x7f14c19590d0>,\n",
       " <feupy.catalog.pulsar.atnf.SourceCatalogATNF at 0x7f14cf60d430>]"
      ]
     },
     "execution_count": 13,
     "metadata": {},
     "output_type": "execute_result"
    }
   ],
   "source": [
    "load_catalogs(\"feupy\")"
   ]
  },
  {
   "cell_type": "code",
   "execution_count": 14,
   "id": "aa0bf8ba",
   "metadata": {},
   "outputs": [
    {
     "name": "stdout",
     "output_type": "stream",
     "text": [
      "Number of sources : 12\n"
     ]
    }
   ],
   "source": [
    "catalogLHAASO = SourceCatalogPublishNatureLHAASO()\n",
    "print(\"Number of sources :\", len(catalogLHAASO.table))"
   ]
  },
  {
   "cell_type": "code",
   "execution_count": 15,
   "id": "4e4b8c2a",
   "metadata": {},
   "outputs": [
    {
     "data": {
      "text/html": [
       "<div><i>Table length=12</i>\n",
       "<table id=\"table139727123817856\" class=\"table-striped table-bordered table-condensed\">\n",
       "<thead><tr><th>source_name</th><th>ra</th><th>dec</th><th>significance_100TeV</th><th>E_max</th><th>E_max_err</th><th>flux_100TeV</th><th>flux_100TeV_err</th><th>spectral_model_type</th><th>e_ref</th><th>e2dnde</th><th>e2dnde_errp</th><th>e2dnde_errn</th><th>is_ul</th></tr></thead>\n",
       "<thead><tr><th></th><th>deg</th><th>deg</th><th></th><th>PeV</th><th>PeV</th><th>1 / (TeV s cm2)</th><th>1 / (TeV s cm2)</th><th></th><th>TeV</th><th>TeV / (s cm2)</th><th>TeV / (s cm2)</th><th>TeV / (s cm2)</th><th></th></tr></thead>\n",
       "<thead><tr><th>bytes17</th><th>float64</th><th>float64</th><th>float64</th><th>float64</th><th>float64</th><th>float64</th><th>float64</th><th>bytes17</th><th>float64[9]</th><th>float64[9]</th><th>float64[9]</th><th>float64[9]</th><th>bool[9]</th></tr></thead>\n",
       "<tr><td>LHAASO J0534+2202</td><td>83.550</td><td>22.050</td><td>17.8</td><td>0.880</td><td>0.110</td><td>6.100e-17</td><td>8.540e-18</td><td>pl</td><td>100.000 .. --</td><td>6.100e-13 .. --</td><td>6.954e-13 .. --</td><td>5.246e-13 .. --</td><td>False .. False</td></tr>\n",
       "<tr><td>LHAASO J1825-1326</td><td>276.450</td><td>-13.450</td><td>16.4</td><td>0.420</td><td>0.160</td><td>2.178e-16</td><td>3.172e-17</td><td>lp</td><td>31.600 .. --</td><td>1.039e-11 .. --</td><td>3.286e-12 .. --</td><td>3.286e-12 .. --</td><td>False .. False</td></tr>\n",
       "<tr><td>LHAASO J1839-0545</td><td>279.950</td><td>-5.750</td><td>7.7</td><td>0.210</td><td>0.050</td><td>4.270e-17</td><td>1.098e-17</td><td>pl</td><td>100.000 .. --</td><td>4.270e-13 .. --</td><td>5.368e-13 .. --</td><td>3.172e-13 .. --</td><td>False .. False</td></tr>\n",
       "<tr><td>LHAASO J1843-0338</td><td>280.750</td><td>-3.650</td><td>8.5</td><td>0.260</td><td>0.100</td><td>4.453e-17</td><td>1.037e-17</td><td>pl</td><td>100.000 .. --</td><td>4.453e-13 .. --</td><td>5.490e-13 .. --</td><td>3.416e-13 .. --</td><td>False .. False</td></tr>\n",
       "<tr><td>LHAASO J1849-0003</td><td>282.350</td><td>-0.050</td><td>10.4</td><td>0.350</td><td>0.070</td><td>4.514e-17</td><td>9.150e-18</td><td>None</td><td>100.000 .. --</td><td>4.514e-13 .. --</td><td>5.429e-13 .. --</td><td>3.599e-13 .. --</td><td>False .. False</td></tr>\n",
       "<tr><td>LHAASO J1908+0621</td><td>287.050</td><td>6.350</td><td>17.2</td><td>0.440</td><td>0.050</td><td>8.296e-17</td><td>1.098e-17</td><td>lp</td><td>12.600 ..      501.000</td><td>5.782e-12 ..   1.368e-13</td><td>8.099e-13 ..   1.158e-13</td><td>8.099e-13 ..   8.998e-14</td><td>False .. False</td></tr>\n",
       "<tr><td>LHAASO J1929+1745</td><td>292.250</td><td>17.750</td><td>7.4</td><td>0.710</td><td>0.070</td><td>2.318e-17</td><td>5.490e-18</td><td>pl</td><td>100.000 .. --</td><td>2.318e-13 .. --</td><td>2.867e-13 .. --</td><td>1.769e-13 .. --</td><td>False .. False</td></tr>\n",
       "<tr><td>LHAASO J1956+2845</td><td>299.050</td><td>28.750</td><td>7.4</td><td>0.420</td><td>0.030</td><td>2.501e-17</td><td>5.490e-18</td><td>pl</td><td>100.000 .. --</td><td>2.501e-13 .. --</td><td>3.050e-13 .. --</td><td>1.952e-13 .. --</td><td>False .. False</td></tr>\n",
       "<tr><td>LHAASO J2018+3651</td><td>304.750</td><td>36.850</td><td>10.4</td><td>0.270</td><td>0.020</td><td>3.050e-17</td><td>6.100e-18</td><td>pl</td><td>100.000 .. --</td><td>3.050e-13 .. --</td><td>3.660e-13 .. --</td><td>2.440e-13 .. --</td><td>False .. False</td></tr>\n",
       "<tr><td>LHAASO J2032+4102</td><td>308.050</td><td>41.050</td><td>10.5</td><td>1.420</td><td>0.130</td><td>3.294e-17</td><td>6.100e-18</td><td>pl</td><td>100.000 .. --</td><td>3.294e-13 .. --</td><td>3.904e-13 .. --</td><td>2.684e-13 .. --</td><td>False .. False</td></tr>\n",
       "<tr><td>LHAASO J2108+5157</td><td>317.150</td><td>51.950</td><td>8.3</td><td>0.430</td><td>0.050</td><td>2.318e-17</td><td>5.490e-18</td><td>pl</td><td>100.000 .. --</td><td>2.318e-13 .. --</td><td>2.867e-13 .. --</td><td>1.769e-13 .. --</td><td>False .. False</td></tr>\n",
       "<tr><td>LHAASO J2226+6057</td><td>336.750</td><td>60.950</td><td>13.6</td><td>0.570</td><td>0.190</td><td>6.405e-17</td><td>9.760e-18</td><td>lp</td><td>20.000 .. --</td><td>2.517e-12 .. --</td><td>4.993e-13 .. --</td><td>4.993e-13 .. --</td><td>False .. False</td></tr>\n",
       "</table></div>"
      ],
      "text/plain": [
       "<Table length=12>\n",
       "   source_name         ra      ...        e2dnde_errn             is_ul     \n",
       "                      deg      ...       TeV / (s cm2)                      \n",
       "     bytes17        float64    ...         float64[9]            bool[9]    \n",
       "----------------- ------------ ... -------------------------- --------------\n",
       "LHAASO J0534+2202       83.550 ...            5.246e-13 .. -- False .. False\n",
       "LHAASO J1825-1326      276.450 ...            3.286e-12 .. -- False .. False\n",
       "LHAASO J1839-0545      279.950 ...            3.172e-13 .. -- False .. False\n",
       "LHAASO J1843-0338      280.750 ...            3.416e-13 .. -- False .. False\n",
       "LHAASO J1849-0003      282.350 ...            3.599e-13 .. -- False .. False\n",
       "LHAASO J1908+0621      287.050 ...   8.099e-13 ..   8.998e-14 False .. False\n",
       "LHAASO J1929+1745      292.250 ...            1.769e-13 .. -- False .. False\n",
       "LHAASO J1956+2845      299.050 ...            1.952e-13 .. -- False .. False\n",
       "LHAASO J2018+3651      304.750 ...            2.440e-13 .. -- False .. False\n",
       "LHAASO J2032+4102      308.050 ...            2.684e-13 .. -- False .. False\n",
       "LHAASO J2108+5157      317.150 ...            1.769e-13 .. -- False .. False\n",
       "LHAASO J2226+6057      336.750 ...            4.993e-13 .. -- False .. False"
      ]
     },
     "execution_count": 15,
     "metadata": {},
     "output_type": "execute_result"
    }
   ],
   "source": [
    "catalogLHAASO.table"
   ]
  },
  {
   "cell_type": "code",
   "execution_count": 16,
   "id": "20c9f05a",
   "metadata": {},
   "outputs": [
    {
     "name": "stdout",
     "output_type": "stream",
     "text": [
      "Number of sources : 8\n"
     ]
    }
   ],
   "source": [
    "catalogHAWC = SourceCatalogExtraHAWC()\n",
    "print(\"Number of sources :\", len(catalogHAWC.table))"
   ]
  },
  {
   "cell_type": "code",
   "execution_count": 17,
   "id": "3d870200",
   "metadata": {},
   "outputs": [
    {
     "data": {
      "text/html": [
       "<div><i>Table length=8</i>\n",
       "<table id=\"table139727120661664\" class=\"table-striped table-bordered table-condensed\">\n",
       "<thead><tr><th>source_name</th><th>ra</th><th>dec</th><th>spectral_model_type</th><th>e_ref</th><th>e2dnde</th><th>e2dnde_errp</th><th>e2dnde_errn</th><th>is_ul</th></tr></thead>\n",
       "<thead><tr><th></th><th>deg</th><th>deg</th><th></th><th>TeV</th><th>TeV / (s cm2)</th><th>TeV / (s cm2)</th><th>TeV / (s cm2)</th><th></th></tr></thead>\n",
       "<thead><tr><th>bytes14</th><th>float64</th><th>float64</th><th>bytes14</th><th>float64[10]</th><th>float64[10]</th><th>float64[10]</th><th>float64[10]</th><th>bool[10]</th></tr></thead>\n",
       "<tr><td>2HWC J1837-065</td><td>279.360</td><td>-6.580</td><td>pl</td><td>7.000 .. --</td><td>4.175e-12 .. --</td><td>4.376e-12 .. --</td><td>3.974e-12 .. --</td><td>False .. False</td></tr>\n",
       "<tr><td>2HWC J1825-134</td><td>276.460</td><td>-13.400</td><td>pl</td><td>7.000 .. --</td><td>6.760e-12 .. --</td><td>3.970e-13 .. --</td><td>3.970e-13 .. --</td><td>False .. False</td></tr>\n",
       "<tr><td>HAWC J1825-138</td><td>276.380</td><td>-13.860</td><td>ecpl</td><td>1.410 ..      126.240</td><td>1.594e-11 ..   3.086e-12</td><td>4.901e-12 .. --</td><td>5.302e-12 .. --</td><td>False .. True</td></tr>\n",
       "<tr><td>HAWC J1826-128</td><td>276.500</td><td>-12.860</td><td>ecpl</td><td>2.120 ..      127.810</td><td>2.476e-12 ..   2.730e-12</td><td>-- .. --</td><td>-- .. --</td><td>True .. True</td></tr>\n",
       "<tr><td>HAWC J1825-134</td><td>276.440</td><td>-13.420</td><td>pl</td><td>1.220 ..      224.060</td><td>8.972e-12 ..   1.087e-12</td><td>-- ..   4.210e-13</td><td>-- ..   4.293e-13</td><td>True .. False</td></tr>\n",
       "<tr><td>eHWC J1825-134</td><td>276.400</td><td>-13.370</td><td>ecpl</td><td>1.334 ..      236.499</td><td>2.410e-11 ..   3.450e-12</td><td>5.600e-12 ..   1.250e-12</td><td>5.600e-12 ..   1.250e-12</td><td>False .. False</td></tr>\n",
       "<tr><td>eHWC J1907+063</td><td>286.910</td><td>6.320</td><td>lp</td><td>1.334 ..      236.499</td><td>1.590e-11 ..   1.250e-12</td><td>1.400e-12 ..   6.100e-13</td><td>1.400e-12 ..   6.100e-13</td><td>False .. False</td></tr>\n",
       "<tr><td>eHWC J2019+368</td><td>304.950</td><td>36.780</td><td>lp</td><td>1.334 ..      236.499</td><td>2.210e-12 ..   2.740e-13</td><td>7.100e-13 .. --</td><td>7.100e-13 .. --</td><td>False .. True</td></tr>\n",
       "</table></div>"
      ],
      "text/plain": [
       "<Table length=8>\n",
       " source_name        ra      ...        e2dnde_errn             is_ul     \n",
       "                   deg      ...       TeV / (s cm2)                      \n",
       "   bytes14       float64    ...        float64[10]            bool[10]   \n",
       "-------------- ------------ ... -------------------------- --------------\n",
       "2HWC J1837-065      279.360 ...            3.974e-12 .. -- False .. False\n",
       "2HWC J1825-134      276.460 ...            3.970e-13 .. -- False .. False\n",
       "HAWC J1825-138      276.380 ...            5.302e-12 .. --  False .. True\n",
       "HAWC J1826-128      276.500 ...                   -- .. --   True .. True\n",
       "HAWC J1825-134      276.440 ...          -- ..   4.293e-13  True .. False\n",
       "eHWC J1825-134      276.400 ...   5.600e-12 ..   1.250e-12 False .. False\n",
       "eHWC J1907+063      286.910 ...   1.400e-12 ..   6.100e-13 False .. False\n",
       "eHWC J2019+368      304.950 ...            7.100e-13 .. --  False .. True"
      ]
     },
     "execution_count": 17,
     "metadata": {},
     "output_type": "execute_result"
    }
   ],
   "source": [
    "catalogHAWC.table"
   ]
  },
  {
   "cell_type": "code",
   "execution_count": 18,
   "id": "7eff1650",
   "metadata": {},
   "outputs": [],
   "source": [
    "source = catalogHAWC[1]"
   ]
  },
  {
   "cell_type": "code",
   "execution_count": 19,
   "id": "e9d15835",
   "metadata": {},
   "outputs": [
    {
     "data": {
      "text/plain": [
       "'\\n*** Basic info ***\\n\\nCatalog row index (zero-based) : 1\\nSource name : 2HWC J1825-134\\n\\n*** Position info ***\\n\\nRA: 276.460 deg\\nDEC: -13.400 deg\\n\\n*** Spectral info ***\\n\\nSpectrum type:  PowerLawSpectralModel\\nindex: 2.58 +- 0 \\namplitude: 1.38e-13 +- 0 TeV⁻¹ s⁻¹ cm⁻²\\nreference: 7.0 +- 0 TeV\\n'"
      ]
     },
     "execution_count": 19,
     "metadata": {},
     "output_type": "execute_result"
    }
   ],
   "source": [
    "source.info()"
   ]
  },
  {
   "cell_type": "code",
   "execution_count": 20,
   "id": "027dae22",
   "metadata": {},
   "outputs": [
    {
     "name": "stdout",
     "output_type": "stream",
     "text": [
      "Number of sources : 3389\n"
     ]
    }
   ],
   "source": [
    "catalogATNF = SourceCatalogATNF()\n",
    "print(\"Number of sources :\", len(catalogATNF.table))"
   ]
  },
  {
   "cell_type": "code",
   "execution_count": 21,
   "id": "73dc0c42",
   "metadata": {},
   "outputs": [
    {
     "data": {
      "text/html": [
       "<div><i>Table length=3389</i>\n",
       "<table id=\"table139727123818816\" class=\"table-striped table-bordered table-condensed\">\n",
       "<thead><tr><th>JNAME</th><th>RAJ2000</th><th>RAJ2000_ERR</th><th>DEJ2000</th><th>DEJ2000_ERR</th><th>DIST</th><th>DIST_DM</th><th>AGE</th><th>P0</th><th>P0_ERR</th><th>BSURF</th><th>EDOT</th><th>TYPE</th><th>ASSOC</th></tr></thead>\n",
       "<thead><tr><th></th><th>deg</th><th>deg</th><th>deg</th><th>deg</th><th>kpc</th><th>kpc</th><th>yr</th><th>s</th><th>s</th><th>G</th><th>erg / s</th><th></th><th></th></tr></thead>\n",
       "<thead><tr><th>bytes16</th><th>float64</th><th>float64</th><th>float64</th><th>float64</th><th>float64</th><th>float64</th><th>float64</th><th>float64</th><th>float64</th><th>float64</th><th>float64</th><th>bytes7</th><th>bytes12</th></tr></thead>\n",
       "<tr><td>PSR J0002+6216</td><td>0.742</td><td>0.000</td><td>62.269</td><td>0.000</td><td>6.357</td><td>6.357</td><td>3.063e+05</td><td>0.115</td><td>1.331e-12</td><td>8.396e+11</td><td>1.534e+35</td><td>HE</td><td>GRS</td></tr>\n",
       "<tr><td>PSR J0006+1834</td><td>1.520</td><td>0.001</td><td>18.583</td><td>0.001</td><td>0.860</td><td>0.860</td><td>5.242e+06</td><td>0.694</td><td>1.400e-10</td><td>1.221e+12</td><td>2.479e+32</td><td>None</td><td>None</td></tr>\n",
       "<tr><td>PSR J0007+7303</td><td>1.757</td><td>0.001</td><td>73.052</td><td>0.000</td><td>1.400</td><td>--</td><td>1.389e+04</td><td>0.316</td><td>2.993e-10</td><td>1.080e+13</td><td>4.514e+35</td><td>NRAD</td><td>GRS</td></tr>\n",
       "<tr><td>PSR J0011+08</td><td>2.892</td><td>0.475</td><td>8.167</td><td>0.133</td><td>5.399</td><td>5.399</td><td>--</td><td>2.553</td><td>--</td><td>--</td><td>--</td><td>None</td><td>None</td></tr>\n",
       "<tr><td>PSR J0012+5431</td><td>3.097</td><td>0.000</td><td>54.530</td><td>0.001</td><td>5.425</td><td>5.425</td><td>3.741e+08</td><td>3.025</td><td>1.830e-10</td><td>6.300e+11</td><td>1.827e+29</td><td>RRAT</td><td>None</td></tr>\n",
       "<tr><td>PSR J0014+4746</td><td>3.574</td><td>0.000</td><td>47.776</td><td>0.000</td><td>1.776</td><td>1.776</td><td>3.483e+07</td><td>1.241</td><td>1.078e-11</td><td>8.468e+11</td><td>1.167e+31</td><td>None</td><td>None</td></tr>\n",
       "<tr><td>...</td><td>...</td><td>...</td><td>...</td><td>...</td><td>...</td><td>...</td><td>...</td><td>...</td><td>...</td><td>...</td><td>...</td><td>...</td><td>...</td></tr>\n",
       "<tr><td>PSR J2352+65</td><td>358.000</td><td>--</td><td>65.000</td><td>--</td><td>3.058</td><td>3.058</td><td>--</td><td>1.164</td><td>--</td><td>--</td><td>--</td><td>None</td><td>None</td></tr>\n",
       "<tr><td>PSR J2354+6155</td><td>358.520</td><td>0.000</td><td>61.930</td><td>0.000</td><td>2.439</td><td>2.399</td><td>9.205e+05</td><td>0.945</td><td>1.071e-11</td><td>3.967e+12</td><td>7.613e+32</td><td>None</td><td>None</td></tr>\n",
       "<tr><td>PSR J2354-22</td><td>358.608</td><td>--</td><td>-22.865</td><td>--</td><td>1.108</td><td>1.108</td><td>--</td><td>0.558</td><td>--</td><td>--</td><td>--</td><td>None</td><td>None</td></tr>\n",
       "<tr><td>PSR J2355+0051</td><td>358.964</td><td>0.000</td><td>0.853</td><td>0.000</td><td>0.958</td><td>0.958</td><td>1.828e+10</td><td>0.004</td><td>1.245e-15</td><td>1.108e+08</td><td>2.473e+33</td><td>None</td><td>None</td></tr>\n",
       "<tr><td>PSR J2355+1523</td><td>358.953</td><td>0.000</td><td>15.388</td><td>0.001</td><td>3.444</td><td>3.444</td><td>4.136e+07</td><td>1.094</td><td>1.078e-10</td><td>6.854e+11</td><td>1.263e+31</td><td>RRAT</td><td>None</td></tr>\n",
       "<tr><td>PSR J2355+2246</td><td>358.957</td><td>0.001</td><td>22.771</td><td>0.002</td><td>2.163</td><td>2.163</td><td>7.717e+06</td><td>1.841</td><td>3.000e-10</td><td>2.669e+12</td><td>2.392e+31</td><td>None</td><td>None</td></tr>\n",
       "</table></div>"
      ],
      "text/plain": [
       "<Table length=3389>\n",
       "    JNAME        RAJ2000    RAJ2000_ERR  ...     EDOT     TYPE   ASSOC \n",
       "                   deg          deg      ...   erg / s                 \n",
       "   bytes16       float64      float64    ...   float64   bytes7 bytes12\n",
       "-------------- ------------ ------------ ... ----------- ------ -------\n",
       "PSR J0002+6216        0.742        0.000 ...   1.534e+35     HE     GRS\n",
       "PSR J0006+1834        1.520        0.001 ...   2.479e+32   None    None\n",
       "PSR J0007+7303        1.757        0.001 ...   4.514e+35   NRAD     GRS\n",
       "  PSR J0011+08        2.892        0.475 ...          --   None    None\n",
       "PSR J0012+5431        3.097        0.000 ...   1.827e+29   RRAT    None\n",
       "PSR J0014+4746        3.574        0.000 ...   1.167e+31   None    None\n",
       "           ...          ...          ... ...         ...    ...     ...\n",
       "  PSR J2352+65      358.000           -- ...          --   None    None\n",
       "PSR J2354+6155      358.520        0.000 ...   7.613e+32   None    None\n",
       "  PSR J2354-22      358.608           -- ...          --   None    None\n",
       "PSR J2355+0051      358.964        0.000 ...   2.473e+33   None    None\n",
       "PSR J2355+1523      358.953        0.000 ...   1.263e+31   RRAT    None\n",
       "PSR J2355+2246      358.957        0.001 ...   2.392e+31   None    None"
      ]
     },
     "execution_count": 21,
     "metadata": {},
     "output_type": "execute_result"
    }
   ],
   "source": [
    "catalogATNF.table"
   ]
  },
  {
   "cell_type": "code",
   "execution_count": 22,
   "id": "e969ca76",
   "metadata": {},
   "outputs": [
    {
     "data": {
      "text/plain": [
       "['JNAME',\n",
       " 'RAJ2000',\n",
       " 'RAJ2000_ERR',\n",
       " 'DEJ2000',\n",
       " 'DEJ2000_ERR',\n",
       " 'DIST',\n",
       " 'DIST_DM',\n",
       " 'AGE',\n",
       " 'P0',\n",
       " 'P0_ERR',\n",
       " 'BSURF',\n",
       " 'EDOT',\n",
       " 'TYPE',\n",
       " 'ASSOC']"
      ]
     },
     "execution_count": 22,
     "metadata": {},
     "output_type": "execute_result"
    }
   ],
   "source": [
    "catalogATNF.PSR_PARAMS"
   ]
  },
  {
   "cell_type": "code",
   "execution_count": 23,
   "id": "b551fe63",
   "metadata": {},
   "outputs": [
    {
     "name": "stdout",
     "output_type": "stream",
     "text": [
      "\n",
      "*** The Pulsar Parameters ***\n",
      "\n",
      "JNAME: Pulsar name based on J2000 coordinates\n",
      "RAJ2000: Right ascension (J2000) (deg)\n",
      "RAJ2000_ERR: Right ascension (J2000) error (deg)\n",
      "DEJ2000: Declination (J2000) (deg)\n",
      "DEJ2000_ERR: Declination (J2000) error (deg)\n",
      "DIST: Best estimate of the pulsar distance using the YMW16 DM-based distance as default (kpc)\n",
      "DIST_DM: Distance based on the YMW16 electron density model (kpc)\n",
      "AGE: Spin down age (yr)\n",
      "P0: Barycentric period of the pulsar (s)\n",
      "P0_ERR: Barycentric period of the pulsar error (s)\n",
      "BSURF: Surface magnetic flux density (G)\n",
      "EDOT: Spin down energy loss rate (erg / s)\n",
      "TYPE: Type codes for the pulsar\n",
      "ASSOC: Names of other objects, e.g., supernova remnant, globular cluster or gamma-ray source\n",
      "\n"
     ]
    }
   ],
   "source": [
    "catalogATNF.PSR_PARAMS_DESCRIPTION"
   ]
  },
  {
   "cell_type": "code",
   "execution_count": 24,
   "id": "ded751cc",
   "metadata": {},
   "outputs": [],
   "source": [
    "a=catalogATNF[1]"
   ]
  },
  {
   "cell_type": "code",
   "execution_count": 25,
   "id": "dc64a33c",
   "metadata": {},
   "outputs": [
    {
     "data": {
      "text/latex": [
       "$1.2205342 \\times 10^{12} \\; \\mathrm{G}$"
      ],
      "text/plain": [
       "<Quantity 1.22053423e+12 G>"
      ]
     },
     "execution_count": 25,
     "metadata": {},
     "output_type": "execute_result"
    }
   ],
   "source": [
    "a.data.BSURF"
   ]
  },
  {
   "cell_type": "code",
   "execution_count": 26,
   "id": "f5639cef",
   "metadata": {},
   "outputs": [
    {
     "data": {
      "text/plain": [
       "'extraHAWC'"
      ]
     },
     "execution_count": 26,
     "metadata": {},
     "output_type": "execute_result"
    }
   ],
   "source": [
    "catalogHAWC.tag"
   ]
  },
  {
   "cell_type": "code",
   "execution_count": 27,
   "id": "0ed8fcec",
   "metadata": {},
   "outputs": [
    {
     "data": {
      "text/plain": [
       "'PSR J0006+1834'"
      ]
     },
     "execution_count": 27,
     "metadata": {},
     "output_type": "execute_result"
    }
   ],
   "source": [
    "source = catalogATNF[1]\n",
    "source.data.JNAME"
   ]
  },
  {
   "cell_type": "code",
   "execution_count": 28,
   "id": "52bcad75",
   "metadata": {},
   "outputs": [
    {
     "data": {
      "text/plain": [
       "(1, 'PSR J0006+1834')"
      ]
     },
     "execution_count": 28,
     "metadata": {},
     "output_type": "execute_result"
    }
   ],
   "source": [
    "source.row_index, source.name"
   ]
  },
  {
   "cell_type": "code",
   "execution_count": 29,
   "id": "e6cbcc38",
   "metadata": {},
   "outputs": [
    {
     "data": {
      "text/plain": [
       "<_io.BufferedReader name='/home/born-again/Documents/GitHub/feupy/data/catalogs/extraHAWC/extraHAWC.pkl'>"
      ]
     },
     "execution_count": 29,
     "metadata": {},
     "output_type": "execute_result"
    }
   ],
   "source": [
    "source = catalogHAWC[2]\n",
    "source.fp"
   ]
  },
  {
   "cell_type": "code",
   "execution_count": 30,
   "id": "b824722e",
   "metadata": {},
   "outputs": [
    {
     "name": "stdout",
     "output_type": "stream",
     "text": [
      "\n",
      "*** Basic info ***\n",
      "\n",
      "Catalog row index (zero-based) : 2\n",
      "Source name : HAWC J1825-138\n",
      "\n",
      "*** Position info ***\n",
      "\n",
      "RA: 276.380 deg\n",
      "DEC: -13.860 deg\n",
      "\n",
      "*** Spectral info ***\n",
      "\n",
      "Spectrum type:  ExpCutoffPowerLawSpectralModel\n",
      "index: 2.02 +- 0 \n",
      "amplitude: 2.7e-14 +- 0 TeV⁻¹ s⁻¹ cm⁻²\n",
      "reference: 18.0 +- 0 TeV\n",
      "lambda_: 0.037 +- 0 TeV⁻¹\n",
      "alpha: 1.0 +- 0 \n",
      "\n"
     ]
    }
   ],
   "source": [
    "print(source)"
   ]
  },
  {
   "cell_type": "code",
   "execution_count": 31,
   "id": "0936f683",
   "metadata": {},
   "outputs": [
    {
     "data": {
      "text/latex": [
       "$[5.3017 \\times 10^{-12},~1.7058 \\times 10^{-12},~1.6873 \\times 10^{-12},~1.4006 \\times 10^{-12},~1.0766 \\times 10^{-12},~9.1824 \\times 10^{-13},~7.6535 \\times 10^{-13},~7.2337 \\times 10^{-13},~{\\rm NaN},~{\\rm NaN}] \\; \\mathrm{\\frac{TeV}{s\\,cm^{2}}}$"
      ],
      "text/plain": [
       "<Quantity [5.3017e-12, 1.7058e-12, 1.6873e-12, 1.4006e-12, 1.0766e-12,\n",
       "           9.1824e-13, 7.6535e-13, 7.2337e-13,        nan,        nan] TeV / (s cm2)>"
      ]
     },
     "execution_count": 31,
     "metadata": {},
     "output_type": "execute_result"
    }
   ],
   "source": [
    "source.data['e2dnde_errn']"
   ]
  },
  {
   "cell_type": "code",
   "execution_count": 32,
   "id": "466bd8c6",
   "metadata": {},
   "outputs": [
    {
     "data": {
      "text/plain": [
       "<SkyCoord (Galactic): (l, b) in deg\n",
       "    (17.67348511, -0.6716643)>"
      ]
     },
     "execution_count": 32,
     "metadata": {},
     "output_type": "execute_result"
    }
   ],
   "source": [
    "source.position.galactic"
   ]
  },
  {
   "cell_type": "code",
   "execution_count": 33,
   "id": "76c3e737",
   "metadata": {},
   "outputs": [
    {
     "data": {
      "text/plain": [
       "dict_values(['PSR J0002+6216', <Quantity 0.742375 deg>, <Quantity 8.33333333e-05 deg>, <Quantity 62.26927778 deg>, <Quantity 2.77777778e-05 deg>, <Quantity 6.357 kpc>, <Quantity 6.357 kpc>, <Quantity 306320.67333894 yr>, <Quantity 0.11536357 s>, <Quantity 1.33087529e-12 s>, <Quantity 8.39582782e+11 G>, <Quantity 1.53430643e+35 erg / s>, 'HE', 'GRS', 0])"
      ]
     },
     "execution_count": 33,
     "metadata": {},
     "output_type": "execute_result"
    }
   ],
   "source": [
    "catalogATNF['PSR J0002+6216'].data.values()"
   ]
  },
  {
   "cell_type": "code",
   "execution_count": 34,
   "id": "206e3c2d",
   "metadata": {},
   "outputs": [
    {
     "data": {
      "text/html": [
       "<div><i>Table length=90</i>\n",
       "<table id=\"table139727355281312\" class=\"table-striped table-bordered table-condensed\">\n",
       "<thead><tr><th>Source_Name</th><th>Model_a</th><th>RAJ2000</th><th>DECJ2000</th><th>pos_err</th><th>r39</th><th>r39_err</th><th>r39_ul</th><th>N0</th><th>N0_err</th><th>N0_ul</th><th>gamma</th><th>gamma_err</th><th>gamma_ul</th><th>E0</th><th>TS</th><th>TS100</th><th>Model_b</th><th>RAJ2000_b</th><th>DECJ2000_b</th><th>pos_err_b</th><th>r39_b</th><th>r39_err_b</th><th>r39_ul_b</th><th>N0_b</th><th>N0_err_b</th><th>N0_ul_b</th><th>gamma_b</th><th>gamma_err_b</th><th>gamma_ul_b</th><th>E0_b</th><th>TS_b</th><th>TS100_b</th><th>ASSO_Name</th><th>ASSO_Sep</th></tr></thead>\n",
       "<thead><tr><th></th><th></th><th>deg</th><th>deg</th><th>deg</th><th>deg</th><th>deg</th><th>deg</th><th>1 / (TeV s cm2)</th><th>1 / (TeV s cm2)</th><th>1 / (TeV s cm2)</th><th></th><th></th><th></th><th>TeV</th><th></th><th></th><th></th><th>deg</th><th>deg</th><th>deg</th><th>deg</th><th>deg</th><th>deg</th><th>1 / (TeV s cm2)</th><th>1 / (TeV s cm2)</th><th>1 / (TeV s cm2)</th><th></th><th></th><th></th><th>TeV</th><th></th><th></th><th></th><th>deg</th></tr></thead>\n",
       "<thead><tr><th>bytes20</th><th>bytes7</th><th>float64</th><th>float64</th><th>float64</th><th>float64</th><th>float64</th><th>float64</th><th>float64</th><th>float64</th><th>float64</th><th>float64</th><th>float64</th><th>float64</th><th>float64</th><th>float64</th><th>float64</th><th>bytes7</th><th>float64</th><th>float64</th><th>float64</th><th>float64</th><th>float64</th><th>float64</th><th>float64</th><th>float64</th><th>float64</th><th>float64</th><th>float64</th><th>float64</th><th>float64</th><th>float64</th><th>float64</th><th>bytes16</th><th>float64</th></tr></thead>\n",
       "<tr><td>1LHAASO J0007+5659u</td><td>KM2A</td><td>1.86</td><td>57.0</td><td>0.12</td><td>--</td><td>--</td><td>0.18</td><td>3.3e-17</td><td>5e-18</td><td>--</td><td>3.1</td><td>0.2</td><td>--</td><td>50.0</td><td>86.5</td><td>43.6</td><td>WCDA</td><td>--</td><td>--</td><td>--</td><td>--</td><td>--</td><td>--</td><td>--</td><td>--</td><td>2.7000000000000002e-14</td><td>--</td><td>--</td><td>--</td><td>3.0</td><td>--</td><td>--</td><td>--</td><td>--</td></tr>\n",
       "<tr><td>1LHAASO J0007+7303u</td><td>KM2A</td><td>1.91</td><td>73.07</td><td>0.07</td><td>0.17</td><td>0.03</td><td>--</td><td>3.41e-16</td><td>2.7e-17</td><td>--</td><td>3.4</td><td>0.12</td><td>--</td><td>50.0</td><td>361.0</td><td>171.6</td><td>WCDA</td><td>1.48</td><td>73.15</td><td>0.1</td><td>--</td><td>--</td><td>0.22</td><td>5.01e-13</td><td>1.1100000000000002e-13</td><td>--</td><td>2.74</td><td>0.11</td><td>--</td><td>3.0</td><td>141.6</td><td>--</td><td>CTA 1</td><td>0.12</td></tr>\n",
       "<tr><td>1LHAASO J0056+6346u</td><td>KM2A</td><td>14.1</td><td>63.77</td><td>0.08</td><td>0.24</td><td>0.03</td><td>--</td><td>1.47e-16</td><td>1e-17</td><td>--</td><td>3.33</td><td>0.1</td><td>--</td><td>50.0</td><td>380.2</td><td>94.1</td><td>WCDA</td><td>13.78</td><td>63.96</td><td>0.15</td><td>0.33</td><td>0.07</td><td>--</td><td>1.45e-13</td><td>4.0999999999999996e-14</td><td>--</td><td>2.35</td><td>0.13</td><td>--</td><td>3.0</td><td>106.1</td><td>--</td><td>--</td><td>--</td></tr>\n",
       "<tr><td>1LHAASO J0206+4302u</td><td>KM2A</td><td>31.7</td><td>43.05</td><td>0.13</td><td>--</td><td>--</td><td>0.27</td><td>2.4e-17</td><td>3e-18</td><td>--</td><td>2.62</td><td>0.16</td><td>--</td><td>50.0</td><td>96.0</td><td>82.8</td><td>WCDA</td><td>--</td><td>--</td><td>--</td><td>--</td><td>--</td><td>--</td><td>--</td><td>--</td><td>9e-15</td><td>--</td><td>--</td><td>--</td><td>3.0</td><td>--</td><td>--</td><td>--</td><td>--</td></tr>\n",
       "<tr><td>1LHAASO J0212+4254u</td><td>KM2A</td><td>33.01</td><td>42.91</td><td>0.2</td><td>--</td><td>--</td><td>0.31</td><td>1.2e-17</td><td>3e-18</td><td>--</td><td>2.45</td><td>0.23</td><td>--</td><td>50.0</td><td>38.4</td><td>30.2</td><td>WCDA</td><td>--</td><td>--</td><td>--</td><td>--</td><td>--</td><td>--</td><td>--</td><td>--</td><td>7.000000000000001e-15</td><td>--</td><td>--</td><td>--</td><td>3.0</td><td>--</td><td>--</td><td>--</td><td>--</td></tr>\n",
       "<tr><td>1LHAASO J0216+4237u</td><td>KM2A</td><td>34.1</td><td>42.63</td><td>0.1</td><td>--</td><td>--</td><td>0.13</td><td>1.8e-17</td><td>3e-18</td><td>--</td><td>2.58</td><td>0.17</td><td>--</td><td>50.0</td><td>102.0</td><td>65.6</td><td>WCDA</td><td>--</td><td>--</td><td>--</td><td>--</td><td>--</td><td>--</td><td>--</td><td>--</td><td>2.0000000000000003e-14</td><td>--</td><td>--</td><td>--</td><td>3.0</td><td>--</td><td>--</td><td>--</td><td>--</td></tr>\n",
       "<tr><td>...</td><td>...</td><td>...</td><td>...</td><td>...</td><td>...</td><td>...</td><td>...</td><td>...</td><td>...</td><td>...</td><td>...</td><td>...</td><td>...</td><td>...</td><td>...</td><td>...</td><td>...</td><td>...</td><td>...</td><td>...</td><td>...</td><td>...</td><td>...</td><td>...</td><td>...</td><td>...</td><td>...</td><td>...</td><td>...</td><td>...</td><td>...</td><td>...</td><td>...</td><td>...</td></tr>\n",
       "<tr><td>1LHAASO J2200+5643u</td><td>KM2A</td><td>330.08</td><td>56.73</td><td>0.13</td><td>0.54</td><td>0.05</td><td>--</td><td>1.7e-16</td><td>1e-17</td><td>--</td><td>3.44</td><td>0.1</td><td>--</td><td>50.0</td><td>368.6</td><td>38.4</td><td>WCDA</td><td>330.38</td><td>56.73</td><td>0.2</td><td>0.43</td><td>0.07</td><td>--</td><td>3.8e-14</td><td>2.4e-14</td><td>--</td><td>1.77</td><td>0.28</td><td>--</td><td>3.0</td><td>75.7</td><td>--</td><td>--</td><td>--</td></tr>\n",
       "<tr><td>1LHAASO J2228+6100u</td><td>KM2A</td><td>337.01</td><td>61.0</td><td>0.04</td><td>0.35</td><td>0.01</td><td>--</td><td>4.759999999999999e-16</td><td>1.4000000000000003e-17</td><td>--</td><td>2.95</td><td>0.04</td><td>--</td><td>50.0</td><td>2180.9</td><td>605.2</td><td>WCDA</td><td>336.79</td><td>61.02</td><td>0.05</td><td>0.25</td><td>0.02</td><td>--</td><td>2.37e-13</td><td>1.6e-14</td><td>--</td><td>2.26</td><td>0.04</td><td>--</td><td>3.0</td><td>576.0</td><td>--</td><td>SNR G106.3+02.7</td><td>0.13</td></tr>\n",
       "<tr><td>1LHAASO J2229+5927u</td><td>WCDA</td><td>337.26</td><td>59.45</td><td>0.36</td><td>1.98</td><td>0.1</td><td>--</td><td>1.4900000000000001e-12</td><td>9.900000000000001e-14</td><td>--</td><td>2.67</td><td>0.05</td><td>--</td><td>3.0</td><td>228.0</td><td>--</td><td>KM2A*</td><td>337.88</td><td>59.55</td><td>0.46</td><td>1.74</td><td>0.16</td><td>--</td><td>4.4299999999999995e-16</td><td>3.6e-17</td><td>--</td><td>3.53</td><td>0.11</td><td>--</td><td>50.0</td><td>163.8</td><td>31.4</td><td>--</td><td>--</td></tr>\n",
       "<tr><td>1LHAASO J2238+5900</td><td>KM2A</td><td>339.54</td><td>59.0</td><td>0.09</td><td>0.43</td><td>0.03</td><td>--</td><td>2.0299999999999997e-16</td><td>1.2e-17</td><td>--</td><td>3.55</td><td>0.09</td><td>--</td><td>50.0</td><td>353.4</td><td>--</td><td>WCDA*</td><td>339.4</td><td>58.92</td><td>0.18</td><td>0.51</td><td>0.04</td><td>--</td><td>1.91e-13</td><td>2.6000000000000003e-14</td><td>--</td><td>2.39</td><td>0.07</td><td>--</td><td>3.0</td><td>110.2</td><td>--</td><td>--</td><td>--</td></tr>\n",
       "<tr><td>1LHAASO J2323+5854</td><td>WCDA</td><td>350.8</td><td>58.9</td><td>0.14</td><td>--</td><td>--</td><td>0.24</td><td>1.1000000000000001e-13</td><td>1.7000000000000003e-14</td><td>--</td><td>3.18</td><td>0.16</td><td>--</td><td>3.0</td><td>50.4</td><td>--</td><td>KM2A</td><td>--</td><td>--</td><td>--</td><td>--</td><td>--</td><td>--</td><td>--</td><td>--</td><td>1.5e-17</td><td>--</td><td>--</td><td>--</td><td>50.0</td><td>--</td><td>--</td><td>Cassiopeia A</td><td>0.1</td></tr>\n",
       "<tr><td>1LHAASO J2346+5138</td><td>WCDA</td><td>356.7</td><td>51.64</td><td>0.12</td><td>--</td><td>--</td><td>0.16</td><td>5.7e-14</td><td>9e-15</td><td>--</td><td>3.26</td><td>0.17</td><td>--</td><td>3.0</td><td>47.6</td><td>--</td><td>KM2A</td><td>--</td><td>--</td><td>--</td><td>--</td><td>--</td><td>--</td><td>--</td><td>--</td><td>7.000000000000001e-18</td><td>--</td><td>--</td><td>--</td><td>50.0</td><td>--</td><td>--</td><td>1ES 2344+514</td><td>0.08</td></tr>\n",
       "</table></div>"
      ],
      "text/plain": [
       "<Table length=90>\n",
       "    Source_Name     Model_a RAJ2000 ... TS100_b    ASSO_Name    ASSO_Sep\n",
       "                              deg   ...                           deg   \n",
       "      bytes20        bytes7 float64 ... float64     bytes16     float64 \n",
       "------------------- ------- ------- ... ------- --------------- --------\n",
       "1LHAASO J0007+5659u    KM2A    1.86 ...      --              --       --\n",
       "1LHAASO J0007+7303u    KM2A    1.91 ...      --           CTA 1     0.12\n",
       "1LHAASO J0056+6346u    KM2A    14.1 ...      --              --       --\n",
       "1LHAASO J0206+4302u    KM2A    31.7 ...      --              --       --\n",
       "1LHAASO J0212+4254u    KM2A   33.01 ...      --              --       --\n",
       "1LHAASO J0216+4237u    KM2A    34.1 ...      --              --       --\n",
       "                ...     ...     ... ...     ...             ...      ...\n",
       "1LHAASO J2200+5643u    KM2A  330.08 ...      --              --       --\n",
       "1LHAASO J2228+6100u    KM2A  337.01 ...      -- SNR G106.3+02.7     0.13\n",
       "1LHAASO J2229+5927u    WCDA  337.26 ...    31.4              --       --\n",
       " 1LHAASO J2238+5900    KM2A  339.54 ...      --              --       --\n",
       " 1LHAASO J2323+5854    WCDA   350.8 ...      --    Cassiopeia A      0.1\n",
       " 1LHAASO J2346+5138    WCDA   356.7 ...      --    1ES 2344+514     0.08"
      ]
     },
     "execution_count": 34,
     "metadata": {},
     "output_type": "execute_result"
    }
   ],
   "source": [
    "from astropy.table import Table\n",
    "from gammapy.utils.scripts import make_path\n",
    "file_name = \"$PYTHONPATH/feupy/data/catalogs/1LHAASO/1LHAASO_catalog.fits\"\n",
    "table = Table.read(make_path(file_name))\n",
    "table"
   ]
  },
  {
   "cell_type": "code",
   "execution_count": 35,
   "id": "3458424f",
   "metadata": {},
   "outputs": [
    {
     "name": "stdout",
     "output_type": "stream",
     "text": [
      "<Table length=90>\n",
      "    name     dtype        unit         class     n_bad\n",
      "----------- ------- --------------- ------------ -----\n",
      "Source_Name bytes20                       Column     0\n",
      "    Model_a  bytes7                       Column     0\n",
      "    RAJ2000 float64             deg       Column     0\n",
      "   DECJ2000 float64             deg       Column     0\n",
      "    pos_err float64             deg       Column     0\n",
      "        r39 float64             deg MaskedColumn    29\n",
      "    r39_err float64             deg MaskedColumn    29\n",
      "     r39_ul float64             deg MaskedColumn    61\n",
      "         N0 float64 1 / (TeV s cm2)       Column     0\n",
      "     N0_err float64 1 / (TeV s cm2)       Column     0\n",
      "      N0_ul float64 1 / (TeV s cm2) MaskedColumn    90\n",
      "      gamma float64                       Column     0\n",
      "  gamma_err float64                       Column     0\n",
      "   gamma_ul float64                 MaskedColumn    90\n",
      "         E0 float64             TeV       Column     0\n",
      "         TS float64                       Column     0\n",
      "      TS100 float64                 MaskedColumn    59\n",
      "    Model_b  bytes7                       Column     0\n",
      "  RAJ2000_b float64             deg MaskedColumn    36\n",
      " DECJ2000_b float64             deg MaskedColumn    36\n",
      "  pos_err_b float64             deg MaskedColumn    36\n",
      "      r39_b float64             deg MaskedColumn    48\n",
      "  r39_err_b float64             deg MaskedColumn    48\n",
      "   r39_ul_b float64             deg MaskedColumn    78\n",
      "       N0_b float64 1 / (TeV s cm2) MaskedColumn    36\n",
      "   N0_err_b float64 1 / (TeV s cm2) MaskedColumn    36\n",
      "    N0_ul_b float64 1 / (TeV s cm2) MaskedColumn    54\n",
      "    gamma_b float64                 MaskedColumn    36\n",
      "gamma_err_b float64                 MaskedColumn    36\n",
      " gamma_ul_b float64                 MaskedColumn    90\n",
      "       E0_b float64             TeV       Column     0\n",
      "       TS_b float64                 MaskedColumn    36\n",
      "    TS100_b float64                 MaskedColumn    77\n",
      "  ASSO_Name bytes16                 MaskedColumn    25\n",
      "   ASSO_Sep float64             deg MaskedColumn    25\n"
     ]
    }
   ],
   "source": [
    "table.info()"
   ]
  },
  {
   "cell_type": "code",
   "execution_count": 36,
   "id": "b1ce86ff",
   "metadata": {},
   "outputs": [
    {
     "data": {
      "text/html": [
       "<div>\n",
       "<style scoped>\n",
       "    .dataframe tbody tr th:only-of-type {\n",
       "        vertical-align: middle;\n",
       "    }\n",
       "\n",
       "    .dataframe tbody tr th {\n",
       "        vertical-align: top;\n",
       "    }\n",
       "\n",
       "    .dataframe thead th {\n",
       "        text-align: right;\n",
       "    }\n",
       "</style>\n",
       "<table border=\"1\" class=\"dataframe\">\n",
       "  <thead>\n",
       "    <tr style=\"text-align: right;\">\n",
       "      <th></th>\n",
       "      <th>Source_Name</th>\n",
       "      <th>Model_a</th>\n",
       "      <th>RAJ2000</th>\n",
       "      <th>DECJ2000</th>\n",
       "      <th>pos_err</th>\n",
       "      <th>r39</th>\n",
       "      <th>r39_err</th>\n",
       "      <th>r39_ul</th>\n",
       "      <th>N0</th>\n",
       "      <th>N0_err</th>\n",
       "      <th>...</th>\n",
       "      <th>N0_err_b</th>\n",
       "      <th>N0_ul_b</th>\n",
       "      <th>gamma_b</th>\n",
       "      <th>gamma_err_b</th>\n",
       "      <th>gamma_ul_b</th>\n",
       "      <th>E0_b</th>\n",
       "      <th>TS_b</th>\n",
       "      <th>TS100_b</th>\n",
       "      <th>ASSO_Name</th>\n",
       "      <th>ASSO_Sep</th>\n",
       "    </tr>\n",
       "  </thead>\n",
       "  <tbody>\n",
       "    <tr>\n",
       "      <th>0</th>\n",
       "      <td>b'1LHAASO J0007+5659u'</td>\n",
       "      <td>b' KM2A'</td>\n",
       "      <td>1.86</td>\n",
       "      <td>57.00</td>\n",
       "      <td>0.12</td>\n",
       "      <td>NaN</td>\n",
       "      <td>NaN</td>\n",
       "      <td>0.18</td>\n",
       "      <td>3.300000e-17</td>\n",
       "      <td>5.000000e-18</td>\n",
       "      <td>...</td>\n",
       "      <td>NaN</td>\n",
       "      <td>2.700000e-14</td>\n",
       "      <td>NaN</td>\n",
       "      <td>NaN</td>\n",
       "      <td>NaN</td>\n",
       "      <td>3.0</td>\n",
       "      <td>NaN</td>\n",
       "      <td>NaN</td>\n",
       "      <td>NaN</td>\n",
       "      <td>NaN</td>\n",
       "    </tr>\n",
       "    <tr>\n",
       "      <th>1</th>\n",
       "      <td>b'1LHAASO J0007+7303u'</td>\n",
       "      <td>b' KM2A'</td>\n",
       "      <td>1.91</td>\n",
       "      <td>73.07</td>\n",
       "      <td>0.07</td>\n",
       "      <td>0.17</td>\n",
       "      <td>0.03</td>\n",
       "      <td>NaN</td>\n",
       "      <td>3.410000e-16</td>\n",
       "      <td>2.700000e-17</td>\n",
       "      <td>...</td>\n",
       "      <td>1.110000e-13</td>\n",
       "      <td>NaN</td>\n",
       "      <td>2.74</td>\n",
       "      <td>0.11</td>\n",
       "      <td>NaN</td>\n",
       "      <td>3.0</td>\n",
       "      <td>141.6</td>\n",
       "      <td>NaN</td>\n",
       "      <td>b'CTA 1'</td>\n",
       "      <td>0.12</td>\n",
       "    </tr>\n",
       "    <tr>\n",
       "      <th>2</th>\n",
       "      <td>b'1LHAASO J0056+6346u'</td>\n",
       "      <td>b' KM2A'</td>\n",
       "      <td>14.10</td>\n",
       "      <td>63.77</td>\n",
       "      <td>0.08</td>\n",
       "      <td>0.24</td>\n",
       "      <td>0.03</td>\n",
       "      <td>NaN</td>\n",
       "      <td>1.470000e-16</td>\n",
       "      <td>1.000000e-17</td>\n",
       "      <td>...</td>\n",
       "      <td>4.100000e-14</td>\n",
       "      <td>NaN</td>\n",
       "      <td>2.35</td>\n",
       "      <td>0.13</td>\n",
       "      <td>NaN</td>\n",
       "      <td>3.0</td>\n",
       "      <td>106.1</td>\n",
       "      <td>NaN</td>\n",
       "      <td>NaN</td>\n",
       "      <td>NaN</td>\n",
       "    </tr>\n",
       "    <tr>\n",
       "      <th>3</th>\n",
       "      <td>b'1LHAASO J0206+4302u'</td>\n",
       "      <td>b' KM2A'</td>\n",
       "      <td>31.70</td>\n",
       "      <td>43.05</td>\n",
       "      <td>0.13</td>\n",
       "      <td>NaN</td>\n",
       "      <td>NaN</td>\n",
       "      <td>0.27</td>\n",
       "      <td>2.400000e-17</td>\n",
       "      <td>3.000000e-18</td>\n",
       "      <td>...</td>\n",
       "      <td>NaN</td>\n",
       "      <td>9.000000e-15</td>\n",
       "      <td>NaN</td>\n",
       "      <td>NaN</td>\n",
       "      <td>NaN</td>\n",
       "      <td>3.0</td>\n",
       "      <td>NaN</td>\n",
       "      <td>NaN</td>\n",
       "      <td>NaN</td>\n",
       "      <td>NaN</td>\n",
       "    </tr>\n",
       "    <tr>\n",
       "      <th>4</th>\n",
       "      <td>b'1LHAASO J0212+4254u'</td>\n",
       "      <td>b' KM2A'</td>\n",
       "      <td>33.01</td>\n",
       "      <td>42.91</td>\n",
       "      <td>0.20</td>\n",
       "      <td>NaN</td>\n",
       "      <td>NaN</td>\n",
       "      <td>0.31</td>\n",
       "      <td>1.200000e-17</td>\n",
       "      <td>3.000000e-18</td>\n",
       "      <td>...</td>\n",
       "      <td>NaN</td>\n",
       "      <td>7.000000e-15</td>\n",
       "      <td>NaN</td>\n",
       "      <td>NaN</td>\n",
       "      <td>NaN</td>\n",
       "      <td>3.0</td>\n",
       "      <td>NaN</td>\n",
       "      <td>NaN</td>\n",
       "      <td>NaN</td>\n",
       "      <td>NaN</td>\n",
       "    </tr>\n",
       "    <tr>\n",
       "      <th>...</th>\n",
       "      <td>...</td>\n",
       "      <td>...</td>\n",
       "      <td>...</td>\n",
       "      <td>...</td>\n",
       "      <td>...</td>\n",
       "      <td>...</td>\n",
       "      <td>...</td>\n",
       "      <td>...</td>\n",
       "      <td>...</td>\n",
       "      <td>...</td>\n",
       "      <td>...</td>\n",
       "      <td>...</td>\n",
       "      <td>...</td>\n",
       "      <td>...</td>\n",
       "      <td>...</td>\n",
       "      <td>...</td>\n",
       "      <td>...</td>\n",
       "      <td>...</td>\n",
       "      <td>...</td>\n",
       "      <td>...</td>\n",
       "      <td>...</td>\n",
       "    </tr>\n",
       "    <tr>\n",
       "      <th>85</th>\n",
       "      <td>b'1LHAASO J2228+6100u'</td>\n",
       "      <td>b' KM2A'</td>\n",
       "      <td>337.01</td>\n",
       "      <td>61.00</td>\n",
       "      <td>0.04</td>\n",
       "      <td>0.35</td>\n",
       "      <td>0.01</td>\n",
       "      <td>NaN</td>\n",
       "      <td>4.760000e-16</td>\n",
       "      <td>1.400000e-17</td>\n",
       "      <td>...</td>\n",
       "      <td>1.600000e-14</td>\n",
       "      <td>NaN</td>\n",
       "      <td>2.26</td>\n",
       "      <td>0.04</td>\n",
       "      <td>NaN</td>\n",
       "      <td>3.0</td>\n",
       "      <td>576.0</td>\n",
       "      <td>NaN</td>\n",
       "      <td>b'SNR G106.3+02.7'</td>\n",
       "      <td>0.13</td>\n",
       "    </tr>\n",
       "    <tr>\n",
       "      <th>86</th>\n",
       "      <td>b'1LHAASO J2229+5927u'</td>\n",
       "      <td>b' WCDA'</td>\n",
       "      <td>337.26</td>\n",
       "      <td>59.45</td>\n",
       "      <td>0.36</td>\n",
       "      <td>1.98</td>\n",
       "      <td>0.10</td>\n",
       "      <td>NaN</td>\n",
       "      <td>1.490000e-12</td>\n",
       "      <td>9.900000e-14</td>\n",
       "      <td>...</td>\n",
       "      <td>3.600000e-17</td>\n",
       "      <td>NaN</td>\n",
       "      <td>3.53</td>\n",
       "      <td>0.11</td>\n",
       "      <td>NaN</td>\n",
       "      <td>50.0</td>\n",
       "      <td>163.8</td>\n",
       "      <td>31.4</td>\n",
       "      <td>NaN</td>\n",
       "      <td>NaN</td>\n",
       "    </tr>\n",
       "    <tr>\n",
       "      <th>87</th>\n",
       "      <td>b'1LHAASO J2238+5900'</td>\n",
       "      <td>b' KM2A'</td>\n",
       "      <td>339.54</td>\n",
       "      <td>59.00</td>\n",
       "      <td>0.09</td>\n",
       "      <td>0.43</td>\n",
       "      <td>0.03</td>\n",
       "      <td>NaN</td>\n",
       "      <td>2.030000e-16</td>\n",
       "      <td>1.200000e-17</td>\n",
       "      <td>...</td>\n",
       "      <td>2.600000e-14</td>\n",
       "      <td>NaN</td>\n",
       "      <td>2.39</td>\n",
       "      <td>0.07</td>\n",
       "      <td>NaN</td>\n",
       "      <td>3.0</td>\n",
       "      <td>110.2</td>\n",
       "      <td>NaN</td>\n",
       "      <td>NaN</td>\n",
       "      <td>NaN</td>\n",
       "    </tr>\n",
       "    <tr>\n",
       "      <th>88</th>\n",
       "      <td>b'1LHAASO J2323+5854'</td>\n",
       "      <td>b' WCDA'</td>\n",
       "      <td>350.80</td>\n",
       "      <td>58.90</td>\n",
       "      <td>0.14</td>\n",
       "      <td>NaN</td>\n",
       "      <td>NaN</td>\n",
       "      <td>0.24</td>\n",
       "      <td>1.100000e-13</td>\n",
       "      <td>1.700000e-14</td>\n",
       "      <td>...</td>\n",
       "      <td>NaN</td>\n",
       "      <td>1.500000e-17</td>\n",
       "      <td>NaN</td>\n",
       "      <td>NaN</td>\n",
       "      <td>NaN</td>\n",
       "      <td>50.0</td>\n",
       "      <td>NaN</td>\n",
       "      <td>NaN</td>\n",
       "      <td>b'Cassiopeia A'</td>\n",
       "      <td>0.10</td>\n",
       "    </tr>\n",
       "    <tr>\n",
       "      <th>89</th>\n",
       "      <td>b'1LHAASO J2346+5138'</td>\n",
       "      <td>b' WCDA'</td>\n",
       "      <td>356.70</td>\n",
       "      <td>51.64</td>\n",
       "      <td>0.12</td>\n",
       "      <td>NaN</td>\n",
       "      <td>NaN</td>\n",
       "      <td>0.16</td>\n",
       "      <td>5.700000e-14</td>\n",
       "      <td>9.000000e-15</td>\n",
       "      <td>...</td>\n",
       "      <td>NaN</td>\n",
       "      <td>7.000000e-18</td>\n",
       "      <td>NaN</td>\n",
       "      <td>NaN</td>\n",
       "      <td>NaN</td>\n",
       "      <td>50.0</td>\n",
       "      <td>NaN</td>\n",
       "      <td>NaN</td>\n",
       "      <td>b'1ES 2344+514'</td>\n",
       "      <td>0.08</td>\n",
       "    </tr>\n",
       "  </tbody>\n",
       "</table>\n",
       "<p>90 rows × 35 columns</p>\n",
       "</div>"
      ],
      "text/plain": [
       "               Source_Name   Model_a  RAJ2000  DECJ2000  pos_err   r39  \\\n",
       "0   b'1LHAASO J0007+5659u'  b' KM2A'     1.86     57.00     0.12   NaN   \n",
       "1   b'1LHAASO J0007+7303u'  b' KM2A'     1.91     73.07     0.07  0.17   \n",
       "2   b'1LHAASO J0056+6346u'  b' KM2A'    14.10     63.77     0.08  0.24   \n",
       "3   b'1LHAASO J0206+4302u'  b' KM2A'    31.70     43.05     0.13   NaN   \n",
       "4   b'1LHAASO J0212+4254u'  b' KM2A'    33.01     42.91     0.20   NaN   \n",
       "..                     ...       ...      ...       ...      ...   ...   \n",
       "85  b'1LHAASO J2228+6100u'  b' KM2A'   337.01     61.00     0.04  0.35   \n",
       "86  b'1LHAASO J2229+5927u'  b' WCDA'   337.26     59.45     0.36  1.98   \n",
       "87   b'1LHAASO J2238+5900'  b' KM2A'   339.54     59.00     0.09  0.43   \n",
       "88   b'1LHAASO J2323+5854'  b' WCDA'   350.80     58.90     0.14   NaN   \n",
       "89   b'1LHAASO J2346+5138'  b' WCDA'   356.70     51.64     0.12   NaN   \n",
       "\n",
       "    r39_err  r39_ul            N0        N0_err  ...      N0_err_b  \\\n",
       "0       NaN    0.18  3.300000e-17  5.000000e-18  ...           NaN   \n",
       "1      0.03     NaN  3.410000e-16  2.700000e-17  ...  1.110000e-13   \n",
       "2      0.03     NaN  1.470000e-16  1.000000e-17  ...  4.100000e-14   \n",
       "3       NaN    0.27  2.400000e-17  3.000000e-18  ...           NaN   \n",
       "4       NaN    0.31  1.200000e-17  3.000000e-18  ...           NaN   \n",
       "..      ...     ...           ...           ...  ...           ...   \n",
       "85     0.01     NaN  4.760000e-16  1.400000e-17  ...  1.600000e-14   \n",
       "86     0.10     NaN  1.490000e-12  9.900000e-14  ...  3.600000e-17   \n",
       "87     0.03     NaN  2.030000e-16  1.200000e-17  ...  2.600000e-14   \n",
       "88      NaN    0.24  1.100000e-13  1.700000e-14  ...           NaN   \n",
       "89      NaN    0.16  5.700000e-14  9.000000e-15  ...           NaN   \n",
       "\n",
       "         N0_ul_b  gamma_b  gamma_err_b  gamma_ul_b  E0_b   TS_b TS100_b  \\\n",
       "0   2.700000e-14      NaN          NaN         NaN   3.0    NaN     NaN   \n",
       "1            NaN     2.74         0.11         NaN   3.0  141.6     NaN   \n",
       "2            NaN     2.35         0.13         NaN   3.0  106.1     NaN   \n",
       "3   9.000000e-15      NaN          NaN         NaN   3.0    NaN     NaN   \n",
       "4   7.000000e-15      NaN          NaN         NaN   3.0    NaN     NaN   \n",
       "..           ...      ...          ...         ...   ...    ...     ...   \n",
       "85           NaN     2.26         0.04         NaN   3.0  576.0     NaN   \n",
       "86           NaN     3.53         0.11         NaN  50.0  163.8    31.4   \n",
       "87           NaN     2.39         0.07         NaN   3.0  110.2     NaN   \n",
       "88  1.500000e-17      NaN          NaN         NaN  50.0    NaN     NaN   \n",
       "89  7.000000e-18      NaN          NaN         NaN  50.0    NaN     NaN   \n",
       "\n",
       "             ASSO_Name  ASSO_Sep  \n",
       "0                  NaN       NaN  \n",
       "1             b'CTA 1'      0.12  \n",
       "2                  NaN       NaN  \n",
       "3                  NaN       NaN  \n",
       "4                  NaN       NaN  \n",
       "..                 ...       ...  \n",
       "85  b'SNR G106.3+02.7'      0.13  \n",
       "86                 NaN       NaN  \n",
       "87                 NaN       NaN  \n",
       "88     b'Cassiopeia A'      0.10  \n",
       "89     b'1ES 2344+514'      0.08  \n",
       "\n",
       "[90 rows x 35 columns]"
      ]
     },
     "execution_count": 36,
     "metadata": {},
     "output_type": "execute_result"
    }
   ],
   "source": [
    "table.to_pandas()"
   ]
  },
  {
   "cell_type": "code",
   "execution_count": 37,
   "id": "c501d0b7",
   "metadata": {},
   "outputs": [],
   "source": [
    "from gammapy.catalog import CATALOG_REGISTRY\n",
    "catalog_3hwc = CATALOG_REGISTRY.get_cls(\"3hwc\")()"
   ]
  },
  {
   "cell_type": "code",
   "execution_count": 38,
   "id": "695597cc",
   "metadata": {},
   "outputs": [
    {
     "data": {
      "text/html": [
       "<div><i>Table length=65</i>\n",
       "<table id=\"table139727088855936\" class=\"table-striped table-bordered table-condensed\">\n",
       "<thead><tr><th>source_name</th><th>ra</th><th>dec</th><th>glon</th><th>glat</th><th>pos_err</th><th>search_radius</th><th>ts</th><th>spec0_dnde</th><th>spec0_dnde_errn</th><th>spec0_dnde_errp</th><th>spec0_dnde_sys_errn</th><th>spec0_dnde_sys_errp</th><th>spec0_index</th><th>spec0_index_errn</th><th>spec0_index_errp</th><th>spec0_index_sys_errn</th><th>spec0_index_sys_errp</th><th>spec0_radius</th></tr></thead>\n",
       "<thead><tr><th></th><th>deg</th><th>deg</th><th>deg</th><th>deg</th><th>deg</th><th>deg</th><th></th><th>1 / (TeV s cm2)</th><th>1 / (TeV s cm2)</th><th>1 / (TeV s cm2)</th><th>1 / (TeV s cm2)</th><th>1 / (TeV s cm2)</th><th></th><th></th><th></th><th></th><th></th><th>deg</th></tr></thead>\n",
       "<thead><tr><th>str14</th><th>float64</th><th>float64</th><th>float64</th><th>float64</th><th>float64</th><th>float64</th><th>float64</th><th>float64</th><th>float64</th><th>float64</th><th>float64</th><th>float64</th><th>float64</th><th>float64</th><th>float64</th><th>float64</th><th>float64</th><th>float64</th></tr></thead>\n",
       "<tr><td>3HWC J0534+220</td><td>83.628</td><td>22.024</td><td>184.547</td><td>-5.783</td><td>0.057</td><td>0.0</td><td>35736.5</td><td>2.34e-13</td><td>-1.4e-15</td><td>1.4e-15</td><td>-3.4e-14</td><td>5.52e-14</td><td>-2.58</td><td>-0.005</td><td>0.005</td><td>-0.018</td><td>0.067</td><td>0.000</td></tr>\n",
       "<tr><td>3HWC J0540+228</td><td>85.166</td><td>22.872</td><td>184.583</td><td>-4.129</td><td>0.112</td><td>0.0</td><td>28.8</td><td>4.76e-15</td><td>-7.59e-16</td><td>7.23e-16</td><td>-8.12e-16</td><td>1.13e-15</td><td>-2.84</td><td>-0.142</td><td>0.143</td><td>-0.034</td><td>0.144</td><td>0.000</td></tr>\n",
       "<tr><td>3HWC J0543+231</td><td>85.781</td><td>23.115</td><td>184.674</td><td>-3.519</td><td>0.104</td><td>0.0</td><td>34.2</td><td>4.21e-15</td><td>-9.33e-16</td><td>8.72e-16</td><td>-5.98e-16</td><td>1.86e-15</td><td>-2.13</td><td>-0.163</td><td>0.149</td><td>-0.014</td><td>0.157</td><td>0.000</td></tr>\n",
       "<tr><td>3HWC J0617+224</td><td>94.394</td><td>22.468</td><td>189.184</td><td>3.049</td><td>0.142</td><td>0.0</td><td>32.3</td><td>4.5e-15</td><td>-7.89e-16</td><td>7.9e-16</td><td>-7.74e-16</td><td>1.23e-15</td><td>-3.05</td><td>-0.110</td><td>0.111</td><td>-0.023</td><td>0.057</td><td>0.000</td></tr>\n",
       "<tr><td>3HWC J0621+382</td><td>95.317</td><td>38.206</td><td>175.444</td><td>10.966</td><td>0.301</td><td>0.5</td><td>28.0</td><td>8.95e-15</td><td>-1.51e-15</td><td>1.45e-15</td><td>-1.2e-15</td><td>2.57e-15</td><td>-2.41</td><td>-0.129</td><td>0.125</td><td>-0.014</td><td>0.081</td><td>0.500</td></tr>\n",
       "<tr><td>3HWC J0630+186</td><td>97.690</td><td>18.682</td><td>193.979</td><td>4.020</td><td>0.101</td><td>0.0</td><td>38.9</td><td>5.15e-15</td><td>-9.01e-16</td><td>8.35e-16</td><td>-8.49e-16</td><td>2.15e-15</td><td>-2.21</td><td>-0.143</td><td>0.133</td><td>-0.022</td><td>0.143</td><td>0.000</td></tr>\n",
       "<tr><td>...</td><td>...</td><td>...</td><td>...</td><td>...</td><td>...</td><td>...</td><td>...</td><td>...</td><td>...</td><td>...</td><td>...</td><td>...</td><td>...</td><td>...</td><td>...</td><td>...</td><td>...</td><td>...</td></tr>\n",
       "<tr><td>3HWC J2020+403</td><td>305.156</td><td>40.375</td><td>78.072</td><td>2.186</td><td>0.088</td><td>0.0</td><td>93.9</td><td>1.14e-14</td><td>-1.21e-15</td><td>1.19e-15</td><td>-2.19e-15</td><td>3.37e-15</td><td>-3.11</td><td>-0.075</td><td>0.075</td><td>-0.036</td><td>0.081</td><td>0.000</td></tr>\n",
       "<tr><td>3HWC J2022+431</td><td>305.522</td><td>43.158</td><td>80.522</td><td>3.540</td><td>0.095</td><td>0.0</td><td>29.0</td><td>5.95e-15</td><td>-1.11e-15</td><td>1.1e-15</td><td>-8.62e-16</td><td>2.2e-15</td><td>-2.34</td><td>-0.121</td><td>0.115</td><td>-0.017</td><td>0.097</td><td>0.000</td></tr>\n",
       "<tr><td>3HWC J2023+324</td><td>305.815</td><td>32.443</td><td>71.854</td><td>-2.770</td><td>0.732</td><td>1.0</td><td>30.7</td><td>1.38e-14</td><td>-2e-15</td><td>1.89e-15</td><td>-2.14e-15</td><td>3.15e-15</td><td>-2.70</td><td>-0.122</td><td>0.127</td><td>-0.026</td><td>0.060</td><td>1.000</td></tr>\n",
       "<tr><td>3HWC J2031+415</td><td>307.925</td><td>41.511</td><td>80.210</td><td>1.138</td><td>0.058</td><td>0.0</td><td>556.9</td><td>3.07e-14</td><td>-1.36e-15</td><td>1.35e-15</td><td>-4.86e-15</td><td>1.31e-14</td><td>-2.36</td><td>-0.039</td><td>0.038</td><td>-0.019</td><td>0.136</td><td>0.000</td></tr>\n",
       "<tr><td>3HWC J2043+443</td><td>310.888</td><td>44.301</td><td>83.744</td><td>1.098</td><td>0.241</td><td>0.5</td><td>28.6</td><td>9.67e-15</td><td>-2.19e-15</td><td>2.06e-15</td><td>-1.49e-15</td><td>3.92e-15</td><td>-2.33</td><td>-0.150</td><td>0.140</td><td>-0.015</td><td>0.112</td><td>0.500</td></tr>\n",
       "<tr><td>3HWC J2227+610</td><td>336.962</td><td>61.048</td><td>106.422</td><td>2.866</td><td>0.194</td><td>0.0</td><td>52.5</td><td>3.08e-14</td><td>-5.82e-15</td><td>5.87e-15</td><td>-4.11e-15</td><td>1.31e-14</td><td>-2.43</td><td>-0.102</td><td>0.097</td><td>-0.022</td><td>0.103</td><td>0.000</td></tr>\n",
       "</table></div>"
      ],
      "text/plain": [
       "<Table length=65>\n",
       " source_name      ra     dec   ... spec0_index_sys_errp spec0_radius\n",
       "                 deg     deg   ...                          deg     \n",
       "    str14      float64 float64 ...       float64          float64   \n",
       "-------------- ------- ------- ... -------------------- ------------\n",
       "3HWC J0534+220  83.628  22.024 ...                0.067        0.000\n",
       "3HWC J0540+228  85.166  22.872 ...                0.144        0.000\n",
       "3HWC J0543+231  85.781  23.115 ...                0.157        0.000\n",
       "3HWC J0617+224  94.394  22.468 ...                0.057        0.000\n",
       "3HWC J0621+382  95.317  38.206 ...                0.081        0.500\n",
       "3HWC J0630+186  97.690  18.682 ...                0.143        0.000\n",
       "           ...     ...     ... ...                  ...          ...\n",
       "3HWC J2020+403 305.156  40.375 ...                0.081        0.000\n",
       "3HWC J2022+431 305.522  43.158 ...                0.097        0.000\n",
       "3HWC J2023+324 305.815  32.443 ...                0.060        1.000\n",
       "3HWC J2031+415 307.925  41.511 ...                0.136        0.000\n",
       "3HWC J2043+443 310.888  44.301 ...                0.112        0.500\n",
       "3HWC J2227+610 336.962  61.048 ...                0.103        0.000"
      ]
     },
     "execution_count": 38,
     "metadata": {},
     "output_type": "execute_result"
    }
   ],
   "source": [
    "catalog_3hwc.table"
   ]
  },
  {
   "cell_type": "code",
   "execution_count": 39,
   "id": "afe11d04",
   "metadata": {},
   "outputs": [],
   "source": [
    "catalog_2hwc = CATALOG_REGISTRY.get_cls(\"2hwc\")()"
   ]
  },
  {
   "cell_type": "code",
   "execution_count": 40,
   "id": "d288aa3c",
   "metadata": {},
   "outputs": [
    {
     "name": "stdout",
     "output_type": "stream",
     "text": [
      "\n",
      "*** Basic info ***\n",
      "\n",
      "Catalog row index (zero-based) : 13\n",
      "Source name : 2HWC J1825-134\n",
      "\n",
      "*** Position info ***\n",
      "\n",
      "RA: 276.460 deg\n",
      "DEC: -13.401 deg\n",
      "GLON: 18.115 deg\n",
      "GLAT: -0.526 deg\n",
      "Position error: 0.086 deg\n",
      "\n",
      "*** Spectral info ***\n",
      "\n",
      "Spectrum 0:\n",
      "Flux at 7 TeV: 1.38e-13 +- 8.1e-15 cm-2 s-1 TeV-1\n",
      "Spectral index: -2.580 +- 0.040\n",
      "Test Radius: 0.0 deg\n",
      "\n",
      "Spectrum 1:\n",
      "Flux at 7 TeV: 2.49e-13 +- 1.14e-14 cm-2 s-1 TeV-1\n",
      "Spectral index: -2.560 +- 0.030\n",
      "Test Radius: 0.9 deg\n",
      "\n",
      "\n"
     ]
    }
   ],
   "source": [
    "source = catalog_2hwc[\"2HWC J1825-134\"]\n",
    "print(source.info())"
   ]
  },
  {
   "cell_type": "code",
   "execution_count": null,
   "id": "44f642c2",
   "metadata": {},
   "outputs": [],
   "source": []
  }
 ],
 "metadata": {
  "ipub": {
   "titlepage": {
    "author": "R. P. Costa Jr.",
    "email": "rubensp@utfpr.edu.br",
    "institution": [
     "Federal University of Technology – Paraná (UTFPR) "
    ],
    "tagline": "A TeV Astronomy Python package based on Gammapy.",
    "title": "feupy"
   }
  },
  "kernelspec": {
   "display_name": "Python 3 (ipykernel)",
   "language": "python",
   "name": "python3"
  },
  "language_info": {
   "codemirror_mode": {
    "name": "ipython",
    "version": 3
   },
   "file_extension": ".py",
   "mimetype": "text/x-python",
   "name": "python",
   "nbconvert_exporter": "python",
   "pygments_lexer": "ipython3",
   "version": "3.9.18"
  }
 },
 "nbformat": 4,
 "nbformat_minor": 5
}
