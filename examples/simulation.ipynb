{
 "cells": [
  {
   "cell_type": "code",
   "execution_count": 14,
   "id": "79d320f4",
   "metadata": {},
   "outputs": [
    {
     "data": {
      "text/plain": [
       "'Feupy target examples.'"
      ]
     },
     "execution_count": 14,
     "metadata": {},
     "output_type": "execute_result"
    }
   ],
   "source": [
    "# Licensed under a 3-clause BSD style license - see LICENSE.rst\n",
    "\"\"\"Feupy target examples.\"\"\""
   ]
  },
  {
   "cell_type": "code",
   "execution_count": 1,
   "id": "58c40608",
   "metadata": {},
   "outputs": [
    {
     "name": "stdout",
     "output_type": "stream",
     "text": [
      "SkyModel\n",
      "\n",
      "  Name                      : PSR J1826-1256\n",
      "  Datasets names            : None\n",
      "  Spectral model type       : ExpCutoffPowerLawSpectralModel\n",
      "  Spatial  model type       : \n",
      "  Temporal model type       : \n",
      "  Parameters:\n",
      "    index                         :      1.500   +/-    0.00             \n",
      "    amplitude                     :   1.00e-12   +/- 0.0e+00 1 / (TeV s cm2)\n",
      "    reference             (frozen):      1.000       TeV         \n",
      "    lambda_                       :      0.100   +/-    0.00 1 / TeV     \n",
      "    alpha                 (frozen):      1.000                   \n",
      "\n",
      "\n"
     ]
    },
    {
     "ename": "NameError",
     "evalue": "name 'Target' is not defined",
     "output_type": "error",
     "traceback": [
      "\u001b[0;31m---------------------------------------------------------------------------\u001b[0m",
      "\u001b[0;31mNameError\u001b[0m                                 Traceback (most recent call last)",
      "Cell \u001b[0;32mIn[1], line 12\u001b[0m\n\u001b[1;32m     10\u001b[0m model \u001b[38;5;241m=\u001b[39m SkyModel(spectral_model\u001b[38;5;241m=\u001b[39mExpCutoffPowerLawSpectralModel(), name\u001b[38;5;241m=\u001b[39mname)\n\u001b[1;32m     11\u001b[0m \u001b[38;5;28mprint\u001b[39m(model)\n\u001b[0;32m---> 12\u001b[0m target \u001b[38;5;241m=\u001b[39m \u001b[43mTarget\u001b[49m(name, pos_ra, pos_dec, spectral_model\u001b[38;5;241m=\u001b[39mmodel\u001b[38;5;241m.\u001b[39mspectral_model)\n\u001b[1;32m     13\u001b[0m config\u001b[38;5;241m=\u001b[39m CounterpartsConfig()\n\u001b[1;32m     14\u001b[0m config\u001b[38;5;241m.\u001b[39mroi\u001b[38;5;241m.\u001b[39mtarget \u001b[38;5;241m=\u001b[39m target\u001b[38;5;241m.\u001b[39mdict\n",
      "\u001b[0;31mNameError\u001b[0m: name 'Target' is not defined"
     ]
    }
   ],
   "source": [
    "from feupy.catalog.pulsar.atnf import SourceCatalogATNF\n",
    "\n",
    "catalog = SourceCatalogATNF()\n",
    "source = catalog['PSR J1826-1256']\n",
    "name = source.name\n",
    "pos_ra = source.position.ra\n",
    "pos_dec = source.position.dec\n",
    "from gammapy.modeling.models import SkyModel\n",
    "from gammapy.modeling.models import ExpCutoffPowerLawSpectralModel\n",
    "model = SkyModel(spectral_model=ExpCutoffPowerLawSpectralModel(), name=name)\n",
    "print(model)\n",
    "target = Target(name, pos_ra, pos_dec, spectral_model=model.spectral_model)\n",
    "config= CounterpartsConfig()\n",
    "config.roi.target = target.dict\n",
    "config.roi.region_radius = 1*u.deg \n",
    "config.roi.region_radius\n",
    "e_edges_min=0.1*u.TeV \n",
    "e_edges_max=100.*u.TeV\n",
    "config.energy_range.min = e_edges_min\n",
    "config.energy_range.max = e_edges_max\n",
    "config.write(\"config.yaml\", overwrite=True)\n",
    "\n",
    "config = CounterpartsConfig.read(\"config.yaml\")\n",
    "print(config)"
   ]
  },
  {
   "cell_type": "code",
   "execution_count": null,
   "id": "77b3a107",
   "metadata": {},
   "outputs": [],
   "source": [
    "# analysis = Counterparts(config)\n",
    "# name = analysis.config.roi.target.name\n",
    "# pos_ra = analysis.config.roi.target.position.lon\n",
    "# pos_ra = analysis.config.roi.target.position.lat\n",
    "# model = analysis.config.roi.target.model\n",
    "# Models.from_dict(analysis.config.roi.target.model)"
   ]
  },
  {
   "cell_type": "code",
   "execution_count": null,
   "id": "ebf07928",
   "metadata": {},
   "outputs": [],
   "source": [
    "# config = SimulationConfig()\n",
    "# print(config)\n",
    "# from feupy.catalog.pulsar.atnf import SourceCatalogATNF\n",
    "\n",
    "# catalog = SourceCatalogATNF()\n",
    "# source = catalog['PSR J1826-1256']\n",
    "# name = source.name\n",
    "# pos_ra = source.position.ra\n",
    "# pos_dec = source.position.dec\n",
    "# from gammapy.modeling.models import SkyModel\n",
    "# from gammapy.modeling.models import ExpCutoffPowerLawSpectralModel\n",
    "# model = SkyModel(spectral_model=ExpCutoffPowerLawSpectralModel(), name=name)\n",
    "# print(model)\n",
    "# target = Target(name, pos_ra, pos_dec, spectral_model=model.spectral_model)\n",
    "\n",
    "# config.observations.target = target.dict\n",
    "\n",
    "# livetime=10*u.h \n",
    "# offset=0.11*u.deg \n",
    "# on_region_radius=0.5*u.deg \n",
    "# n_obs=10\n",
    "\n",
    "# obs_params = ObservationParameters(\n",
    "#     livetime=livetime, \n",
    "#     on_region_radius = on_region_radius,\n",
    "#     offset=offset,\n",
    "#     n_obs=n_obs,\n",
    "# )\n",
    "# print(obs_params)\n",
    "\n",
    "# config.observations.parameters = obs_params.dict\n",
    "\n",
    "# print(config)\n",
    "\n",
    "# irfs_opt = ['South', 'AverageAz', '20deg', '50h']\n",
    "# config.observations.irfs.opt = irfs_opt\n",
    "# print(config)\n",
    "\n",
    "\n",
    "\n",
    "\n",
    "\n",
    "# e_edges_min=0.1*u.TeV \n",
    "# e_edges_max=100.*u.TeV\n",
    "\n",
    "# # We now fix the energy axis for the counts map\n",
    "# config.datasets.geom.axes.energy.min = \".1 TeV\"\n",
    "# config.datasets.geom.axes.energy.max = \"100 TeV\"\n",
    "# config.datasets.geom.axes.energy.nbins = 5\n",
    "# config.datasets.geom.axes.energy.name = 'energy'\n",
    "\n",
    "# # We now fix the energy axis for the IRF maps (exposure, etc)\n",
    "# # config.datasets.geom.axes.energy_true.min = \"0.5 TeV\"\n",
    "# # config.datasets.geom.axes.energy_true.max = \"20 TeV\"\n",
    "# # config.datasets.geom.axes.energy_true.nbins = 20\n",
    "# config.datasets.geom.axes.energy_true.min = .3*e_edges_min\n",
    "# config.datasets.geom.axes.energy_true.max = 3*e_edges_max\n",
    "# config.datasets.geom.axes.energy_true.nbins = 8\n",
    "# config.datasets.geom.axes.energy_true.name = 'energy_true'\n",
    "# print(config)\n",
    "\n",
    "# config.datasets.selection = [\"edisp\", \"background\", \"exposure\"]\n",
    "\n",
    "# config.datasets.safe_mask.methods = [\"bkg-peak\"]\n",
    "# config.datasets.safe_mask.parameters = {'aeff_percent': 10}\n",
    "\n",
    "# config.datasets.acceptance = 1\n",
    "# config.datasets.acceptance_off = 5\n",
    "\n",
    "# config.datasets.alpha = 0.2\n",
    "\n",
    "# config.sensitivity.gamma_min = 5 \n",
    "# config.sensitivity.n_sigma = 3 \n",
    "# config.sensitivity.bkg_syst_fraction = 0.10\n",
    "# print(config)\n",
    "\n",
    "# config.write(\"config.yaml\", overwrite=True)\n",
    "\n",
    "# config = SimulationConfig.read(\"config.yaml\")\n",
    "# print(config)"
   ]
  },
  {
   "cell_type": "code",
   "execution_count": null,
   "id": "841e75a3",
   "metadata": {},
   "outputs": [],
   "source": [
    "# from feupy.catalog.pulsar.atnf import SourceCatalogATNF\n",
    "\n",
    "# catalog = SourceCatalogATNF()\n",
    "# source = catalog['PSR J1826-1256']\n",
    "# name = source.name\n",
    "# pos_ra = source.position.ra\n",
    "# pos_dec = source.position.dec\n",
    "# from gammapy.modeling.models import SkyModel\n",
    "# from gammapy.modeling.models import ExpCutoffPowerLawSpectralModel\n",
    "# model = SkyModel(spectral_model=ExpCutoffPowerLawSpectralModel(), name=name)\n",
    "# print(model)\n",
    "# target = Target(name, pos_ra, pos_dec, spectral_model=model.spectral_model)\n",
    "\n",
    "# config= CounterpartsConfig()\n",
    "# config.roi.target = target.dict\n",
    "# config.roi.region_radius = 0.5*u.deg \n",
    "# config.roi.region_radius\n",
    "# e_edges_min=0.1*u.TeV \n",
    "# e_edges_max=100.*u.TeV\n",
    "# config.roi.energy_range.min = e_edges_min\n",
    "# config.roi.energy_range.max = e_edges_max\n",
    "# config.write(\"config.yaml\", overwrite=True)\n",
    "\n",
    "# config = CounterpartsConfig.read(\"config.yaml\")\n",
    "# print(config)"
   ]
  },
  {
   "cell_type": "code",
   "execution_count": null,
   "id": "8fdd1859",
   "metadata": {},
   "outputs": [],
   "source": [
    "from feupy.target import Target\n",
    "\n",
    "from astropy import units as u\n",
    "from astropy.units import Quantity\n",
    "\n",
    "from gammapy.modeling.models import PowerLawSpectralModel, SkyModel"
   ]
  },
  {
   "cell_type": "code",
   "execution_count": null,
   "id": "aa0bf8ba",
   "metadata": {},
   "outputs": [],
   "source": [
    "name = \"LHAASO J1825-1326\"\n",
    "pos_ra = u.Quantity(\"276.45deg\") \n",
    "pos_dec = -13.45* u.Unit('deg')\n",
    "\n",
    "spectral_model = PowerLawSpectralModel()"
   ]
  },
  {
   "cell_type": "code",
   "execution_count": null,
   "id": "792cdc1b",
   "metadata": {},
   "outputs": [],
   "source": [
    "target = Target(name=name, pos_ra=pos_ra, pos_dec=pos_dec, spectral_model=spectral_model)"
   ]
  },
  {
   "cell_type": "code",
   "execution_count": 2,
   "id": "64644000",
   "metadata": {},
   "outputs": [
    {
     "ename": "NameError",
     "evalue": "name 'target' is not defined",
     "output_type": "error",
     "traceback": [
      "\u001b[0;31m---------------------------------------------------------------------------\u001b[0m",
      "\u001b[0;31mNameError\u001b[0m                                 Traceback (most recent call last)",
      "Cell \u001b[0;32mIn[2], line 1\u001b[0m\n\u001b[0;32m----> 1\u001b[0m \u001b[38;5;28mprint\u001b[39m(\u001b[43mtarget\u001b[49m)\n",
      "\u001b[0;31mNameError\u001b[0m: name 'target' is not defined"
     ]
    }
   ],
   "source": [
    "print(target)"
   ]
  },
  {
   "cell_type": "code",
   "execution_count": 3,
   "id": "af38175f",
   "metadata": {},
   "outputs": [
    {
     "ename": "NameError",
     "evalue": "name 'target' is not defined",
     "output_type": "error",
     "traceback": [
      "\u001b[0;31m---------------------------------------------------------------------------\u001b[0m",
      "\u001b[0;31mNameError\u001b[0m                                 Traceback (most recent call last)",
      "Cell \u001b[0;32mIn[3], line 1\u001b[0m\n\u001b[0;32m----> 1\u001b[0m \u001b[43mtarget\u001b[49m\u001b[38;5;241m.\u001b[39mposition\n",
      "\u001b[0;31mNameError\u001b[0m: name 'target' is not defined"
     ]
    }
   ],
   "source": [
    "target.position"
   ]
  },
  {
   "cell_type": "code",
   "execution_count": 20,
   "id": "f7ca5c2b",
   "metadata": {},
   "outputs": [
    {
     "data": {
      "text/plain": [
       "'LHAASO J1825-1326'"
      ]
     },
     "execution_count": 20,
     "metadata": {},
     "output_type": "execute_result"
    }
   ],
   "source": [
    "target.name"
   ]
  },
  {
   "cell_type": "code",
   "execution_count": 21,
   "id": "fe0d8576",
   "metadata": {},
   "outputs": [
    {
     "name": "stdout",
     "output_type": "stream",
     "text": [
      "PowerLawSpectralModel\n",
      "\n",
      "  type      name     value         unit      ... max frozen is_norm link\n",
      "-------- --------- ---------- -------------- ... --- ------ ------- ----\n",
      "spectral     index 2.0000e+00                ... nan  False   False     \n",
      "spectral amplitude 1.0000e-12 TeV-1 s-1 cm-2 ... nan  False    True     \n",
      "spectral reference 1.0000e+00            TeV ... nan   True   False     \n"
     ]
    }
   ],
   "source": [
    "print(target.spectral_model)"
   ]
  },
  {
   "cell_type": "code",
   "execution_count": 22,
   "id": "21f7f818",
   "metadata": {},
   "outputs": [
    {
     "name": "stdout",
     "output_type": "stream",
     "text": [
      "SkyModel\n",
      "\n",
      "  Name                      : LHAASO J1825-1326\n",
      "  Datasets names            : None\n",
      "  Spectral model type       : PowerLawSpectralModel\n",
      "  Spatial  model type       : \n",
      "  Temporal model type       : \n",
      "  Parameters:\n",
      "    index                         :      2.000   +/-    0.00             \n",
      "    amplitude                     :   1.00e-12   +/- 0.0e+00 1 / (TeV s cm2)\n",
      "    reference             (frozen):      1.000       TeV         \n",
      "\n",
      "\n"
     ]
    }
   ],
   "source": [
    "print(target.sky_model)"
   ]
  },
  {
   "cell_type": "code",
   "execution_count": 23,
   "id": "133f7058",
   "metadata": {},
   "outputs": [
    {
     "data": {
      "text/plain": [
       "{'name': 'LHAASO J1825-1326',\n",
       " 'position': {'lon': <Longitude 276.45 deg>,\n",
       "  'lat': <Latitude -13.45 deg>,\n",
       "  'frame': 'icrs'},\n",
       " 'model': {'name': 'LHAASO J1825-1326',\n",
       "  'type': 'SkyModel',\n",
       "  'spectral': {'type': 'PowerLawSpectralModel',\n",
       "   'parameters': [{'name': 'index', 'value': 2.0},\n",
       "    {'name': 'amplitude', 'value': 1e-12, 'unit': 'TeV-1 s-1 cm-2'},\n",
       "    {'name': 'reference', 'value': 1.0, 'unit': 'TeV'}]}}}"
      ]
     },
     "execution_count": 23,
     "metadata": {},
     "output_type": "execute_result"
    }
   ],
   "source": [
    "target.dict"
   ]
  },
  {
   "cell_type": "code",
   "execution_count": 24,
   "id": "5d4f005e",
   "metadata": {},
   "outputs": [],
   "source": [
    "target_dict = target.dict"
   ]
  },
  {
   "cell_type": "code",
   "execution_count": null,
   "id": "203224af",
   "metadata": {},
   "outputs": [],
   "source": []
  }
 ],
 "metadata": {
  "ipub": {
   "titlepage": {
    "author": "R. P. Costa Jr.",
    "email": "rubensp@utfpr.edu.br",
    "institution": [
     "Federal University of Technology – Paraná (UTFPR) "
    ],
    "tagline": "A TeV Astronomy Python package based on Gammapy.",
    "title": "feupy"
   }
  },
  "kernelspec": {
   "display_name": "Python 3 (ipykernel)",
   "language": "python",
   "name": "python3"
  },
  "language_info": {
   "codemirror_mode": {
    "name": "ipython",
    "version": 3
   },
   "file_extension": ".py",
   "mimetype": "text/x-python",
   "name": "python",
   "nbconvert_exporter": "python",
   "pygments_lexer": "ipython3",
   "version": "3.9.18"
  }
 },
 "nbformat": 4,
 "nbformat_minor": 5
}
