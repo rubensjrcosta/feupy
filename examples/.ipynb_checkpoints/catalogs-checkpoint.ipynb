{
 "cells": [
  {
   "cell_type": "code",
   "execution_count": null,
   "id": "79d320f4",
   "metadata": {},
   "outputs": [],
   "source": [
    "# Licensed under a 3-clause BSD style license - see LICENSE.rst\n",
    "\"\"\"Feupy source catalogs examples.\"\"\""
   ]
  },
  {
   "cell_type": "code",
   "execution_count": 1,
   "id": "bfbba095",
   "metadata": {},
   "outputs": [],
   "source": [
    "from feupy.catalog.lhaaso import SourceCatalogPublishNatureLHAASO\n",
    "from feupy.catalog.hawc import SourceCatalogExtraHAWC\n",
    "from feupy.catalog.pulsar.atnf import SourceCatalogATNF"
   ]
  },
  {
   "cell_type": "code",
   "execution_count": 2,
   "id": "aa0bf8ba",
   "metadata": {},
   "outputs": [
    {
     "name": "stdout",
     "output_type": "stream",
     "text": [
      "Number of sources : 12\n"
     ]
    }
   ],
   "source": [
    "catalogLHAASO = SourceCatalogPublishNatureLHAASO()\n",
    "print(\"Number of sources :\", len(catalogLHAASO.table))"
   ]
  },
  {
   "cell_type": "code",
   "execution_count": 3,
   "id": "20c9f05a",
   "metadata": {},
   "outputs": [
    {
     "name": "stdout",
     "output_type": "stream",
     "text": [
      "Number of sources : 8\n"
     ]
    }
   ],
   "source": [
    "catalogHAWC = SourceCatalogExtraHAWC()\n",
    "print(\"Number of sources :\", len(catalogHAWC.table))"
   ]
  },
  {
   "cell_type": "code",
   "execution_count": 4,
   "id": "027dae22",
   "metadata": {},
   "outputs": [
    {
     "name": "stdout",
     "output_type": "stream",
     "text": [
      "Number of sources : 3389\n"
     ]
    }
   ],
   "source": [
    "catalogATNF = SourceCatalogATNF()\n",
    "print(\"Number of sources :\", len(catalogATNF.table))"
   ]
  },
  {
   "cell_type": "code",
   "execution_count": 5,
   "id": "73dc0c42",
   "metadata": {},
   "outputs": [
    {
     "data": {
      "text/html": [
       "<div><i>Table length=3389</i>\n",
       "<table id=\"table140121267702464\" class=\"table-striped table-bordered table-condensed\">\n",
       "<thead><tr><th>P0</th><th>P0_ERR</th><th>AGE</th><th>DIST</th><th>BSURF</th><th>RAJ2000</th><th>DIST_DM</th><th>DEJ2000</th><th>DECJD_ERR</th><th>EDOT</th><th>RAJD_ERR</th><th>TYPE</th><th>ASSOC</th><th>JNAME</th></tr></thead>\n",
       "<thead><tr><th>s</th><th>s</th><th>yr</th><th>kpc</th><th>G</th><th>deg</th><th>kpc</th><th>deg</th><th>deg</th><th>erg / s</th><th>deg</th><th></th><th></th><th></th></tr></thead>\n",
       "<thead><tr><th>float64</th><th>float64</th><th>float64</th><th>float64</th><th>float64</th><th>float64</th><th>float64</th><th>float64</th><th>float64</th><th>float64</th><th>float64</th><th>bytes7</th><th>bytes12</th><th>bytes16</th></tr></thead>\n",
       "<tr><td>0.11536356826797663</td><td>1.3308752883520106e-12</td><td>306320.673338943</td><td>6.357</td><td>839582781928.5583</td><td>0.742375</td><td>6.357</td><td>62.26927777777777</td><td>2.777777777777778e-05</td><td>1.5343064289991659e+35</td><td>8.333333333333333e-05</td><td>HE</td><td>GRS</td><td>PSR J0002+6216</td></tr>\n",
       "<tr><td>0.69374767047</td><td>1.4e-10</td><td>5241663.591471478</td><td>0.86</td><td>1220534226367.7017</td><td>1.52</td><td>0.86</td><td>18.583055555555557</td><td>0.0011111111111111111</td><td>2.4794397172145643e+32</td><td>0.0008333333333333333</td><td>None</td><td>None</td><td>PSR J0006+1834</td></tr>\n",
       "<tr><td>0.3158731908527248</td><td>2.993276180984457e-10</td><td>13886.907032358007</td><td>1.4</td><td>10796748883638.508</td><td>1.757083333333333</td><td>--</td><td>73.05205555555555</td><td>0.00022222222222222223</td><td>4.514344633110194e+35</td><td>0.0008333333333333333</td><td>NRAD</td><td>GRS</td><td>PSR J0007+7303</td></tr>\n",
       "<tr><td>2.55287</td><td>--</td><td>--</td><td>5.399</td><td>--</td><td>2.891666666666666</td><td>5.399</td><td>8.166666666666666</td><td>0.13333333333333333</td><td>--</td><td>0.475</td><td>None</td><td>None</td><td>PSR J0011+08</td></tr>\n",
       "<tr><td>3.0253007099721887</td><td>1.8304888771516458e-10</td><td>374084274.72983634</td><td>5.425</td><td>630038110115.9003</td><td>3.097083333333333</td><td>5.425</td><td>54.52972222222222</td><td>0.0008333333333333333</td><td>1.826918708078064e+29</td><td>0.00041666666666666664</td><td>RRAT</td><td>None</td><td>PSR J0012+5431</td></tr>\n",
       "<tr><td>1.2406990389455896</td><td>1.077533873668357e-11</td><td>34825753.759158485</td><td>1.776</td><td>846835742960.678</td><td>3.5739583333333327</td><td>1.776</td><td>47.77594444444444</td><td>8.333333333333333e-05</td><td>1.1667890839703214e+31</td><td>0.00016666666666666666</td><td>None</td><td>None</td><td>PSR J0014+4746</td></tr>\n",
       "<tr><td>...</td><td>...</td><td>...</td><td>...</td><td>...</td><td>...</td><td>...</td><td>...</td><td>...</td><td>...</td><td>...</td><td>...</td><td>...</td><td>...</td></tr>\n",
       "<tr><td>1.164</td><td>--</td><td>--</td><td>3.058</td><td>--</td><td>357.99999999999994</td><td>3.058</td><td>65.0</td><td>--</td><td>--</td><td>--</td><td>None</td><td>None</td><td>PSR J2352+65</td></tr>\n",
       "<tr><td>0.944783886655436</td><td>1.071139910980502e-11</td><td>920457.076794578</td><td>2.4390066586091717</td><td>3966557042147.665</td><td>358.51992916666666</td><td>2.399</td><td>61.929679166666666</td><td>2.7777777777777776e-07</td><td>7.613025375740286e+32</td><td>4.1666666666666667e-07</td><td>None</td><td>None</td><td>PSR J2354+6155</td></tr>\n",
       "<tr><td>0.557996</td><td>--</td><td>--</td><td>1.108</td><td>--</td><td>358.60833333333323</td><td>1.108</td><td>-22.864722222222223</td><td>--</td><td>--</td><td>--</td><td>None</td><td>None</td><td>PSR J2354-22</td></tr>\n",
       "<tr><td>0.003718992304493302</td><td>1.2447813384792362e-15</td><td>18284573581.925434</td><td>0.958</td><td>110781147.24766092</td><td>358.9637020833333</td><td>0.958</td><td>0.8526583333333333</td><td>1.1111111111111112e-05</td><td>2.4733773422175808e+33</td><td>5.833333333333333e-06</td><td>None</td><td>None</td><td>PSR J2355+0051</td></tr>\n",
       "<tr><td>1.0943962646965324</td><td>1.0779328657635503e-10</td><td>41364082.04000667</td><td>3.444</td><td>685402846309.037</td><td>358.9525833333333</td><td>3.444</td><td>15.388333333333334</td><td>0.0005555555555555556</td><td>1.2625633517998682e+31</td><td>0.0003333333333333333</td><td>RRAT</td><td>None</td><td>PSR J2355+1523</td></tr>\n",
       "<tr><td>1.8409859072</td><td>3e-10</td><td>7716577.128537481</td><td>2.163</td><td>2669445817153.288</td><td>358.9575</td><td>2.163</td><td>22.77138888888889</td><td>0.0022222222222222222</td><td>2.391663879716564e+31</td><td>0.0012499999999999998</td><td>None</td><td>None</td><td>PSR J2355+2246</td></tr>\n",
       "</table></div>"
      ],
      "text/plain": [
       "<Table length=3389>\n",
       "         P0                  P0_ERR         ...  ASSOC      JNAME     \n",
       "         s                     s            ...                       \n",
       "      float64               float64         ... bytes12    bytes16    \n",
       "-------------------- ---------------------- ... ------- --------------\n",
       " 0.11536356826797663 1.3308752883520106e-12 ...     GRS PSR J0002+6216\n",
       "       0.69374767047                1.4e-10 ...    None PSR J0006+1834\n",
       "  0.3158731908527248  2.993276180984457e-10 ...     GRS PSR J0007+7303\n",
       "             2.55287                     -- ...    None   PSR J0011+08\n",
       "  3.0253007099721887 1.8304888771516458e-10 ...    None PSR J0012+5431\n",
       "  1.2406990389455896  1.077533873668357e-11 ...    None PSR J0014+4746\n",
       "                 ...                    ... ...     ...            ...\n",
       "               1.164                     -- ...    None   PSR J2352+65\n",
       "   0.944783886655436  1.071139910980502e-11 ...    None PSR J2354+6155\n",
       "            0.557996                     -- ...    None   PSR J2354-22\n",
       "0.003718992304493302 1.2447813384792362e-15 ...    None PSR J2355+0051\n",
       "  1.0943962646965324 1.0779328657635503e-10 ...    None PSR J2355+1523\n",
       "        1.8409859072                  3e-10 ...    None PSR J2355+2246"
      ]
     },
     "execution_count": 5,
     "metadata": {},
     "output_type": "execute_result"
    }
   ],
   "source": [
    "catalogATNF.table"
   ]
  },
  {
   "cell_type": "code",
   "execution_count": 6,
   "id": "ded751cc",
   "metadata": {},
   "outputs": [
    {
     "data": {
      "text/plain": [
       "'ATNF'"
      ]
     },
     "execution_count": 6,
     "metadata": {},
     "output_type": "execute_result"
    }
   ],
   "source": [
    "catalogATNF.tag"
   ]
  },
  {
   "cell_type": "code",
   "execution_count": 7,
   "id": "f5639cef",
   "metadata": {},
   "outputs": [
    {
     "data": {
      "text/plain": [
       "'extraHAWC'"
      ]
     },
     "execution_count": 7,
     "metadata": {},
     "output_type": "execute_result"
    }
   ],
   "source": [
    "catalogHAWC.tag"
   ]
  },
  {
   "cell_type": "code",
   "execution_count": 8,
   "id": "0ed8fcec",
   "metadata": {},
   "outputs": [
    {
     "data": {
      "text/latex": [
       "$13886.907 \\; \\mathrm{yr}$"
      ],
      "text/plain": [
       "<Quantity 13886.90703236 yr>"
      ]
     },
     "execution_count": 8,
     "metadata": {},
     "output_type": "execute_result"
    }
   ],
   "source": [
    "source = catalogATNF[2]\n",
    "source.age"
   ]
  },
  {
   "cell_type": "code",
   "execution_count": 9,
   "id": "52bcad75",
   "metadata": {},
   "outputs": [
    {
     "data": {
      "text/plain": [
       "(2, 'PSR J0007+7303')"
      ]
     },
     "execution_count": 9,
     "metadata": {},
     "output_type": "execute_result"
    }
   ],
   "source": [
    "source.row_index, source.name"
   ]
  },
  {
   "cell_type": "code",
   "execution_count": 10,
   "id": "e6cbcc38",
   "metadata": {},
   "outputs": [
    {
     "data": {
      "text/plain": [
       "<feupy.catalog.hawc.SourceCatalogObjectExtraHAWC at 0x7f708669b850>"
      ]
     },
     "execution_count": 10,
     "metadata": {},
     "output_type": "execute_result"
    }
   ],
   "source": [
    "source = catalogHAWC[2]\n",
    "source"
   ]
  },
  {
   "cell_type": "code",
   "execution_count": 11,
   "id": "b824722e",
   "metadata": {},
   "outputs": [
    {
     "name": "stdout",
     "output_type": "stream",
     "text": [
      "<feupy.catalog.hawc.SourceCatalogObjectExtraHAWC object at 0x7f708669b850>\n"
     ]
    }
   ],
   "source": [
    "print(source)"
   ]
  },
  {
   "cell_type": "code",
   "execution_count": 12,
   "id": "0936f683",
   "metadata": {},
   "outputs": [
    {
     "data": {
      "text/latex": [
       "$[5.3017 \\times 10^{-12},~1.7058 \\times 10^{-12},~1.6873 \\times 10^{-12},~1.4006 \\times 10^{-12},~1.0766 \\times 10^{-12},~9.1824 \\times 10^{-13},~7.6535 \\times 10^{-13},~7.2337 \\times 10^{-13},~{\\rm NaN},~{\\rm NaN}] \\; \\mathrm{\\frac{TeV}{s\\,cm^{2}}}$"
      ],
      "text/plain": [
       "<Quantity [5.3017e-12, 1.7058e-12, 1.6873e-12, 1.4006e-12, 1.0766e-12,\n",
       "           9.1824e-13, 7.6535e-13, 7.2337e-13,        nan,        nan] TeV / (s cm2)>"
      ]
     },
     "execution_count": 12,
     "metadata": {},
     "output_type": "execute_result"
    }
   ],
   "source": [
    "source.data['e2dnde_errn']"
   ]
  },
  {
   "cell_type": "code",
   "execution_count": 13,
   "id": "466bd8c6",
   "metadata": {},
   "outputs": [
    {
     "data": {
      "text/plain": [
       "<SkyCoord (Galactic): (l, b) in deg\n",
       "    (17.67348511, -0.6716643)>"
      ]
     },
     "execution_count": 13,
     "metadata": {},
     "output_type": "execute_result"
    }
   ],
   "source": [
    "source.position.galactic"
   ]
  },
  {
   "cell_type": "code",
   "execution_count": 14,
   "id": "76c3e737",
   "metadata": {},
   "outputs": [
    {
     "data": {
      "text/latex": [
       "$0.11536357 \\; \\mathrm{s}$"
      ],
      "text/plain": [
       "<Quantity 0.11536357 s>"
      ]
     },
     "execution_count": 14,
     "metadata": {},
     "output_type": "execute_result"
    }
   ],
   "source": [
    "catalogATNF['PSR J0002+6216'].P_0"
   ]
  },
  {
   "cell_type": "code",
   "execution_count": null,
   "id": "a558e721",
   "metadata": {},
   "outputs": [],
   "source": []
  },
  {
   "cell_type": "code",
   "execution_count": 15,
   "id": "206e3c2d",
   "metadata": {},
   "outputs": [
    {
     "data": {
      "text/html": [
       "<div><i>Table length=90</i>\n",
       "<table id=\"table140121268080256\" class=\"table-striped table-bordered table-condensed\">\n",
       "<thead><tr><th>Source_Name</th><th>Model_a</th><th>RAJ2000</th><th>DECJ2000</th><th>pos_err</th><th>r39</th><th>r39_err</th><th>r39_ul</th><th>N0</th><th>N0_err</th><th>N0_ul</th><th>gamma</th><th>gamma_err</th><th>gamma_ul</th><th>E0</th><th>TS</th><th>TS100</th><th>Model_b</th><th>RAJ2000_b</th><th>DECJ2000_b</th><th>pos_err_b</th><th>r39_b</th><th>r39_err_b</th><th>r39_ul_b</th><th>N0_b</th><th>N0_err_b</th><th>N0_ul_b</th><th>gamma_b</th><th>gamma_err_b</th><th>gamma_ul_b</th><th>E0_b</th><th>TS_b</th><th>TS100_b</th><th>ASSO_Name</th><th>ASSO_Sep</th></tr></thead>\n",
       "<thead><tr><th></th><th></th><th>deg</th><th>deg</th><th>deg</th><th>deg</th><th>deg</th><th>deg</th><th>1 / (TeV s cm2)</th><th>1 / (TeV s cm2)</th><th>1 / (TeV s cm2)</th><th></th><th></th><th></th><th>TeV</th><th></th><th></th><th></th><th>deg</th><th>deg</th><th>deg</th><th>deg</th><th>deg</th><th>deg</th><th>1 / (TeV s cm2)</th><th>1 / (TeV s cm2)</th><th>1 / (TeV s cm2)</th><th></th><th></th><th></th><th>TeV</th><th></th><th></th><th></th><th>deg</th></tr></thead>\n",
       "<thead><tr><th>bytes20</th><th>bytes7</th><th>float64</th><th>float64</th><th>float64</th><th>float64</th><th>float64</th><th>float64</th><th>float64</th><th>float64</th><th>float64</th><th>float64</th><th>float64</th><th>float64</th><th>float64</th><th>float64</th><th>float64</th><th>bytes7</th><th>float64</th><th>float64</th><th>float64</th><th>float64</th><th>float64</th><th>float64</th><th>float64</th><th>float64</th><th>float64</th><th>float64</th><th>float64</th><th>float64</th><th>float64</th><th>float64</th><th>float64</th><th>bytes16</th><th>float64</th></tr></thead>\n",
       "<tr><td>1LHAASO J0007+5659u</td><td>KM2A</td><td>1.86</td><td>57.0</td><td>0.12</td><td>--</td><td>--</td><td>0.18</td><td>3.3e-17</td><td>5e-18</td><td>--</td><td>3.1</td><td>0.2</td><td>--</td><td>50.0</td><td>86.5</td><td>43.6</td><td>WCDA</td><td>--</td><td>--</td><td>--</td><td>--</td><td>--</td><td>--</td><td>--</td><td>--</td><td>2.7000000000000002e-14</td><td>--</td><td>--</td><td>--</td><td>3.0</td><td>--</td><td>--</td><td>--</td><td>--</td></tr>\n",
       "<tr><td>1LHAASO J0007+7303u</td><td>KM2A</td><td>1.91</td><td>73.07</td><td>0.07</td><td>0.17</td><td>0.03</td><td>--</td><td>3.41e-16</td><td>2.7e-17</td><td>--</td><td>3.4</td><td>0.12</td><td>--</td><td>50.0</td><td>361.0</td><td>171.6</td><td>WCDA</td><td>1.48</td><td>73.15</td><td>0.1</td><td>--</td><td>--</td><td>0.22</td><td>5.01e-13</td><td>1.1100000000000002e-13</td><td>--</td><td>2.74</td><td>0.11</td><td>--</td><td>3.0</td><td>141.6</td><td>--</td><td>CTA 1</td><td>0.12</td></tr>\n",
       "<tr><td>1LHAASO J0056+6346u</td><td>KM2A</td><td>14.1</td><td>63.77</td><td>0.08</td><td>0.24</td><td>0.03</td><td>--</td><td>1.47e-16</td><td>1e-17</td><td>--</td><td>3.33</td><td>0.1</td><td>--</td><td>50.0</td><td>380.2</td><td>94.1</td><td>WCDA</td><td>13.78</td><td>63.96</td><td>0.15</td><td>0.33</td><td>0.07</td><td>--</td><td>1.45e-13</td><td>4.0999999999999996e-14</td><td>--</td><td>2.35</td><td>0.13</td><td>--</td><td>3.0</td><td>106.1</td><td>--</td><td>--</td><td>--</td></tr>\n",
       "<tr><td>1LHAASO J0206+4302u</td><td>KM2A</td><td>31.7</td><td>43.05</td><td>0.13</td><td>--</td><td>--</td><td>0.27</td><td>2.4e-17</td><td>3e-18</td><td>--</td><td>2.62</td><td>0.16</td><td>--</td><td>50.0</td><td>96.0</td><td>82.8</td><td>WCDA</td><td>--</td><td>--</td><td>--</td><td>--</td><td>--</td><td>--</td><td>--</td><td>--</td><td>9e-15</td><td>--</td><td>--</td><td>--</td><td>3.0</td><td>--</td><td>--</td><td>--</td><td>--</td></tr>\n",
       "<tr><td>1LHAASO J0212+4254u</td><td>KM2A</td><td>33.01</td><td>42.91</td><td>0.2</td><td>--</td><td>--</td><td>0.31</td><td>1.2e-17</td><td>3e-18</td><td>--</td><td>2.45</td><td>0.23</td><td>--</td><td>50.0</td><td>38.4</td><td>30.2</td><td>WCDA</td><td>--</td><td>--</td><td>--</td><td>--</td><td>--</td><td>--</td><td>--</td><td>--</td><td>7.000000000000001e-15</td><td>--</td><td>--</td><td>--</td><td>3.0</td><td>--</td><td>--</td><td>--</td><td>--</td></tr>\n",
       "<tr><td>1LHAASO J0216+4237u</td><td>KM2A</td><td>34.1</td><td>42.63</td><td>0.1</td><td>--</td><td>--</td><td>0.13</td><td>1.8e-17</td><td>3e-18</td><td>--</td><td>2.58</td><td>0.17</td><td>--</td><td>50.0</td><td>102.0</td><td>65.6</td><td>WCDA</td><td>--</td><td>--</td><td>--</td><td>--</td><td>--</td><td>--</td><td>--</td><td>--</td><td>2.0000000000000003e-14</td><td>--</td><td>--</td><td>--</td><td>3.0</td><td>--</td><td>--</td><td>--</td><td>--</td></tr>\n",
       "<tr><td>...</td><td>...</td><td>...</td><td>...</td><td>...</td><td>...</td><td>...</td><td>...</td><td>...</td><td>...</td><td>...</td><td>...</td><td>...</td><td>...</td><td>...</td><td>...</td><td>...</td><td>...</td><td>...</td><td>...</td><td>...</td><td>...</td><td>...</td><td>...</td><td>...</td><td>...</td><td>...</td><td>...</td><td>...</td><td>...</td><td>...</td><td>...</td><td>...</td><td>...</td><td>...</td></tr>\n",
       "<tr><td>1LHAASO J2200+5643u</td><td>KM2A</td><td>330.08</td><td>56.73</td><td>0.13</td><td>0.54</td><td>0.05</td><td>--</td><td>1.7e-16</td><td>1e-17</td><td>--</td><td>3.44</td><td>0.1</td><td>--</td><td>50.0</td><td>368.6</td><td>38.4</td><td>WCDA</td><td>330.38</td><td>56.73</td><td>0.2</td><td>0.43</td><td>0.07</td><td>--</td><td>3.8e-14</td><td>2.4e-14</td><td>--</td><td>1.77</td><td>0.28</td><td>--</td><td>3.0</td><td>75.7</td><td>--</td><td>--</td><td>--</td></tr>\n",
       "<tr><td>1LHAASO J2228+6100u</td><td>KM2A</td><td>337.01</td><td>61.0</td><td>0.04</td><td>0.35</td><td>0.01</td><td>--</td><td>4.759999999999999e-16</td><td>1.4000000000000003e-17</td><td>--</td><td>2.95</td><td>0.04</td><td>--</td><td>50.0</td><td>2180.9</td><td>605.2</td><td>WCDA</td><td>336.79</td><td>61.02</td><td>0.05</td><td>0.25</td><td>0.02</td><td>--</td><td>2.37e-13</td><td>1.6e-14</td><td>--</td><td>2.26</td><td>0.04</td><td>--</td><td>3.0</td><td>576.0</td><td>--</td><td>SNR G106.3+02.7</td><td>0.13</td></tr>\n",
       "<tr><td>1LHAASO J2229+5927u</td><td>WCDA</td><td>337.26</td><td>59.45</td><td>0.36</td><td>1.98</td><td>0.1</td><td>--</td><td>1.4900000000000001e-12</td><td>9.900000000000001e-14</td><td>--</td><td>2.67</td><td>0.05</td><td>--</td><td>3.0</td><td>228.0</td><td>--</td><td>KM2A*</td><td>337.88</td><td>59.55</td><td>0.46</td><td>1.74</td><td>0.16</td><td>--</td><td>4.4299999999999995e-16</td><td>3.6e-17</td><td>--</td><td>3.53</td><td>0.11</td><td>--</td><td>50.0</td><td>163.8</td><td>31.4</td><td>--</td><td>--</td></tr>\n",
       "<tr><td>1LHAASO J2238+5900</td><td>KM2A</td><td>339.54</td><td>59.0</td><td>0.09</td><td>0.43</td><td>0.03</td><td>--</td><td>2.0299999999999997e-16</td><td>1.2e-17</td><td>--</td><td>3.55</td><td>0.09</td><td>--</td><td>50.0</td><td>353.4</td><td>--</td><td>WCDA*</td><td>339.4</td><td>58.92</td><td>0.18</td><td>0.51</td><td>0.04</td><td>--</td><td>1.91e-13</td><td>2.6000000000000003e-14</td><td>--</td><td>2.39</td><td>0.07</td><td>--</td><td>3.0</td><td>110.2</td><td>--</td><td>--</td><td>--</td></tr>\n",
       "<tr><td>1LHAASO J2323+5854</td><td>WCDA</td><td>350.8</td><td>58.9</td><td>0.14</td><td>--</td><td>--</td><td>0.24</td><td>1.1000000000000001e-13</td><td>1.7000000000000003e-14</td><td>--</td><td>3.18</td><td>0.16</td><td>--</td><td>3.0</td><td>50.4</td><td>--</td><td>KM2A</td><td>--</td><td>--</td><td>--</td><td>--</td><td>--</td><td>--</td><td>--</td><td>--</td><td>1.5e-17</td><td>--</td><td>--</td><td>--</td><td>50.0</td><td>--</td><td>--</td><td>Cassiopeia A</td><td>0.1</td></tr>\n",
       "<tr><td>1LHAASO J2346+5138</td><td>WCDA</td><td>356.7</td><td>51.64</td><td>0.12</td><td>--</td><td>--</td><td>0.16</td><td>5.7e-14</td><td>9e-15</td><td>--</td><td>3.26</td><td>0.17</td><td>--</td><td>3.0</td><td>47.6</td><td>--</td><td>KM2A</td><td>--</td><td>--</td><td>--</td><td>--</td><td>--</td><td>--</td><td>--</td><td>--</td><td>7.000000000000001e-18</td><td>--</td><td>--</td><td>--</td><td>50.0</td><td>--</td><td>--</td><td>1ES 2344+514</td><td>0.08</td></tr>\n",
       "</table></div>"
      ],
      "text/plain": [
       "<Table length=90>\n",
       "    Source_Name     Model_a RAJ2000 ... TS100_b    ASSO_Name    ASSO_Sep\n",
       "                              deg   ...                           deg   \n",
       "      bytes20        bytes7 float64 ... float64     bytes16     float64 \n",
       "------------------- ------- ------- ... ------- --------------- --------\n",
       "1LHAASO J0007+5659u    KM2A    1.86 ...      --              --       --\n",
       "1LHAASO J0007+7303u    KM2A    1.91 ...      --           CTA 1     0.12\n",
       "1LHAASO J0056+6346u    KM2A    14.1 ...      --              --       --\n",
       "1LHAASO J0206+4302u    KM2A    31.7 ...      --              --       --\n",
       "1LHAASO J0212+4254u    KM2A   33.01 ...      --              --       --\n",
       "1LHAASO J0216+4237u    KM2A    34.1 ...      --              --       --\n",
       "                ...     ...     ... ...     ...             ...      ...\n",
       "1LHAASO J2200+5643u    KM2A  330.08 ...      --              --       --\n",
       "1LHAASO J2228+6100u    KM2A  337.01 ...      -- SNR G106.3+02.7     0.13\n",
       "1LHAASO J2229+5927u    WCDA  337.26 ...    31.4              --       --\n",
       " 1LHAASO J2238+5900    KM2A  339.54 ...      --              --       --\n",
       " 1LHAASO J2323+5854    WCDA   350.8 ...      --    Cassiopeia A      0.1\n",
       " 1LHAASO J2346+5138    WCDA   356.7 ...      --    1ES 2344+514     0.08"
      ]
     },
     "execution_count": 15,
     "metadata": {},
     "output_type": "execute_result"
    }
   ],
   "source": [
    "from astropy.table import Table\n",
    "from gammapy.utils.scripts import make_path\n",
    "file_name = \"$PYTHONPATH/feupy/data/catalogs/1LHAASO/1LHAASO_catalog.fits\"\n",
    "table = Table.read(make_path(file_name))\n",
    "table"
   ]
  },
  {
   "cell_type": "code",
   "execution_count": null,
   "id": "3458424f",
   "metadata": {},
   "outputs": [],
   "source": [
    "table.info()"
   ]
  },
  {
   "cell_type": "code",
   "execution_count": null,
   "id": "b1ce86ff",
   "metadata": {},
   "outputs": [],
   "source": [
    "table.to_pandas()"
   ]
  },
  {
   "cell_type": "code",
   "execution_count": null,
   "id": "c501d0b7",
   "metadata": {},
   "outputs": [],
   "source": [
    "from gammapy.catalog import CATALOG_REGISTRY\n",
    "catalog_3hwc = CATALOG_REGISTRY.get_cls(\"3hwc\")()"
   ]
  },
  {
   "cell_type": "code",
   "execution_count": null,
   "id": "695597cc",
   "metadata": {},
   "outputs": [],
   "source": [
    "catalog_3hwc.table"
   ]
  },
  {
   "cell_type": "code",
   "execution_count": null,
   "id": "afe11d04",
   "metadata": {},
   "outputs": [],
   "source": [
    "catalog_2hwc = CATALOG_REGISTRY.get_cls(\"2hwc\")()"
   ]
  },
  {
   "cell_type": "code",
   "execution_count": null,
   "id": "d288aa3c",
   "metadata": {},
   "outputs": [],
   "source": [
    "source = catalog_2hwc[\"2HWC J1825-134\"]\n",
    "print(source.info())"
   ]
  },
  {
   "cell_type": "code",
   "execution_count": null,
   "id": "44f642c2",
   "metadata": {},
   "outputs": [],
   "source": []
  }
 ],
 "metadata": {
  "ipub": {
   "titlepage": {
    "author": "R. P. Costa Jr.",
    "email": "rubensp@utfpr.edu.br",
    "institution": [
     "Federal University of Technology – Paraná (UTFPR) "
    ],
    "tagline": "A TeV Astronomy Python package based on Gammapy.",
    "title": "feupy"
   }
  },
  "kernelspec": {
   "display_name": "Python 3 (ipykernel)",
   "language": "python",
   "name": "python3"
  },
  "language_info": {
   "codemirror_mode": {
    "name": "ipython",
    "version": 3
   },
   "file_extension": ".py",
   "mimetype": "text/x-python",
   "name": "python",
   "nbconvert_exporter": "python",
   "pygments_lexer": "ipython3",
   "version": "3.9.18"
  }
 },
 "nbformat": 4,
 "nbformat_minor": 5
}
