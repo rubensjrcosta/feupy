{
 "cells": [
  {
   "cell_type": "code",
   "execution_count": 1,
   "id": "7ff53aa0",
   "metadata": {},
   "outputs": [],
   "source": [
    "%matplotlib inline"
   ]
  },
  {
   "cell_type": "code",
   "execution_count": 2,
   "id": "c7e01019",
   "metadata": {},
   "outputs": [],
   "source": [
    "# !pyflakes PSR_J1826-1256_cntrp.py"
   ]
  },
  {
   "cell_type": "code",
   "execution_count": 3,
   "id": "2a5795db",
   "metadata": {},
   "outputs": [],
   "source": [
    "import warnings\n",
    "warnings.simplefilter(\"ignore\", UserWarning)"
   ]
  },
  {
   "cell_type": "code",
   "execution_count": 4,
   "id": "8b8a1c4f",
   "metadata": {},
   "outputs": [
    {
     "name": "stdout",
     "output_type": "stream",
     "text": [
      "config.py: No such file or directory\n",
      "core.py: No such file or directory\n"
     ]
    }
   ],
   "source": [
    "from feupy.target import Target\n",
    "from feupy.roi import ROI\n",
    "\n",
    "from feupy.analysis import CounterpartsAnalysisConfig as AnalysisConfig\n",
    "from feupy.analysis import CounterpartsAnalysis as Analysis\n",
    "\n",
    "from feupy.scripts import gammapy_catalogs \n",
    "\n",
    "from feupy.catalog.pulsar.atnf import SourceCatalogATNF\n",
    "from feupy.catalog.hawc import SourceCatalogExtraHAWC\n",
    "from feupy.catalog.lhaaso import SourceCatalogPublishNatureLHAASO\n",
    "from feupy.utils.scripts import pickling, unpickling\n",
    "\n",
    "from astropy import units as u\n",
    "\n",
    "from gammapy.modeling.models import ExpCutoffPowerLawSpectralModel\n",
    "\n",
    "from pathlib import Path\n",
    "\n",
    "import matplotlib.pyplot as plt \n",
    "from feupy.plotters import *"
   ]
  },
  {
   "cell_type": "code",
   "execution_count": 5,
   "id": "d45454a3",
   "metadata": {},
   "outputs": [],
   "source": [
    "from gammapy.modeling.models import (\n",
    "#     FoVBackgroundModel,\n",
    "    Models,\n",
    "#     PowerLawNormSpectralModel,\n",
    "    SkyModel,\n",
    "#     TemplateSpatialModel,\n",
    "#     create_fermi_isotropic_diffuse_model,\n",
    ")\n",
    "\n",
    "from gammapy.datasets import Datasets"
   ]
  },
  {
   "cell_type": "code",
   "execution_count": null,
   "id": "4cf5b49a",
   "metadata": {},
   "outputs": [],
   "source": []
  },
  {
   "cell_type": "code",
   "execution_count": 6,
   "id": "f29de6ac",
   "metadata": {},
   "outputs": [],
   "source": [
    "from feupy.config import *\n",
    "\n",
    "def set_leg_style_JCAP(leg_style):\n",
    "    for name in list(leg_style.keys()):\n",
    "        if  name.find('LHAASO ') != -1:\n",
    "            color = COLOR_LHAASO\n",
    "            marker = MARKER_LHAASO\n",
    "            leg_style[name] = (color, marker)\n",
    "            \n",
    "        if  name.find('CTA ') != -1:\n",
    "            color = COLOR_CTA\n",
    "            marker = MARKER_CTA\n",
    "            leg_style[name] = (color, marker)\n",
    "        \n",
    "    return leg_style"
   ]
  },
  {
   "cell_type": "code",
   "execution_count": null,
   "id": "f7ccbc35",
   "metadata": {},
   "outputs": [],
   "source": []
  },
  {
   "cell_type": "code",
   "execution_count": 7,
   "id": "32fb36ac",
   "metadata": {},
   "outputs": [
    {
     "ename": "FileNotFoundError",
     "evalue": "[Errno 2] No such file or directory: '../analysis/counterparts_analysis_config_all.pkl'",
     "output_type": "error",
     "traceback": [
      "\u001b[0;31m---------------------------------------------------------------------------\u001b[0m",
      "\u001b[0;31mFileNotFoundError\u001b[0m                         Traceback (most recent call last)",
      "Cell \u001b[0;32mIn[7], line 4\u001b[0m\n\u001b[1;32m      2\u001b[0m path\u001b[38;5;241m.\u001b[39mmkdir(parents\u001b[38;5;241m=\u001b[39m\u001b[38;5;28;01mTrue\u001b[39;00m, exist_ok\u001b[38;5;241m=\u001b[39m\u001b[38;5;28;01mTrue\u001b[39;00m)\n\u001b[1;32m      3\u001b[0m file_name \u001b[38;5;241m=\u001b[39m path \u001b[38;5;241m/\u001b[39m \u001b[38;5;124m\"\u001b[39m\u001b[38;5;124mcounterparts_analysis_config_all\u001b[39m\u001b[38;5;124m\"\u001b[39m\n\u001b[0;32m----> 4\u001b[0m dict_analysis \u001b[38;5;241m=\u001b[39m \u001b[43munpickling\u001b[49m\u001b[43m(\u001b[49m\u001b[43mfile_name\u001b[49m\u001b[43m)\u001b[49m\n",
      "File \u001b[0;32m~/Documents/GitHub/feupy/feupy/utils/scripts.py:31\u001b[0m, in \u001b[0;36munpickling\u001b[0;34m(file_name)\u001b[0m\n\u001b[1;32m     29\u001b[0m \u001b[38;5;28;01mdef\u001b[39;00m \u001b[38;5;21munpickling\u001b[39m(file_name):        \n\u001b[1;32m     30\u001b[0m \u001b[38;5;250m    \u001b[39m\u001b[38;5;124;03m\"\"\"...\"\"\"\u001b[39;00m\n\u001b[0;32m---> 31\u001b[0m     \u001b[38;5;28;01mwith\u001b[39;00m \u001b[38;5;28;43mopen\u001b[39;49m\u001b[43m(\u001b[49m\u001b[43mmake_path\u001b[49m\u001b[43m(\u001b[49m\u001b[38;5;124;43mf\u001b[39;49m\u001b[38;5;124;43m\"\u001b[39;49m\u001b[38;5;132;43;01m{\u001b[39;49;00m\u001b[43mfile_name\u001b[49m\u001b[38;5;132;43;01m}\u001b[39;49;00m\u001b[38;5;124;43m.pkl\u001b[39;49m\u001b[38;5;124;43m\"\u001b[39;49m\u001b[43m)\u001b[49m\u001b[43m,\u001b[49m\u001b[43m \u001b[49m\u001b[38;5;124;43m\"\u001b[39;49m\u001b[38;5;124;43mrb\u001b[39;49m\u001b[38;5;124;43m\"\u001b[39;49m\u001b[43m)\u001b[49m \u001b[38;5;28;01mas\u001b[39;00m fp:  \n\u001b[1;32m     32\u001b[0m         \u001b[38;5;28;01mreturn\u001b[39;00m pickle\u001b[38;5;241m.\u001b[39mload(fp)\n",
      "\u001b[0;31mFileNotFoundError\u001b[0m: [Errno 2] No such file or directory: '../analysis/counterparts_analysis_config_all.pkl'"
     ]
    }
   ],
   "source": [
    "path = Path(\"../analysis\")\n",
    "path.mkdir(parents=True, exist_ok=True)\n",
    "file_name = path / \"counterparts_analysis_config_all\"\n",
    "dict_analysis = unpickling(file_name)"
   ]
  },
  {
   "cell_type": "code",
   "execution_count": null,
   "id": "315fb07a",
   "metadata": {},
   "outputs": [],
   "source": [
    "dict_analysis"
   ]
  },
  {
   "cell_type": "code",
   "execution_count": null,
   "id": "4918325a",
   "metadata": {},
   "outputs": [],
   "source": [
    "source_name = 'LHAASO J1825-1326'\n",
    "counterpart_TeV_name = \"HESS J1826-130\""
   ]
  },
  {
   "cell_type": "code",
   "execution_count": null,
   "id": "2e401517",
   "metadata": {},
   "outputs": [],
   "source": [
    "catalog = SourceCatalogPublishNatureLHAASO()"
   ]
  },
  {
   "cell_type": "code",
   "execution_count": null,
   "id": "2726b54a",
   "metadata": {},
   "outputs": [],
   "source": [
    "source = catalog[source_name]"
   ]
  },
  {
   "cell_type": "code",
   "execution_count": null,
   "id": "3ed60774",
   "metadata": {},
   "outputs": [],
   "source": [
    "spec_model_cntrp = ExpCutoffPowerLawSpectralModel(\n",
    "    amplitude=1e-12*u.Unit(\"TeV-1 cm-2 s-1\"),\n",
    "    index=2,\n",
    "    lambda_= 0.1*u.Unit(\"TeV-1\"),\n",
    "    reference=10*u.Unit(\"TeV\"),\n",
    "    alpha=1.0,\n",
    ")\n"
   ]
  },
  {
   "cell_type": "code",
   "execution_count": null,
   "id": "d1a25a8e",
   "metadata": {},
   "outputs": [],
   "source": [
    "models = Models()  # global models object"
   ]
  },
  {
   "cell_type": "code",
   "execution_count": null,
   "id": "885b9b59",
   "metadata": {},
   "outputs": [],
   "source": [
    "datasets_name = \"likelihood\"\n",
    "\n",
    "model_name = f\"{datasets_name} fit-{spec_model_cntrp.tag[1]}\"\n",
    "model = SkyModel(spectral_model=spec_model_cntrp.copy(), name=model_name)\n",
    "print(model)"
   ]
  },
  {
   "cell_type": "code",
   "execution_count": null,
   "id": "c4cfea1b",
   "metadata": {},
   "outputs": [],
   "source": [
    "target = Target(\n",
    "    name=source.name, \n",
    "    pos_ra=source.position.ra, \n",
    "    pos_dec=source.position.dec,\n",
    "    model=model,\n",
    ")"
   ]
  },
  {
   "cell_type": "code",
   "execution_count": null,
   "id": "21700a2c",
   "metadata": {},
   "outputs": [],
   "source": [
    "print(target.model)"
   ]
  },
  {
   "cell_type": "code",
   "execution_count": null,
   "id": "7ca81bc4",
   "metadata": {},
   "outputs": [],
   "source": [
    "target.all"
   ]
  },
  {
   "cell_type": "code",
   "execution_count": null,
   "id": "34fb3a95",
   "metadata": {},
   "outputs": [],
   "source": [
    "radius_roi = 1.0 * u.Unit(\"deg\")  # maximum angle of separation (in degrees)"
   ]
  },
  {
   "cell_type": "code",
   "execution_count": null,
   "id": "a152701f",
   "metadata": {},
   "outputs": [],
   "source": [
    "roi = ROI(target=target, radius=radius_roi)"
   ]
  },
  {
   "cell_type": "code",
   "execution_count": null,
   "id": "1d8b675e",
   "metadata": {},
   "outputs": [],
   "source": [
    "target.all"
   ]
  },
  {
   "cell_type": "code",
   "execution_count": null,
   "id": "6658ebc4",
   "metadata": {},
   "outputs": [],
   "source": [
    "e_ref_min = 100 * u.Unit(\"GeV\")"
   ]
  },
  {
   "cell_type": "code",
   "execution_count": null,
   "id": "11a62179",
   "metadata": {},
   "outputs": [],
   "source": [
    "analysis_confg = AnalysisConfig(roi, e_ref_min=e_ref_min)"
   ]
  },
  {
   "cell_type": "code",
   "execution_count": null,
   "id": "60799f86",
   "metadata": {},
   "outputs": [],
   "source": [
    "target.all"
   ]
  },
  {
   "cell_type": "code",
   "execution_count": null,
   "id": "38c477df",
   "metadata": {},
   "outputs": [],
   "source": [
    "analysis_confg.energy_range"
   ]
  },
  {
   "cell_type": "code",
   "execution_count": null,
   "id": "b0b36a3c",
   "metadata": {},
   "outputs": [],
   "source": [
    "analysis_confg.target"
   ]
  },
  {
   "cell_type": "code",
   "execution_count": null,
   "id": "a37b8eb4",
   "metadata": {
    "scrolled": true
   },
   "outputs": [],
   "source": [
    "analysis_confg.target.name"
   ]
  },
  {
   "cell_type": "code",
   "execution_count": null,
   "id": "d0e92331",
   "metadata": {},
   "outputs": [],
   "source": [
    "print(analysis_confg.target.info)"
   ]
  },
  {
   "cell_type": "code",
   "execution_count": null,
   "id": "ec32fd63",
   "metadata": {},
   "outputs": [],
   "source": [
    "analysis = Analysis(analysis_confg)"
   ]
  },
  {
   "cell_type": "code",
   "execution_count": null,
   "id": "55778175",
   "metadata": {},
   "outputs": [],
   "source": [
    "analysis.catalogs"
   ]
  },
  {
   "cell_type": "code",
   "execution_count": null,
   "id": "215cdac3",
   "metadata": {},
   "outputs": [],
   "source": [
    "target.all"
   ]
  },
  {
   "cell_type": "code",
   "execution_count": null,
   "id": "3e846469",
   "metadata": {},
   "outputs": [],
   "source": [
    "# (analysis.catalogs[3].table)"
   ]
  },
  {
   "cell_type": "code",
   "execution_count": null,
   "id": "0f9cfb7e",
   "metadata": {},
   "outputs": [],
   "source": [
    "analysis.run()"
   ]
  },
  {
   "cell_type": "code",
   "execution_count": null,
   "id": "fe1c7f7b",
   "metadata": {},
   "outputs": [],
   "source": [
    "len(analysis.datasets)"
   ]
  },
  {
   "cell_type": "code",
   "execution_count": null,
   "id": "1dfcf425",
   "metadata": {},
   "outputs": [],
   "source": [
    "print(analysis.models)"
   ]
  },
  {
   "cell_type": "code",
   "execution_count": null,
   "id": "1733646b",
   "metadata": {},
   "outputs": [],
   "source": [
    "datasets_names = analysis.datasets.names\n",
    "models_names = analysis.datasets.models.names"
   ]
  },
  {
   "cell_type": "code",
   "execution_count": null,
   "id": "980ba783",
   "metadata": {},
   "outputs": [],
   "source": [
    "for pulsar in analysis.pulsars:\n",
    "    name = pulsar.name\n",
    "    datasets_names.append(name)"
   ]
  },
  {
   "cell_type": "code",
   "execution_count": null,
   "id": "fb13bcbd",
   "metadata": {},
   "outputs": [],
   "source": [
    "leg_style = set_leg_style(\n",
    "    leg_style ={}, \n",
    "    datasets_names=datasets_names, \n",
    "    models_names=models_names\n",
    ")"
   ]
  },
  {
   "cell_type": "code",
   "execution_count": null,
   "id": "58dd8e3d",
   "metadata": {},
   "outputs": [],
   "source": [
    "leg_style"
   ]
  },
  {
   "cell_type": "code",
   "execution_count": null,
   "id": "105080c7",
   "metadata": {},
   "outputs": [],
   "source": [
    "leg_style = set_leg_style_JCAP(leg_style)"
   ]
  },
  {
   "cell_type": "code",
   "execution_count": null,
   "id": "ceaa2da9",
   "metadata": {},
   "outputs": [],
   "source": [
    "plot_limits = dict(\n",
    "    energy_bounds = [5e-2, 2e3] * u.TeV,\n",
    "    ylim = [1e-15, 1e-9]\n",
    ")\n",
    "show_SED(\n",
    "    datasets=analysis.datasets, \n",
    "#     models=analysis.models,\n",
    "    leg_style=leg_style,\n",
    "    plot_limits=plot_limits)"
   ]
  },
  {
   "cell_type": "code",
   "execution_count": null,
   "id": "f774d417",
   "metadata": {},
   "outputs": [],
   "source": [
    "len(analysis.datasets)"
   ]
  },
  {
   "cell_type": "code",
   "execution_count": null,
   "id": "c62436ec",
   "metadata": {},
   "outputs": [],
   "source": [
    "show_sky_map(name=analysis.config.target.name, \n",
    "                  roi=analysis.config.roi,\n",
    "                  datasets=analysis.datasets, \n",
    "                  sources=analysis.sources, \n",
    "                  leg_style=leg_style, pulsars=analysis.pulsars\n",
    "                )  "
   ]
  },
  {
   "cell_type": "code",
   "execution_count": null,
   "id": "dd15b2f7",
   "metadata": {},
   "outputs": [],
   "source": []
  },
  {
   "cell_type": "code",
   "execution_count": null,
   "id": "ff18457c",
   "metadata": {},
   "outputs": [],
   "source": [
    "# analysis.write_datasets()\n",
    "# datasets = analysis.read_datasets()"
   ]
  },
  {
   "cell_type": "code",
   "execution_count": null,
   "id": "af3dabcc",
   "metadata": {},
   "outputs": [],
   "source": []
  },
  {
   "cell_type": "code",
   "execution_count": null,
   "id": "cbb767e6",
   "metadata": {},
   "outputs": [],
   "source": [
    "datasets = Datasets()\n",
    "print(datasets_name)\n",
    "for index in dict_analysis[source_name][counterpart_TeV_name][\"datasets\"]:\n",
    "    datasets.append(analysis.datasets[index])\n",
    "for index, dataset in enumerate(datasets):\n",
    "    print(f\"{index}: {dataset.name}\")"
   ]
  },
  {
   "cell_type": "code",
   "execution_count": null,
   "id": "5c007291",
   "metadata": {},
   "outputs": [],
   "source": [
    "print(datasets)"
   ]
  },
  {
   "cell_type": "code",
   "execution_count": null,
   "id": "56fa9d72",
   "metadata": {},
   "outputs": [],
   "source": [
    "show_SED(\n",
    "    datasets=datasets, \n",
    "#     models=analysis.models,\n",
    "    leg_style=leg_style,\n",
    "    plot_limits=plot_limits)"
   ]
  },
  {
   "cell_type": "code",
   "execution_count": null,
   "id": "9c2dc1e2",
   "metadata": {},
   "outputs": [],
   "source": []
  },
  {
   "cell_type": "markdown",
   "id": "9a8d96ef",
   "metadata": {},
   "source": [
    "# Flux point fitting"
   ]
  },
  {
   "cell_type": "code",
   "execution_count": null,
   "id": "484e1655",
   "metadata": {},
   "outputs": [],
   "source": [
    "from gammapy.modeling import Fit\n",
    "from gammapy.catalog import CATALOG_REGISTRY"
   ]
  },
  {
   "cell_type": "code",
   "execution_count": null,
   "id": "0baa086f",
   "metadata": {},
   "outputs": [],
   "source": [
    "catalog_cls = CATALOG_REGISTRY.get_cls(\"hgps\")()\n",
    "counterpart_name = 'HESS J1826-130'\n",
    "\n",
    "counterpart_TeV =  catalog_cls[counterpart_name]\n",
    "print(counterpart_TeV.info())\n",
    "associations = counterpart_TeV.associations\n",
    "display(associations)"
   ]
  },
  {
   "cell_type": "code",
   "execution_count": null,
   "id": "8980f6f1",
   "metadata": {},
   "outputs": [],
   "source": [
    "print(model)"
   ]
  },
  {
   "cell_type": "code",
   "execution_count": null,
   "id": "32b1d064",
   "metadata": {},
   "outputs": [],
   "source": [
    "display(model.parameters.to_table())"
   ]
  },
  {
   "cell_type": "code",
   "execution_count": null,
   "id": "374be9ef",
   "metadata": {},
   "outputs": [],
   "source": [
    "datasets.models = model\n",
    "print(datasets)"
   ]
  },
  {
   "cell_type": "code",
   "execution_count": null,
   "id": "f3c85731",
   "metadata": {},
   "outputs": [],
   "source": [
    "fitter = Fit()\n",
    "result_ecpl = fitter.run(datasets=datasets)"
   ]
  },
  {
   "cell_type": "code",
   "execution_count": null,
   "id": "39197d12",
   "metadata": {},
   "outputs": [],
   "source": [
    "display(result_ecpl.parameters.to_table())"
   ]
  },
  {
   "cell_type": "code",
   "execution_count": null,
   "id": "8de4ad70",
   "metadata": {},
   "outputs": [],
   "source": [
    "print(result_ecpl)\n",
    "\n",
    "print(model)"
   ]
  },
  {
   "cell_type": "code",
   "execution_count": null,
   "id": "0295dffc",
   "metadata": {},
   "outputs": [],
   "source": [
    "leg_style = set_leg_style_models(models_names=model_name,\n",
    "    leg_style=leg_style)"
   ]
  },
  {
   "cell_type": "code",
   "execution_count": null,
   "id": "9c6b84e3",
   "metadata": {},
   "outputs": [],
   "source": [
    "show_SED(\n",
    "    datasets=datasets, \n",
    "    models=[model],\n",
    "    leg_style=leg_style,\n",
    "    plot_limits=plot_limits)"
   ]
  },
  {
   "cell_type": "code",
   "execution_count": null,
   "id": "5eb41a1d",
   "metadata": {},
   "outputs": [],
   "source": [
    "models.append(model)"
   ]
  },
  {
   "cell_type": "code",
   "execution_count": null,
   "id": "2fda063e",
   "metadata": {},
   "outputs": [],
   "source": [
    "analysis.datasets = datasets\n",
    "analysis.models = models"
   ]
  },
  {
   "cell_type": "code",
   "execution_count": null,
   "id": "63e6ff4a",
   "metadata": {},
   "outputs": [],
   "source": [
    "print(analysis.models)"
   ]
  },
  {
   "cell_type": "code",
   "execution_count": null,
   "id": "ee7d2f9c",
   "metadata": {},
   "outputs": [],
   "source": [
    "print(analysis.models)"
   ]
  },
  {
   "cell_type": "code",
   "execution_count": null,
   "id": "fa314162",
   "metadata": {},
   "outputs": [],
   "source": []
  },
  {
   "cell_type": "code",
   "execution_count": null,
   "id": "0a860ff5",
   "metadata": {},
   "outputs": [],
   "source": [
    "print(analysis.models)"
   ]
  },
  {
   "cell_type": "code",
   "execution_count": null,
   "id": "fdf1fcfa",
   "metadata": {},
   "outputs": [],
   "source": [
    "display(model.parameters.to_table())"
   ]
  },
  {
   "cell_type": "code",
   "execution_count": null,
   "id": "e443fe75",
   "metadata": {},
   "outputs": [],
   "source": []
  },
  {
   "cell_type": "code",
   "execution_count": null,
   "id": "3605c8cf",
   "metadata": {},
   "outputs": [],
   "source": [
    "from pathlib import Path\n",
    "from feupy.utils.scripts import pickling, unpickling\n"
   ]
  },
  {
   "cell_type": "code",
   "execution_count": null,
   "id": "ae2474c2",
   "metadata": {},
   "outputs": [],
   "source": [
    "path = Path(\"../analysis/PSR_J1826-1256\")\n",
    "path.mkdir(exist_ok=True)\n",
    "filename = path / \"cntrp_1\"\n",
    "pickling(analysis, filename)"
   ]
  },
  {
   "cell_type": "code",
   "execution_count": null,
   "id": "51c5daf1",
   "metadata": {},
   "outputs": [],
   "source": [
    "display(model.parameters.to_table())"
   ]
  },
  {
   "cell_type": "code",
   "execution_count": null,
   "id": "419290df",
   "metadata": {},
   "outputs": [],
   "source": []
  }
 ],
 "metadata": {
  "ipub": {
   "titlepage": {
    "author": "R. P. Costa Jr.",
    "email": "rubensp@utfpr.edu.br",
    "institution": [
     "Federal University of Technology – Paraná (UTFPR) "
    ],
    "tagline": "A TeV Astronomy Python package based on Gammapy.",
    "title": "feupy"
   }
  },
  "kernelspec": {
   "display_name": "Python 3 (ipykernel)",
   "language": "python",
   "name": "python3"
  },
  "language_info": {
   "codemirror_mode": {
    "name": "ipython",
    "version": 3
   },
   "file_extension": ".py",
   "mimetype": "text/x-python",
   "name": "python",
   "nbconvert_exporter": "python",
   "pygments_lexer": "ipython3",
   "version": "3.9.18"
  }
 },
 "nbformat": 4,
 "nbformat_minor": 5
}
