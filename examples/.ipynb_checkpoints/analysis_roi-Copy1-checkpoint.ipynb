{
 "cells": [
  {
   "cell_type": "code",
   "execution_count": 2,
   "id": "ed9f2a46",
   "metadata": {},
   "outputs": [],
   "source": [
    "%matplotlib inline"
   ]
  },
  {
   "cell_type": "code",
   "execution_count": 3,
   "id": "2a5795db",
   "metadata": {},
   "outputs": [],
   "source": [
    "import warnings\n",
    "warnings.simplefilter(\"ignore\", UserWarning)"
   ]
  },
  {
   "cell_type": "code",
   "execution_count": 5,
   "id": "c824c187",
   "metadata": {},
   "outputs": [],
   "source": [
    "from feupy.catalog.gamma.lhaaso import SourceCatalogPublishNatureLHAASO\n",
    "\n",
    "from feupy.roi import ROI\n",
    "\n",
    "from feupy.target import Target\n",
    "\n",
    "from feupy.analysis import CounterpartsConfig, Counterparts\n",
    "\n",
    "from feupy.utils.string_handling import name_to_txt\n",
    "\n",
    "from feupy.plotters import *\n",
    "from feupy.config import *\n",
    "\n",
    "from gammapy.modeling.models import SkyModel, Models, Model, ExpCutoffPowerLawSpectralModel\n",
    "\n",
    "from gammapy.datasets import Datasets\n",
    "\n",
    "from gammapy.utils.scripts import make_path\n",
    "\n",
    "from astropy import units as u\n",
    "\n",
    "from pathlib import Path\n"
   ]
  },
  {
   "cell_type": "code",
   "execution_count": null,
   "id": "55278292",
   "metadata": {},
   "outputs": [],
   "source": [
    "def set_leg_style_JCAP(leg_style):\n",
    "    for name in list(leg_style.keys()):\n",
    "        if  name.find('LHAASO ') != -1:\n",
    "            color = COLOR_LHAASO\n",
    "            marker = MARKER_LHAASO\n",
    "            leg_style[name] = (color, marker)\n",
    "            \n",
    "        if  name.find('CTA ') != -1:\n",
    "            color = COLOR_CTA\n",
    "            marker = MARKER_CTA\n",
    "            leg_style[name] = (color, marker)\n",
    "        \n",
    "    return leg_style"
   ]
  },
  {
   "cell_type": "code",
   "execution_count": null,
   "id": "1a9e2cf2",
   "metadata": {},
   "outputs": [],
   "source": [
    "dict_analysis= {\n",
    "        \"LHAASO J1825-1326\":{\n",
    "            \"HESS J1825-137\":{\n",
    "                \"datasets\": [1,2,6,9,11,14,17,18],\n",
    "                \"pulsar\": \"PSR J1826-1334\",\n",
    "            },\n",
    "            \"HESS J1826-130\":{\n",
    "                \"datasets\": [0,3,5,7,8,12,18],\n",
    "                \"pulsar\": \"PSR J1826-1256\",\n",
    "            }\n",
    "        },\n",
    "        \"LHAASO J1839-0545\":{\n",
    "            \"HESS J1837-069\":{\n",
    "                \"datasets\": [0,1,18, 19],\n",
    "                \"pulsar\": \"PSR J1837-0604\",\n",
    "            },\n",
    "            \"HESS J1841-055\":{\n",
    "                \"datasets\": [2,3,14,18],\n",
    "                \"pulsar\": \"PSR J1838-0537\",\n",
    "            }\n",
    "        }\n",
    "    }"
   ]
  },
  {
   "cell_type": "code",
   "execution_count": null,
   "id": "71d39ee8",
   "metadata": {},
   "outputs": [],
   "source": []
  },
  {
   "cell_type": "code",
   "execution_count": null,
   "id": "4e1ec7e0",
   "metadata": {},
   "outputs": [],
   "source": []
  },
  {
   "cell_type": "code",
   "execution_count": null,
   "id": "0cfc6047",
   "metadata": {},
   "outputs": [],
   "source": []
  },
  {
   "cell_type": "code",
   "execution_count": null,
   "id": "811387b9",
   "metadata": {},
   "outputs": [],
   "source": [
    "source_name = 'LHAASO J1825-1326'\n",
    "counterpart_TeV_name = \"HESS J1826-130\"\n",
    "pulsar_name = dict_analysis[source_name][counterpart_TeV_name]['pulsar']\n",
    "datasets_analysis = dict_analysis[source_name][counterpart_TeV_name]['datasets']\n",
    "analysis_name = pulsar_name\n",
    "analysis_path = make_path(f\"./{name_to_txt(analysis_name)}\")\n",
    "analysis_path.mkdir(parents=True, exist_ok=True)"
   ]
  },
  {
   "cell_type": "code",
   "execution_count": null,
   "id": "89be2f18",
   "metadata": {},
   "outputs": [],
   "source": []
  },
  {
   "cell_type": "code",
   "execution_count": null,
   "id": "e942b8ff",
   "metadata": {},
   "outputs": [],
   "source": [
    "catalog = SourceCatalogPublishNatureLHAASO()\n",
    "source = catalog[source_name]\n",
    "name = source.name\n",
    "pos_ra = source.position.ra\n",
    "pos_dec = source.position.dec\n",
    "target_model = SkyModel(spectral_model=ExpCutoffPowerLawSpectralModel(), name=name)\n",
    "print(target_model)\n",
    "target = Target(name, pos_ra, pos_dec, spectral_model=target_model.spectral_model)\n",
    "print(target)"
   ]
  },
  {
   "cell_type": "code",
   "execution_count": null,
   "id": "d8dda43d",
   "metadata": {},
   "outputs": [],
   "source": [
    "config= CounterpartsConfig()\n"
   ]
  },
  {
   "cell_type": "code",
   "execution_count": null,
   "id": "ae6bb1e4",
   "metadata": {},
   "outputs": [],
   "source": [
    "print(config)"
   ]
  },
  {
   "cell_type": "code",
   "execution_count": null,
   "id": "9588a5d4",
   "metadata": {},
   "outputs": [],
   "source": [
    "config.roi.target = target.dict\n",
    "config.roi.region_radius = 1*u.deg \n",
    "config.roi.catalogs = \"all\"\n",
    "e_edges_min=0.1*u.TeV \n",
    "# e_edges_max=100.*u.TeV\n",
    "config.energy_range.min = e_edges_min\n",
    "# config.energy_range.max = e_edges_max\n",
    "\n",
    "config.general.path_file = config.create_analysis_path()\n",
    "# config.general.models_file = analysis_path\n",
    "config.write(f\"{config.general.path_file}/config.yaml\", overwrite=True)"
   ]
  },
  {
   "cell_type": "code",
   "execution_count": null,
   "id": "80f14dd5",
   "metadata": {},
   "outputs": [],
   "source": []
  },
  {
   "cell_type": "code",
   "execution_count": null,
   "id": "84ddfe00",
   "metadata": {},
   "outputs": [],
   "source": [
    "config = CounterpartsConfig.read(f\"{config.general.path_file}/config.yaml\")\n",
    "print(config)\n",
    "\n",
    "analysis = Counterparts(config)"
   ]
  },
  {
   "cell_type": "code",
   "execution_count": null,
   "id": "0df2031e",
   "metadata": {},
   "outputs": [],
   "source": [
    "analysis.run()\n",
    "\n",
    "print(analysis.df_roi)\n",
    "\n",
    "print(analysis.datasets.models)\n",
    "\n",
    "print(analysis.models)"
   ]
  },
  {
   "cell_type": "code",
   "execution_count": null,
   "id": "1c8369ec",
   "metadata": {},
   "outputs": [],
   "source": [
    "print(analysis.datasets)"
   ]
  },
  {
   "cell_type": "code",
   "execution_count": null,
   "id": "38c477df",
   "metadata": {},
   "outputs": [],
   "source": [
    "datasets_names = analysis.datasets.names\n",
    "models_names = analysis.datasets.models.names"
   ]
  },
  {
   "cell_type": "code",
   "execution_count": null,
   "id": "fab4d76b",
   "metadata": {},
   "outputs": [],
   "source": [
    "for pulsar in analysis.pulsars:\n",
    "    name = pulsar.name\n",
    "    datasets_names.append(name)"
   ]
  },
  {
   "cell_type": "code",
   "execution_count": null,
   "id": "0109d5ac",
   "metadata": {},
   "outputs": [],
   "source": [
    "leg_style = set_leg_style(\n",
    "    leg_style ={}, \n",
    "    datasets_names=datasets_names, \n",
    "    models_names=models_names\n",
    ")"
   ]
  },
  {
   "cell_type": "code",
   "execution_count": null,
   "id": "1f46a078",
   "metadata": {},
   "outputs": [],
   "source": [
    "leg_style = set_leg_style_JCAP(leg_style)"
   ]
  },
  {
   "cell_type": "code",
   "execution_count": null,
   "id": "f44ef58c",
   "metadata": {},
   "outputs": [],
   "source": [
    "plot_limits = dict(\n",
    "    energy_bounds = [5e-2, 2e3] * u.TeV,\n",
    "    ylim = [1e-15, 1e-9]\n",
    ")\n",
    "show_SED(\n",
    "    datasets=analysis.datasets, \n",
    "#     models=analysis.models,\n",
    "    leg_style=leg_style,\n",
    "    plot_limits=plot_limits)"
   ]
  },
  {
   "cell_type": "code",
   "execution_count": null,
   "id": "acc833bc",
   "metadata": {},
   "outputs": [],
   "source": [
    "len(analysis.datasets)"
   ]
  },
  {
   "cell_type": "code",
   "execution_count": null,
   "id": "c7c0b464",
   "metadata": {},
   "outputs": [],
   "source": [
    "config_settings = analysis.config"
   ]
  },
  {
   "cell_type": "code",
   "execution_count": null,
   "id": "125e6a7c",
   "metadata": {},
   "outputs": [],
   "source": [
    "type(config_settings.roi.target.position.lon.unit)"
   ]
  },
  {
   "cell_type": "code",
   "execution_count": null,
   "id": "d2487b5b",
   "metadata": {},
   "outputs": [],
   "source": []
  },
  {
   "cell_type": "code",
   "execution_count": null,
   "id": "f175e046",
   "metadata": {},
   "outputs": [],
   "source": [
    "show_sky_map(name=config_settings.roi.target.name, \n",
    "                  roi=config_settings.roi,\n",
    "                  datasets=analysis.datasets, \n",
    "                  sources=analysis.sources, \n",
    "                  leg_style=leg_style, pulsars=analysis.pulsars\n",
    "                )  "
   ]
  },
  {
   "cell_type": "code",
   "execution_count": null,
   "id": "925bedd0",
   "metadata": {},
   "outputs": [],
   "source": [
    "from gammapy.modeling import Fit\n",
    "\n",
    "def run_fit(self, model=None):\n",
    "    \"\"\"Fitting reduced datasets to model.\"\"\"\n",
    "    if not model:\n",
    "        try:\n",
    "            target_settings = self.config.roi.target\n",
    "            target_model = Model.from_dict(target_settings.model)\n",
    "            model_name = f\"likelihood fit-{target_model.spectral_model.tag[1]}\"\n",
    "            model = SkyModel(\n",
    "                spectral_model=target_model.spectral_model.copy(), \n",
    "                name=model_name\n",
    "            )\n",
    "            \n",
    "        except Exception as error:\n",
    "            print(f'The error is:{error}') \n",
    "            \n",
    "    _datasets = self.datasets.copy()\n",
    "    _datasets.models = model\n",
    "    \n",
    "    models = Models(model)\n",
    "    self.set_models(models)\n",
    "    \n",
    "    fitter = Fit()\n",
    "    result = fitter.run(datasets=_datasets)\n",
    "    return result"
   ]
  },
  {
   "cell_type": "code",
   "execution_count": null,
   "id": "13f399ee",
   "metadata": {},
   "outputs": [],
   "source": []
  },
  {
   "cell_type": "code",
   "execution_count": null,
   "id": "e51a39b9",
   "metadata": {},
   "outputs": [],
   "source": [
    "datasets = Datasets()\n",
    "for index in datasets_analysis:\n",
    "    datasets.append(analysis.datasets[index])\n",
    "for index, dataset in enumerate(datasets):\n",
    "    print(f\"{index}: {dataset.name}\")"
   ]
  },
  {
   "cell_type": "code",
   "execution_count": null,
   "id": "5c230082",
   "metadata": {},
   "outputs": [],
   "source": [
    "analysis.datasets = datasets"
   ]
  },
  {
   "cell_type": "code",
   "execution_count": null,
   "id": "a655198a",
   "metadata": {},
   "outputs": [],
   "source": [
    "print(analysis.datasets)"
   ]
  },
  {
   "cell_type": "code",
   "execution_count": null,
   "id": "1c50d460",
   "metadata": {},
   "outputs": [],
   "source": [
    "show_SED(\n",
    "    datasets=datasets, \n",
    "#     models=analysis.models,\n",
    "    leg_style=leg_style,\n",
    "    plot_limits=plot_limits)"
   ]
  },
  {
   "cell_type": "code",
   "execution_count": null,
   "id": "fbf29217",
   "metadata": {},
   "outputs": [],
   "source": [
    "dict_model = config_settings.roi.target.model\n",
    "model_ = Model.from_dict(dict_model)\n",
    "display(model_.parameters.to_table())"
   ]
  },
  {
   "cell_type": "code",
   "execution_count": null,
   "id": "1de28a64",
   "metadata": {},
   "outputs": [],
   "source": [
    "result = run_fit(analysis)"
   ]
  },
  {
   "cell_type": "code",
   "execution_count": null,
   "id": "6b333157",
   "metadata": {},
   "outputs": [],
   "source": [
    "display(result.parameters.to_table())"
   ]
  },
  {
   "cell_type": "code",
   "execution_count": null,
   "id": "66275cc7",
   "metadata": {},
   "outputs": [],
   "source": [
    "print(analysis.datasets)"
   ]
  },
  {
   "cell_type": "code",
   "execution_count": null,
   "id": "977b894a",
   "metadata": {},
   "outputs": [],
   "source": []
  },
  {
   "cell_type": "code",
   "execution_count": null,
   "id": "8da663ea",
   "metadata": {},
   "outputs": [],
   "source": [
    "leg_style = set_leg_style_models(models_names=result.models[0].name,\n",
    "    leg_style=leg_style)"
   ]
  },
  {
   "cell_type": "code",
   "execution_count": null,
   "id": "9b49eab1",
   "metadata": {},
   "outputs": [],
   "source": [
    "show_SED(\n",
    "    datasets=datasets, \n",
    "    models=[result.models[0]],\n",
    "    leg_style=leg_style,\n",
    "    plot_limits=plot_limits)"
   ]
  },
  {
   "cell_type": "code",
   "execution_count": null,
   "id": "bed71099",
   "metadata": {},
   "outputs": [],
   "source": [
    "print(config)"
   ]
  },
  {
   "cell_type": "code",
   "execution_count": null,
   "id": "cc5de462",
   "metadata": {},
   "outputs": [],
   "source": [
    "config.roi.leg_style = leg_style"
   ]
  },
  {
   "cell_type": "code",
   "execution_count": null,
   "id": "4364be80",
   "metadata": {},
   "outputs": [],
   "source": [
    "# config.general.datasets_file = analysis_path"
   ]
  },
  {
   "cell_type": "code",
   "execution_count": null,
   "id": "eeb2766c",
   "metadata": {},
   "outputs": [],
   "source": [
    "analysis.write_datasets(overwrite=True)"
   ]
  },
  {
   "cell_type": "code",
   "execution_count": null,
   "id": "98005563",
   "metadata": {},
   "outputs": [],
   "source": [
    "ds =analysis.read_datasets()"
   ]
  },
  {
   "cell_type": "code",
   "execution_count": null,
   "id": "3a3d3a02",
   "metadata": {},
   "outputs": [],
   "source": [
    "print(config)"
   ]
  },
  {
   "cell_type": "code",
   "execution_count": null,
   "id": "6b725332",
   "metadata": {},
   "outputs": [],
   "source": []
  },
  {
   "cell_type": "code",
   "execution_count": null,
   "id": "a37b8eb4",
   "metadata": {
    "scrolled": true
   },
   "outputs": [],
   "source": [
    "analysis_confg.target_name"
   ]
  },
  {
   "cell_type": "code",
   "execution_count": null,
   "id": "a1f85e61",
   "metadata": {},
   "outputs": [],
   "source": [
    "AnalysisConfig.all"
   ]
  },
  {
   "cell_type": "code",
   "execution_count": null,
   "id": "d0e92331",
   "metadata": {},
   "outputs": [],
   "source": [
    "analysis_confg.target.info"
   ]
  },
  {
   "cell_type": "code",
   "execution_count": null,
   "id": "de5e6c0f",
   "metadata": {},
   "outputs": [],
   "source": [
    "roi = analysis_confg.roi"
   ]
  },
  {
   "cell_type": "code",
   "execution_count": null,
   "id": "6a896ff7",
   "metadata": {},
   "outputs": [],
   "source": [
    "roi.position"
   ]
  },
  {
   "cell_type": "code",
   "execution_count": null,
   "id": "ec32fd63",
   "metadata": {},
   "outputs": [],
   "source": [
    "analysis = Analysis(analysis_confg)"
   ]
  },
  {
   "cell_type": "code",
   "execution_count": null,
   "id": "55778175",
   "metadata": {},
   "outputs": [],
   "source": [
    "analysis.run()"
   ]
  },
  {
   "cell_type": "code",
   "execution_count": null,
   "id": "215cdac3",
   "metadata": {},
   "outputs": [],
   "source": [
    "print(analysis.datasets)"
   ]
  },
  {
   "cell_type": "code",
   "execution_count": null,
   "id": "2dcc3cd9",
   "metadata": {},
   "outputs": [],
   "source": [
    "print(analysis.catalogs)"
   ]
  },
  {
   "cell_type": "code",
   "execution_count": null,
   "id": "fe5fd780",
   "metadata": {},
   "outputs": [],
   "source": [
    "len(analysis.datasets)"
   ]
  },
  {
   "cell_type": "code",
   "execution_count": null,
   "id": "56b765e1",
   "metadata": {},
   "outputs": [],
   "source": [
    "analysis.dict_roi"
   ]
  },
  {
   "cell_type": "code",
   "execution_count": null,
   "id": "aa4d7fb9",
   "metadata": {},
   "outputs": [],
   "source": []
  },
  {
   "cell_type": "code",
   "execution_count": null,
   "id": "fb13bcbd",
   "metadata": {},
   "outputs": [],
   "source": [
    "leg_style = pltt.set_leg_style(\n",
    "    leg_style ={}, \n",
    "    datasets=analysis.datasets, \n",
    "    models=analysis.models\n",
    ")"
   ]
  },
  {
   "cell_type": "code",
   "execution_count": null,
   "id": "54aca416",
   "metadata": {},
   "outputs": [],
   "source": [
    "leg_style"
   ]
  },
  {
   "cell_type": "code",
   "execution_count": null,
   "id": "bfe1af40",
   "metadata": {},
   "outputs": [],
   "source": []
  },
  {
   "cell_type": "code",
   "execution_count": null,
   "id": "ceaa2da9",
   "metadata": {},
   "outputs": [],
   "source": [
    "plot_limits = dict(\n",
    "    energy_bounds = [5e-2, 2e3] * u.TeV,\n",
    "    ylim = [1e-15, 1e-9]\n",
    ")\n",
    "pltt.show_SED(\n",
    "    datasets=analysis.datasets, \n",
    "#     models=analysis.models,\n",
    "    leg_style=leg_style,\n",
    "    plot_limits=plot_limits)"
   ]
  },
  {
   "cell_type": "code",
   "execution_count": null,
   "id": "5bb01cf2",
   "metadata": {},
   "outputs": [],
   "source": [
    "leg_style = pltt.set_leg_style(\n",
    "    leg_style =leg_style, \n",
    "    datasets=analysis.pulsars, \n",
    "    models=analysis.models\n",
    ")"
   ]
  },
  {
   "cell_type": "code",
   "execution_count": null,
   "id": "06190465",
   "metadata": {},
   "outputs": [],
   "source": [
    "leg_style"
   ]
  },
  {
   "cell_type": "code",
   "execution_count": null,
   "id": "a76bf5cd",
   "metadata": {},
   "outputs": [],
   "source": [
    "analysis.df_roi"
   ]
  },
  {
   "cell_type": "code",
   "execution_count": null,
   "id": "649177f5",
   "metadata": {},
   "outputs": [],
   "source": [
    "analysis.config.roi.position"
   ]
  },
  {
   "cell_type": "code",
   "execution_count": null,
   "id": "eef8c0e0",
   "metadata": {},
   "outputs": [],
   "source": [
    "len(analysis.sources)"
   ]
  },
  {
   "cell_type": "code",
   "execution_count": null,
   "id": "fa0a6fc2",
   "metadata": {},
   "outputs": [],
   "source": [
    "len(analysis.datasets)"
   ]
  },
  {
   "cell_type": "code",
   "execution_count": null,
   "id": "0cc0fd5c",
   "metadata": {},
   "outputs": [],
   "source": [
    "ds = analysis.datasets.copy()"
   ]
  },
  {
   "cell_type": "code",
   "execution_count": null,
   "id": "4b6d1aaa",
   "metadata": {},
   "outputs": [],
   "source": [
    "pltt.show_sky_map(name=analysis.config.target_name, roi=analysis.config.roi,datasets=analysis.datasets, sources=analysis.sources, leg_style=leg_style, pulsars=analysis.pulsars\n",
    "                )  "
   ]
  },
  {
   "cell_type": "code",
   "execution_count": null,
   "id": "b567e4e4",
   "metadata": {},
   "outputs": [],
   "source": []
  },
  {
   "cell_type": "code",
   "execution_count": null,
   "id": "a9a0159a",
   "metadata": {},
   "outputs": [],
   "source": []
  },
  {
   "cell_type": "code",
   "execution_count": null,
   "id": "f55be23f",
   "metadata": {},
   "outputs": [],
   "source": [
    "source_name =\"LHAASO J1825-1326\"\n",
    "counterpart_TeV_name =\"HESS J1825-137\""
   ]
  },
  {
   "cell_type": "code",
   "execution_count": null,
   "id": "9315ce60",
   "metadata": {},
   "outputs": [],
   "source": [
    "datasets_name = f\"{name_to_txt(counterpart_TeV_name)}\"\n",
    "datasets = Datasets()\n",
    "print(datasets_name)\n",
    "for dataset in dict_analysis[source_name][counterpart_TeV_name][\"datasets\"]:\n",
    "    datasets.append(ds[dataset])\n",
    "for index, dataset in enumerate(datasets):\n",
    "    print(f\"{index}: {dataset.name}\")"
   ]
  },
  {
   "cell_type": "code",
   "execution_count": null,
   "id": "9b244cea",
   "metadata": {},
   "outputs": [],
   "source": [
    "print(datasets)"
   ]
  },
  {
   "cell_type": "code",
   "execution_count": null,
   "id": "e3e5e6b8",
   "metadata": {},
   "outputs": [],
   "source": [
    "pltt.show_SED(\n",
    "    datasets=datasets, \n",
    "#     models=analysis.models,\n",
    "    leg_style=leg_style,\n",
    "    plot_limits=plot_limits)"
   ]
  },
  {
   "cell_type": "code",
   "execution_count": null,
   "id": "2a755e58",
   "metadata": {},
   "outputs": [],
   "source": [
    "analysis.config.info"
   ]
  },
  {
   "cell_type": "code",
   "execution_count": null,
   "id": "a3fff3fa",
   "metadata": {},
   "outputs": [],
   "source": []
  }
 ],
 "metadata": {
  "ipub": {
   "titlepage": {
    "author": "R. P. Costa Jr.",
    "email": "rubensp@utfpr.edu.br",
    "institution": [
     "Federal University of Technology – Paraná (UTFPR) "
    ],
    "tagline": "A TeV Astronomy Python package based on Gammapy.",
    "title": "feupy"
   }
  },
  "kernelspec": {
   "display_name": "Python 3 (ipykernel)",
   "language": "python",
   "name": "python3"
  },
  "language_info": {
   "codemirror_mode": {
    "name": "ipython",
    "version": 3
   },
   "file_extension": ".py",
   "mimetype": "text/x-python",
   "name": "python",
   "nbconvert_exporter": "python",
   "pygments_lexer": "ipython3",
   "version": "3.9.18"
  }
 },
 "nbformat": 4,
 "nbformat_minor": 5
}
