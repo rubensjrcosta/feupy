{
 "cells": [
  {
   "cell_type": "code",
   "execution_count": 3,
   "id": "3bc9342a",
   "metadata": {},
   "outputs": [],
   "source": [
    "from gammapy.modeling.models import SkyModel"
   ]
  },
  {
   "cell_type": "code",
   "execution_count": 2,
   "id": "9ae4f0d2",
   "metadata": {},
   "outputs": [],
   "source": [
    "from gammapy.modeling.models import SpectralModel"
   ]
  },
  {
   "cell_type": "code",
   "execution_count": 7,
   "id": "87fe140e",
   "metadata": {},
   "outputs": [],
   "source": [
    "from gammapy.modeling.models import PowerLawSpectralModel"
   ]
  },
  {
   "cell_type": "code",
   "execution_count": 10,
   "id": "21829cc2",
   "metadata": {},
   "outputs": [],
   "source": [
    "from astropy import units as u\n",
    "index = 2\n",
    "amplitude = 1e-12 * u.Unit(\"TeV-1 cm-2 s-1\")\n",
    "reference = 10 * u.Unit(\"TeV\")\n",
    "datasets_names = None"
   ]
  },
  {
   "cell_type": "code",
   "execution_count": 31,
   "id": "6b0c8203",
   "metadata": {},
   "outputs": [
    {
     "name": "stdout",
     "output_type": "stream",
     "text": [
      "PowerLawSpectralModel\n",
      "\n",
      "  type      name     value         unit      ... max frozen is_norm link\n",
      "-------- --------- ---------- -------------- ... --- ------ ------- ----\n",
      "spectral     index 2.0000e+00                ... nan  False   False     \n",
      "spectral amplitude 1.0000e-12 TeV-1 s-1 cm-2 ... nan  False    True     \n",
      "spectral reference 1.0000e+00            TeV ... nan   True   False     \n"
     ]
    }
   ],
   "source": [
    "print(PowerLawSpectralModel())"
   ]
  },
  {
   "cell_type": "code",
   "execution_count": 11,
   "id": "96095896",
   "metadata": {},
   "outputs": [],
   "source": [
    "spec = PowerLawSpectralModel(\n",
    "    index=index, \n",
    "    amplitude=amplitude, \n",
    "    reference=reference,\n",
    ")"
   ]
  },
  {
   "cell_type": "code",
   "execution_count": 48,
   "id": "a21cd812",
   "metadata": {},
   "outputs": [],
   "source": [
    "from astropy import units as u\n",
    "from astropy.coordinates import SkyCoord\n",
    "from astropy.table import Table\n",
    "from gammapy.utils.scripts import make_path\n",
    "\n",
    "import csv\n",
    "\n",
    "# How to create a class:\n",
    "class Source:\n",
    "    # ADD others parameters\n",
    "    color = \"red\" # The color of the flux ponts\n",
    "    all = []\n",
    "    # Validating the units of arguments to functions\n",
    "    @u.quantity_input(pos_ra=u.deg, pos_dec=u.deg)\n",
    "    def __init__(self, name: str, pos_ra, pos_dec, catalog=None, spectral_model: SpectralModel=None, **kwargs):\n",
    "        # Run validations to the received arguments\n",
    "        assert  0 <= pos_ra.value <= 360, f\"Right Ascension {pos_ra} is not in the range: (0,360) deg!\"\n",
    "        assert -90 <= pos_dec.value <= 90, f\"Declination {pos_dec} is not in the range: (-90,90) deg!\"\n",
    "        \n",
    "        # Assign to self object\n",
    "        self.__name = name\n",
    "        self.pos = SkyCoord(pos_ra,pos_dec)\n",
    "        if catalog:\n",
    "            self.catalog = catalog\n",
    "        if spectral_model:\n",
    "#             self.spectral_model=spectral_model\n",
    "            if \"spatial_model\" in kwargs:\n",
    "                spatial_model = kwargs[\"spatial_model\"]\n",
    "            else: spatial_model=None\n",
    "            if \"temporal_model\" in kwargs:\n",
    "                temporal_model = kwargs[\"temporal_model\"]\n",
    "            else: temporal_model=None\n",
    "            if \"model_name\" in kwargs:\n",
    "                name = kwargs[\"model_name\"]\n",
    "            else: name=None\n",
    "            if \"datasets_names\" in kwargs:\n",
    "                datasets_names = kwargs[\"datasets_names\"]\n",
    "            else: datasets_names=None\n",
    "\n",
    "        \n",
    "            self.sky_model=SkyModel(\n",
    "                spectral_model=spectral_model,\n",
    "                spatial_model=spatial_model,\n",
    "                temporal_model=temporal_model,\n",
    "                name=name,\n",
    "                datasets_names=datasets_names,\n",
    "            )\n",
    "        \n",
    "        # Actions to execute\n",
    "        Source.all.append(self)\n",
    "        \n",
    "    @property\n",
    "    # Property Decorator = Read-Only Attribute\n",
    "    def name(self):\n",
    "        return self.__name\n",
    "    \n",
    "    @classmethod\n",
    "    def instantiate_from_csv(cls):\n",
    "        file_name = \"$PYTHONPATH/feupy/sources.csv\"\n",
    "        with open(make_path(file_name), 'r') as f:\n",
    "            reader = csv.DictReader(f)\n",
    "            sources = list(reader)\n",
    "\n",
    "        for source in sources:\n",
    "            name=source.get('name')\n",
    "            pos_ra=source.get('pos_ra')\n",
    "            pos_dec=source.get('pos_dec')\n",
    "\n",
    "            Source(\n",
    "                name,\n",
    "                u.Quantity(pos_ra), \n",
    "                u.Quantity(pos_dec)\n",
    "            )\n",
    "\n",
    "    @staticmethod\n",
    "    def is_integer(num):\n",
    "        # We will count out the floats that are point zero\n",
    "        # For i.e: 5.0, 10.0\n",
    "        if isinstance(num, float):\n",
    "            # Count out the floats that are point zero\n",
    "            return num.is_integer()\n",
    "        elif isinstance(num, int):\n",
    "            return True\n",
    "        else:\n",
    "            return False\n",
    "        \n",
    "    def __repr__(self):\n",
    "        return f\"{self.__class__.__name__}('{self.__name}', {self.pos.ra.deg}.deg, {self.pos.dec.deg}.deg)\""
   ]
  },
  {
   "cell_type": "code",
   "execution_count": 49,
   "id": "1f54d977",
   "metadata": {},
   "outputs": [],
   "source": [
    "def test_source():\n",
    "    return Source(\"2HWC J1825-134\", 27.46* u.Unit('deg'), 12.2* u.Unit('deg'), catalog=\"2hwc\",spectral_model=PowerLawSpectralModel(), model_name=\"name\")\n"
   ]
  },
  {
   "cell_type": "code",
   "execution_count": 50,
   "id": "37ad1e6d",
   "metadata": {},
   "outputs": [],
   "source": [
    "src=test_source()"
   ]
  },
  {
   "cell_type": "code",
   "execution_count": 51,
   "id": "1761cd40",
   "metadata": {},
   "outputs": [
    {
     "name": "stdout",
     "output_type": "stream",
     "text": [
      "PowerLawSpectralModel\n",
      "\n",
      "  type      name     value         unit      ... max frozen is_norm link\n",
      "-------- --------- ---------- -------------- ... --- ------ ------- ----\n",
      "spectral     index 2.0000e+00                ... nan  False   False     \n",
      "spectral amplitude 1.0000e-12 TeV-1 s-1 cm-2 ... nan  False    True     \n",
      "spectral reference 1.0000e+00            TeV ... nan   True   False     \n"
     ]
    }
   ],
   "source": [
    "print(src.sky_model.spectral_model)"
   ]
  },
  {
   "cell_type": "code",
   "execution_count": 52,
   "id": "68cf2b87",
   "metadata": {},
   "outputs": [
    {
     "name": "stdout",
     "output_type": "stream",
     "text": [
      "SkyModel\n",
      "\n",
      "  Name                      : name\n",
      "  Datasets names            : None\n",
      "  Spectral model type       : PowerLawSpectralModel\n",
      "  Spatial  model type       : \n",
      "  Temporal model type       : \n",
      "  Parameters:\n",
      "    index                         :      2.000   +/-    0.00             \n",
      "    amplitude                     :   1.00e-12   +/- 0.0e+00 1 / (TeV s cm2)\n",
      "    reference             (frozen):      1.000       TeV         \n",
      "\n",
      "\n"
     ]
    }
   ],
   "source": [
    "print(src.sky_model)"
   ]
  },
  {
   "cell_type": "code",
   "execution_count": 56,
   "id": "a89fa848",
   "metadata": {},
   "outputs": [
    {
     "data": {
      "text/plain": [
       "Parameter(name='amplitude', value=1e-12, factor=1e-12, scale=1.0, unit=Unit(\"1 / (TeV s cm2)\"), min=nan, max=nan, frozen=False, id=0x7ff8fc427310)"
      ]
     },
     "execution_count": 56,
     "metadata": {},
     "output_type": "execute_result"
    }
   ],
   "source": [
    "src.sky_model.spectral_model.amplitude"
   ]
  },
  {
   "cell_type": "code",
   "execution_count": null,
   "id": "37db7e70",
   "metadata": {},
   "outputs": [],
   "source": []
  }
 ],
 "metadata": {
  "kernelspec": {
   "display_name": "Python 3 (ipykernel)",
   "language": "python",
   "name": "python3"
  },
  "language_info": {
   "codemirror_mode": {
    "name": "ipython",
    "version": 3
   },
   "file_extension": ".py",
   "mimetype": "text/x-python",
   "name": "python",
   "nbconvert_exporter": "python",
   "pygments_lexer": "ipython3",
   "version": "3.9.18"
  }
 },
 "nbformat": 4,
 "nbformat_minor": 5
}
