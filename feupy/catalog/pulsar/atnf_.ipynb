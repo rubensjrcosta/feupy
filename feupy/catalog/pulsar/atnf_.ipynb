{
 "cells": [
  {
   "cell_type": "code",
   "execution_count": 2,
   "id": "d0a976cb",
   "metadata": {},
   "outputs": [],
   "source": []
  },
  {
   "cell_type": "code",
   "execution_count": 1,
   "id": "3421b685",
   "metadata": {},
   "outputs": [],
   "source": [
    "# Licensed under a 3-clause BSD style license - see LICENSE.rst\n",
    "\n",
    "from psrqpy import QueryATNF\n",
    "def query_ATNF():\n",
    "    _table = QueryATNF\n",
    "    return _table \n",
    "\n",
    "\"\"\"Pulsar default parameters\"\"\"\n",
    "PSR_PARAMS =['JNAME', 'RAJD', 'DECJD','RAJ', 'DECJ','DIST','DIST_DM', 'AGE', 'P0','BSURF','EDOT', 'TYPE', 'Assoc']\n",
    "\n",
    "\n",
    "class SourceCatalogATNF():\n",
    "    \"\"\"ATNF Pulsar Catalogue.\n",
    "\n",
    "    See: https://www.atnf.csiro.au/research/pulsar/psrcat/\n",
    "\n",
    "    One source is represented by `~feupy.catalog.SourceCatalogATNF`.\n",
    "    \"\"\"    \n",
    "    tag = \"atnf\"\n",
    "    description = \"An online catalog of pulsars\"\n",
    "    \n",
    "    \n",
    "    def PSR_PARAMS(self):\n",
    "        return PSR_PARAMS\n",
    "    \n",
    "    \n",
    "    def __init__(self):\n",
    "        self.__query = query_ATNF()\n",
    "\n",
    "    def table(self):\n",
    "        return self.__query().table\n",
    "\n",
    "    def pandas(self):\n",
    "        return self.__query().pandas\n",
    "\n",
    "    @property\n",
    "    # Property Decorator = Read-Only Attribute\n",
    "    def query(self):\n",
    "        return self.__query\n",
    "    \n",
    "\n",
    "    @property        \n",
    "    def version(self):\n",
    "        return __query.get_version\n"
   ]
  },
  {
   "cell_type": "code",
   "execution_count": null,
   "id": "3525bc2d",
   "metadata": {},
   "outputs": [],
   "source": []
  }
 ],
 "metadata": {
  "kernelspec": {
   "display_name": "Python 3 (ipykernel)",
   "language": "python",
   "name": "python3"
  },
  "language_info": {
   "codemirror_mode": {
    "name": "ipython",
    "version": 3
   },
   "file_extension": ".py",
   "mimetype": "text/x-python",
   "name": "python",
   "nbconvert_exporter": "python",
   "pygments_lexer": "ipython3",
   "version": "3.9.18"
  }
 },
 "nbformat": 4,
 "nbformat_minor": 5
}
