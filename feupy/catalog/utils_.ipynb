{
 "cells": [
  {
   "cell_type": "code",
   "execution_count": 5,
   "id": "62401bac",
   "metadata": {},
   "outputs": [
    {
     "data": {
      "text/plain": [
       "'Catalog utilities classes.'"
      ]
     },
     "execution_count": 5,
     "metadata": {},
     "output_type": "execute_result"
    }
   ],
   "source": [
    "# Licensed under a 3-clause BSD style license - see LICENSE.rst\n",
    "\"\"\"Catalog utilities classes.\"\"\""
   ]
  },
  {
   "cell_type": "code",
   "execution_count": 6,
   "id": "908271b9",
   "metadata": {},
   "outputs": [],
   "source": [
    "from feupy.catalog import CATALOG_REGISTRY \n",
    "from feupy.catalog import CATALOG_REGISTRY_GAMMAPY \n",
    "from feupy.catalog import CATALOG_REGISTRY_FEUPY "
   ]
  },
  {
   "cell_type": "code",
   "execution_count": 7,
   "id": "44bd99ed",
   "metadata": {},
   "outputs": [],
   "source": [
    "def load_catalog(tag=None):\n",
    "    \"\"\"\n",
    "    \"\"\"\n",
    "    return  CATALOG_REGISTRY.get_cls(tag)()\n",
    "\n",
    "\n",
    "def _get_catalogs(catalogs_registry = None):\n",
    "    source_catalogs = []\n",
    "    for index, catalog in enumerate(catalogs_registry):\n",
    "        catalog_cls = catalogs_registry.get_cls(catalog.tag)()\n",
    "        source_catalogs.append(catalog_cls)\n",
    "    return source_catalogs\n",
    "    \n",
    "\n",
    "def load_catalogs(cats=\"all\"):\n",
    "    \"\"\"load catalogs.\n",
    "\n",
    "    Parameters\n",
    "    ----------\n",
    "    cats : {'all', 'gamma', 'gammapy', 'feupy'}\n",
    "        list of possible options\n",
    "    \"\"\"\n",
    "    if cats == \"all\":\n",
    "        return _get_catalogs(catalogs_registry = CATALOG_REGISTRY)\n",
    "    elif cats == \"gammapy\":\n",
    "        return _get_catalogs(catalogs_registry = CATALOG_REGISTRY_GAMMAPY)\n",
    "    elif cats == \"feupy\":\n",
    "        return _get_catalogs(catalogs_registry = CATALOG_REGISTRY_FEUPY)\n",
    "    elif cats == \"gamma\":\n",
    "        source_catalogs =  _get_catalogs(catalogs_registry = CATALOG_REGISTRY)\n",
    "        source_catalogs.remove(source_catalogs[-1])\n",
    "        return source_catalogs\n",
    "\n",
    "# In[14]:\n",
    "\n",
    "\n",
    "def catalogs_info():\n",
    "    \"\"\"\n",
    "    \"\"\"\n",
    "    print (f\"Source catalogs in Gammapy: {len(CATALOG_REGISTRY_GAMMAPY)}\\n\")\n",
    "    for gindex, catalog in enumerate(CATALOG_REGISTRY_GAMMAPY):\n",
    "        print(f\"(catalog index: {gindex}) {CATALOG_REGISTRY_GAMMAPY.get_cls(catalog.tag)()}\")\n",
    "    print (f\"Source catalogs in Feupy: {len(CATALOG_REGISTRY_FEUPY)}\\n\")\n",
    "    for index, catalog in enumerate(CATALOG_REGISTRY_FEUPY):\n",
    "        print(f\"(catalog index: {index+gindex+1}) {CATALOG_REGISTRY_FEUPY.get_cls(catalog.tag)()}\")\n"
   ]
  },
  {
   "cell_type": "code",
   "execution_count": null,
   "id": "bbcb9129",
   "metadata": {},
   "outputs": [],
   "source": []
  }
 ],
 "metadata": {
  "kernelspec": {
   "display_name": "Python 3 (ipykernel)",
   "language": "python",
   "name": "python3"
  },
  "language_info": {
   "codemirror_mode": {
    "name": "ipython",
    "version": 3
   },
   "file_extension": ".py",
   "mimetype": "text/x-python",
   "name": "python",
   "nbconvert_exporter": "python",
   "pygments_lexer": "ipython3",
   "version": "3.9.18"
  }
 },
 "nbformat": 4,
 "nbformat_minor": 5
}
