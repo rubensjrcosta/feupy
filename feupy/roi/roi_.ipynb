{
 "cells": [
  {
   "cell_type": "code",
   "execution_count": 5,
   "id": "ac2ab14d",
   "metadata": {},
   "outputs": [
    {
     "data": {
      "text/plain": [
       "'ROI classes.'"
      ]
     },
     "execution_count": 5,
     "metadata": {},
     "output_type": "execute_result"
    }
   ],
   "source": [
    "# Licensed under a 3-clause BSD style license - see LICENSE.rst\n",
    "\"\"\"ROI classes.\"\"\""
   ]
  },
  {
   "cell_type": "code",
   "execution_count": 6,
   "id": "9bc0bd75",
   "metadata": {},
   "outputs": [],
   "source": [
    "from astropy import units as u\n",
    "from astropy.units import Quantity\n",
    "\n",
    "from feupy.scripts import gammapy_catalogs \n",
    "\n",
    "from feupy.catalog.pulsar.atnf import SourceCatalogATNF\n",
    "from feupy.catalog.lhaaso import SourceCatalogPublishNatureLHAASO\n",
    "from feupy.catalog.hawc import SourceCatalogExtraHAWC\n",
    "\n",
    "from feupy.target import Target"
   ]
  },
  {
   "cell_type": "code",
   "execution_count": 7,
   "id": "4513ce03",
   "metadata": {},
   "outputs": [],
   "source": [
    "__all__ = [\n",
    "    \"ROI\",\n",
    "]"
   ]
  },
  {
   "cell_type": "code",
   "execution_count": 24,
   "id": "1a45ab21",
   "metadata": {},
   "outputs": [],
   "source": [
    "class ROI:\n",
    "    # ADD others parameters\n",
    "    all=[]\n",
    "\n",
    "    # Validating the units of arguments to functions\n",
    "    @u.quantity_input(radius=u.deg)\n",
    "    def __init__(self, \n",
    "                 target, \n",
    "                 radius\n",
    "                ):\n",
    "\n",
    "        # Assign to self object\n",
    "        self.target = target\n",
    "        self.radius = Quantity(radius, \"deg\")\n",
    "        self.dict = self._to_dict()\n",
    "        \n",
    "        # Actions to execute\n",
    "        ROI.all.append(self) \n",
    "        \n",
    "    @property\n",
    "    def target(self):\n",
    "        \"\"\"Target as an `~feupy.target.Target` object.\"\"\"\n",
    "        return self._target\n",
    "\n",
    "    @target.setter\n",
    "    def target(self, value):\n",
    "        if isinstance(value, Target):\n",
    "            self._target = value\n",
    "        else:\n",
    "            raise TypeError(\"target must be Target\")\n",
    "\n",
    "    def _to_dict(self):\n",
    "        _dict = self.target.dict.copy()\n",
    "        _dict[\"radius\"] = self.radius\n",
    "        return _dict\n",
    "\n",
    "    @property\n",
    "    def info(self):\n",
    "        \"\"\"ROI report (`str`).\"\"\"\n",
    "        ss = 'Target:\\n'\n",
    "        target_info = self.target.info()\n",
    "        ss += '{}'.format(target_info)\n",
    "        ss += '\\nRegion:\\n'\n",
    "        _ss = \"radius={:.2f}\\n\".format(self.radius).replace(' ', '').replace('=', ' = ')\n",
    "        ss += _ss\n",
    "        return ss\n",
    "    \n",
    "    @property\n",
    "    def catalogs(self):\n",
    "        _catalogs = []\n",
    "        catalogs_roi = []\n",
    "        sources = [] \n",
    "        pulsars = [] \n",
    "        \n",
    "        position = self.target.position \n",
    "        radius = self.radius \n",
    "\n",
    "        _catalogs.extend(gammapy_catalogs.load_all_catalogs())\n",
    "        _catalogs.append(SourceCatalogExtraHAWC())\n",
    "        _catalogs.append(SourceCatalogPublishNatureLHAASO())\n",
    "        _catalogs.append(SourceCatalogATNF())\n",
    "\n",
    "        for catalog in _catalogs:        \n",
    "            # Selects only sources within the region of interest. \n",
    "            separation = position.separation(catalog.positions)\n",
    "\n",
    "            mask_roi = separation < radius\n",
    "\n",
    "            if len(catalog[mask_roi].table):\n",
    "                catalogs_roi.append(catalog[mask_roi])\n",
    "                for source in catalog[mask_roi]:\n",
    "                    if catalog[mask_roi].tag == \"ATNF\":\n",
    "                        pulsars.append(source)\n",
    "                    else: sources.append(source)\n",
    "                       \n",
    "        self.pulsars = pulsars\n",
    "        self.sources = sources\n",
    "#         if info:\n",
    "#             print(f\"Total number of gamma ray sources: {len(sources)}\")\n",
    "#             print(f\"Total number of pulsars: {len(pulsars)}\")\n",
    " \n",
    "        return catalogs_roi\n",
    "    \n",
    "    \n",
    "    def __repr__(self):\n",
    "        ss = f\"{self.__class__.__name__}(\"\n",
    "        ss += f\"name={self.target.name!r}, \"\n",
    "        ss += \"pos_ra=Quantity('{:.2f}'), \".format(self.target.position.ra).replace(' ', '')\n",
    "        ss += \"pos_dec=Quantity('{:.2f}'), \".format(self.target.position.dec).replace(' ', '')\n",
    "        ss += \"radius=Quantity('{:.2f}'))\\n\".format(self.radius).replace(' ', '')\n",
    "        return ss.replace('=', ' = ')   "
   ]
  },
  {
   "cell_type": "code",
   "execution_count": 25,
   "id": "0062ed16",
   "metadata": {},
   "outputs": [],
   "source": [
    "# from feupy.target import Target\n",
    "\n",
    "from astropy import units as u\n",
    "from astropy.units import Quantity\n",
    "from gammapy.modeling.models import (\n",
    "    PowerLawSpectralModel,\n",
    "    SkyModel,\n",
    ")\n",
    "from astropy.coordinates import Angle\n",
    "\n",
    "name = \"LHAASO J1825-1326\"\n",
    "pos_ra = u.Quantity(\"276.45deg\") \n",
    "pos_dec = -13.45* u.Unit('deg')\n",
    "\n",
    "on_region_radius = on_region_radius=Angle(\"1.0 deg\")\n",
    "model = PowerLawSpectralModel()\n",
    "target = Target(name, pos_ra, pos_dec, spectral_model=model)\n",
    "roi = ROI(target, radius=on_region_radius)"
   ]
  },
  {
   "cell_type": "code",
   "execution_count": 26,
   "id": "4960e7e1",
   "metadata": {},
   "outputs": [
    {
     "name": "stdout",
     "output_type": "stream",
     "text": [
      "Target:\n",
      "\n",
      "*** Basic info ***\n",
      "\n",
      "Source name : LHAASO J1825-1326\n",
      "\n",
      "*** Position info ***\n",
      "\n",
      "RA: 276.450 deg\n",
      "DEC: -13.450 deg\n",
      "\n",
      "*** Spectral info ***\n",
      "\n",
      "Spectrum type:  PowerLawSpectralModel\n",
      "index: 2.0 +- 0 \n",
      "amplitude: 1e-12 +- 0 TeV⁻¹ s⁻¹ cm⁻²\n",
      "reference: 1.0 +- 0 TeV\n",
      "\n",
      "Region:\n",
      "radius = 1.00deg\n",
      "\n"
     ]
    }
   ],
   "source": [
    "print(roi.info)"
   ]
  },
  {
   "cell_type": "code",
   "execution_count": 19,
   "id": "2b7834f3",
   "metadata": {},
   "outputs": [
    {
     "data": {
      "text/plain": [
       "gammapy.maps.maps.Maps"
      ]
     },
     "execution_count": 19,
     "metadata": {},
     "output_type": "execute_result"
    }
   ],
   "source": [
    "Maps"
   ]
  },
  {
   "cell_type": "code",
   "execution_count": null,
   "id": "5d6a27e0",
   "metadata": {},
   "outputs": [],
   "source": []
  }
 ],
 "metadata": {
  "kernelspec": {
   "display_name": "Python 3 (ipykernel)",
   "language": "python",
   "name": "python3"
  },
  "language_info": {
   "codemirror_mode": {
    "name": "ipython",
    "version": 3
   },
   "file_extension": ".py",
   "mimetype": "text/x-python",
   "name": "python",
   "nbconvert_exporter": "python",
   "pygments_lexer": "ipython3",
   "version": "3.9.18"
  }
 },
 "nbformat": 4,
 "nbformat_minor": 5
}
