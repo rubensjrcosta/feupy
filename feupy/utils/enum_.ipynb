{
 "cells": [
  {
   "cell_type": "code",
   "execution_count": 1,
   "id": "3f46c044",
   "metadata": {},
   "outputs": [
    {
     "data": {
      "text/plain": [
       "'Utilities for validation.'"
      ]
     },
     "execution_count": 1,
     "metadata": {},
     "output_type": "execute_result"
    }
   ],
   "source": [
    "# Licensed under a 3-clause BSD style license - see LICENSE.rst\n",
    "\"\"\"Utilities for enum validation.\"\"\""
   ]
  },
  {
   "cell_type": "code",
   "execution_count": 1,
   "id": "daadfc2b",
   "metadata": {},
   "outputs": [],
   "source": [
    "from enum import Enum"
   ]
  },
  {
   "cell_type": "code",
   "execution_count": 4,
   "id": "08f90bf9",
   "metadata": {},
   "outputs": [],
   "source": [
    "__all__ = [\n",
    "    \"CatalogsTypeEnum\",\n",
    "    \"ReductionTypeEnum\",\n",
    "    \"FrameEnum\",\n",
    "    \"RequiredHDUEnum\",\n",
    "    \"BackgroundMethodEnum\",\n",
    "    \"SafeMaskMethodsEnum\",\n",
    "    \"MapSelectionEnum\",\n",
    "]\n"
   ]
  },
  {
   "cell_type": "code",
   "execution_count": 3,
   "id": "7c766987",
   "metadata": {},
   "outputs": [],
   "source": [
    "class CatalogsTypeEnum(str, Enum):\n",
    "    all = \"all\"\n",
    "    gamma = \"gamma\"\n",
    "    gammapy = \"gammapy\"\n",
    "    feupy = \"feupy\"\n",
    "\n",
    "    \n",
    "class ReductionTypeEnum(str, Enum):\n",
    "    spectrum = \"1d\"\n",
    "    cube = \"3d\"\n",
    "\n",
    "\n",
    "class FrameEnum(str, Enum):\n",
    "    icrs = \"icrs\"\n",
    "    galactic = \"galactic\"\n",
    "\n",
    "\n",
    "class RequiredHDUEnum(str, Enum):\n",
    "    events = \"events\"\n",
    "    gti = \"gti\"\n",
    "    aeff = \"aeff\"\n",
    "    bkg = \"bkg\"\n",
    "    edisp = \"edisp\"\n",
    "    psf = \"psf\"\n",
    "    rad_max = \"rad_max\"\n",
    "\n",
    "\n",
    "class BackgroundMethodEnum(str, Enum):\n",
    "    reflected = \"reflected\"\n",
    "    fov = \"fov_background\"\n",
    "    ring = \"ring\"\n",
    "\n",
    "\n",
    "class SafeMaskMethodsEnum(str, Enum):\n",
    "    aeff_default = \"aeff-default\"\n",
    "    aeff_max = \"aeff-max\"\n",
    "    edisp_bias = \"edisp-bias\"\n",
    "    offset_max = \"offset-max\"\n",
    "    bkg_peak = \"bkg-peak\"\n",
    "\n",
    "\n",
    "class MapSelectionEnum(str, Enum):\n",
    "    counts = \"counts\"\n",
    "    exposure = \"exposure\"\n",
    "    background = \"background\"\n",
    "    psf = \"psf\"\n",
    "    edisp = \"edisp\""
   ]
  },
  {
   "cell_type": "code",
   "execution_count": null,
   "id": "96affc6b",
   "metadata": {},
   "outputs": [],
   "source": []
  }
 ],
 "metadata": {
  "ipub": {
   "titlepage": {
    "author": "R. P. Costa Jr.",
    "email": "rubensp@utfpr.edu.br",
    "institution": [
     "Federal University of Technology – Paraná (UTFPR) "
    ],
    "tagline": "A TeV Astronomy Python package based on Gammapy.",
    "title": "feupy"
   }
  },
  "kernelspec": {
   "display_name": "Python 3 (ipykernel)",
   "language": "python",
   "name": "python3"
  },
  "language_info": {
   "codemirror_mode": {
    "name": "ipython",
    "version": 3
   },
   "file_extension": ".py",
   "mimetype": "text/x-python",
   "name": "python",
   "nbconvert_exporter": "python",
   "pygments_lexer": "ipython3",
   "version": "3.9.18"
  }
 },
 "nbformat": 4,
 "nbformat_minor": 5
}
