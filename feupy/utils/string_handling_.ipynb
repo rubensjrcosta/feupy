{
 "cells": [
  {
   "cell_type": "code",
   "execution_count": 1,
   "id": "a4931e91",
   "metadata": {},
   "outputs": [],
   "source": [
    "def name_to_txt(name):\n",
    "    return name.replace(\" \", \"_\").replace(\":\", \"\")"
   ]
  },
  {
   "cell_type": "code",
   "execution_count": 2,
   "id": "fa776ffd",
   "metadata": {},
   "outputs": [],
   "source": [
    "# Data column for use in a Table object to string using join()\n",
    "def column_to_string(column):\n",
    "    return f'[{\",\".join(str(element) for element in list(column))}]'"
   ]
  },
  {
   "cell_type": "code",
   "execution_count": null,
   "id": "695acba2",
   "metadata": {},
   "outputs": [],
   "source": [
    "# string representation of list to list using json.loads()\n",
    "import json\n",
    "def string_to_list(string):\n",
    "    return json.loads(string)"
   ]
  }
 ],
 "metadata": {
  "ipub": {
   "titlepage": {
    "author": "R. P. Costa Jr.",
    "email": "rubensp@utfpr.edu.br",
    "institution": [
     "Federal University of Technology – Paraná (UTFPR) "
    ],
    "tagline": "A TeV Astronomy Python package based on Gammapy.",
    "title": "feupy"
   }
  },
  "kernelspec": {
   "display_name": "Python 3 (ipykernel)",
   "language": "python",
   "name": "python3"
  },
  "language_info": {
   "codemirror_mode": {
    "name": "ipython",
    "version": 3
   },
   "file_extension": ".py",
   "mimetype": "text/x-python",
   "name": "python",
   "nbconvert_exporter": "python",
   "pygments_lexer": "ipython3",
   "version": "3.9.18"
  }
 },
 "nbformat": 4,
 "nbformat_minor": 5
}
