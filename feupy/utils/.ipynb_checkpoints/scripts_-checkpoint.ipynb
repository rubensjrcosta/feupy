{
 "cells": [
  {
   "cell_type": "code",
   "execution_count": null,
   "id": "3f46c044",
   "metadata": {},
   "outputs": [],
   "source": [
    "# Licensed under a 3-clause BSD style license - see LICENSE.rst\n",
    "\"\"\"Utilities to create scripts and command-line tools.\"\"\"\n",
    "\n",
    "import pickle\n",
    "from gammapy.utils.scripts import make_path\n",
    "from astropy.coordinates import SkyCoord"
   ]
  },
  {
   "cell_type": "code",
   "execution_count": 1,
   "id": "7c766987",
   "metadata": {},
   "outputs": [],
   "source": [
    "def pickling(object_instance, file_name):        \n",
    "    \"\"\"...\"\"\"\n",
    "    with open(make_path(f\"{file_name}.pkl\"), \"wb\") as fp:  \n",
    "        pickle.dump(object_instance, fp)\n",
    "        \n",
    "    return"
   ]
  },
  {
   "cell_type": "code",
   "execution_count": null,
   "id": "f26d0b57",
   "metadata": {},
   "outputs": [],
   "source": [
    "def unpickling(file_name):        \n",
    "    \"\"\"...\"\"\"\n",
    "    with open(make_path(f\"{file_name}.pkl\"), \"rb\") as fp:  \n",
    "        return pickle.load(fp)"
   ]
  },
  {
   "cell_type": "code",
   "execution_count": null,
   "id": "97d0588f",
   "metadata": {},
   "outputs": [],
   "source": [
    "def is_documented_by(original):\n",
    "    def wrapper(target):\n",
    "        ss = '*** Docstring of internal function\\class ***\\n'\n",
    "        if isinstance(original, list):\n",
    "            for _original in original:\n",
    "                ss += f\"{_original.__qualname__}:\\n\"\n",
    "                ss += f\"{_original.__doc__}\\n\"\n",
    "        else:\n",
    "            ss += f\"{original.__doc__}\\n\"\n",
    "        if target.__doc__:\n",
    "            ss += f'\\n*** Docstring of {target.__qualname__} ***\\n'\n",
    "            ss += f\"{target.__doc__}\"\n",
    "        target.__doc__ = ss\n",
    "        return target\n",
    "    return wrapper"
   ]
  },
  {
   "cell_type": "code",
   "execution_count": null,
   "id": "beba185e",
   "metadata": {},
   "outputs": [],
   "source": [
    "def skcoord_to_dict(position: SkyCoord):\n",
    "    return {\n",
    "        'lon': position.ra,\n",
    "        'lat': position.dec,\n",
    "        'frame': position.frame.name,\n",
    "    }\n"
   ]
  },
  {
   "cell_type": "code",
   "execution_count": 1,
   "id": "f65c84fa",
   "metadata": {},
   "outputs": [],
   "source": [
    "def dict_to_skcoord(pos_dict: dict):\n",
    "    return SkyCoord(pos_dict.lon, pos_dict.lat, frame=pos_dict.frame)"
   ]
  },
  {
   "cell_type": "code",
   "execution_count": null,
   "id": "96affc6b",
   "metadata": {},
   "outputs": [],
   "source": []
  }
 ],
 "metadata": {
  "ipub": {
   "titlepage": {
    "author": "R. P. Costa Jr.",
    "email": "rubensp@utfpr.edu.br",
    "institution": [
     "Federal University of Technology – Paraná (UTFPR) "
    ],
    "tagline": "A TeV Astronomy Python package based on Gammapy.",
    "title": "feupy"
   }
  },
  "kernelspec": {
   "display_name": "Python 3 (ipykernel)",
   "language": "python",
   "name": "python3"
  },
  "language_info": {
   "codemirror_mode": {
    "name": "ipython",
    "version": 3
   },
   "file_extension": ".py",
   "mimetype": "text/x-python",
   "name": "python",
   "nbconvert_exporter": "python",
   "pygments_lexer": "ipython3",
   "version": "3.9.18"
  }
 },
 "nbformat": 4,
 "nbformat_minor": 5
}
