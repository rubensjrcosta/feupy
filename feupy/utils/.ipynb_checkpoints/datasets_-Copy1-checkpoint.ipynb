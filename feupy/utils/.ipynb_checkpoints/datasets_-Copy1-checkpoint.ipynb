{
 "cells": [
  {
   "cell_type": "code",
   "execution_count": 7,
   "id": "821a3525",
   "metadata": {},
   "outputs": [],
   "source": [
    "import numpy as np\n",
    "\n",
    "from gammapy.datasets import Datasets\n",
    "from gammapy.datasets import FluxPointsDataset\n",
    "\n",
    "from gammapy.estimators import FluxPoints\n",
    "\n",
    "from gammapy.modeling.models import SkyModel\n",
    "\n",
    "from feupy.utils.scripts import is_documented_by"
   ]
  },
  {
   "cell_type": "code",
   "execution_count": null,
   "id": "5299079e",
   "metadata": {},
   "outputs": [],
   "source": []
  },
  {
   "cell_type": "code",
   "execution_count": 2,
   "id": "6a73b4f5",
   "metadata": {},
   "outputs": [],
   "source": [
    "@is_documented_by([FluxPoints, FluxPointsDataset])\n",
    "def flux_points_dataset_from_table(\n",
    "    table,\n",
    "    reference_model=None,\n",
    "    sed_type=None,\n",
    "    name=None,\n",
    "    kwargs_fp={\n",
    "        'format':'gadf-sed',\n",
    "        'gti': None,\n",
    "    },\n",
    "    kwargs_ds={\n",
    "        'mask_fit': None,\n",
    "        'mask_safe': None,\n",
    "        'meta_table': None,\n",
    "    }\n",
    "):\n",
    "    flux_points = FluxPoints.from_table(\n",
    "        table=table, \n",
    "        reference_model=reference_model, \n",
    "        sed_type=sed_type,\n",
    "        **kwargs_fp,\n",
    "    )\n",
    "    \n",
    "    models = None\n",
    "    if reference_model:\n",
    "        models = SkyModel(spectral_model=reference_model, name=name)\n",
    "    \n",
    "    return FluxPointsDataset(\n",
    "        models=models,\n",
    "        data=flux_points, \n",
    "        name=name,\n",
    "        **kwargs_ds,\n",
    "    )"
   ]
  },
  {
   "cell_type": "code",
   "execution_count": 3,
   "id": "f26d0b57",
   "metadata": {},
   "outputs": [],
   "source": [
    "def cut_energy_table_fp(dataset, e_ref_min=None, e_ref_max=None):\n",
    "    _datasets = Datasets()\n",
    "\n",
    "    flux_points = dataset.data\n",
    "    models = dataset.models[0]      \n",
    "    ds_name = dataset.name\n",
    "\n",
    "    if e_ref_min != None:\n",
    "        mask_energy = np.zeros(len(flux_points.to_table()), dtype=bool)\n",
    "\n",
    "        for m, e_ref in enumerate(flux_points.energy_ref):\n",
    "            if e_ref >= e_ref_min:\n",
    "                mask_energy[m] = True\n",
    "\n",
    "        flux_points_mask = flux_points.to_table()[mask_energy]\n",
    "        flux_points = FluxPoints.from_table(flux_points_mask)\n",
    "\n",
    "    if e_ref_max != None:\n",
    "        mask_energy = np.zeros(len(flux_points.to_table()), dtype=bool)\n",
    "\n",
    "        for m, e_ref in enumerate(flux_points.energy_ref):\n",
    "            if e_ref <= e_ref_max:\n",
    "                mask_energy[m] = True\n",
    "\n",
    "        flux_points_mask = flux_points.to_table()[mask_energy]\n",
    "        flux_points = FluxPoints.from_table(flux_points_mask)     \n",
    "\n",
    "    return FluxPointsDataset(models=models, data=flux_points, name=ds_name)"
   ]
  },
  {
   "cell_type": "code",
   "execution_count": 4,
   "id": "c5fe00a8",
   "metadata": {},
   "outputs": [],
   "source": [
    "@is_documented_by(Datasets)\n",
    "def write_datasets(datasets, filename=None, filename_models=None, overwrite=True):\n",
    "    \"\"\"Write Datasets and Models to YAML file.\n",
    "\n",
    "        Parameters\n",
    "        ----------\n",
    "        overwrite : bool, optional\n",
    "            Overwrite existing file. Default is True.\n",
    "        \"\"\"\n",
    "    \n",
    "    if filename is None:\n",
    "        filename = \"./datasets\"\n",
    "    else: filename.mkdir(parents=True, exist_ok=True)\n",
    "    if filename_models:\n",
    "        filename_models.mkdir(parents=True, exist_ok=True)\n",
    "        \n",
    "    datasets.write(filename=f\"{filename}.yaml\", filename_models=f\"{filename_models}.yaml\", overwrite=overwrite)\n"
   ]
  },
  {
   "cell_type": "code",
   "execution_count": 5,
   "id": "8268fc0b",
   "metadata": {},
   "outputs": [],
   "source": [
    "def write_datasets(datasets, path_file=None, overwrite=True):\n",
    "    \"\"\"Write Datasets and Models to YAML file.\n",
    "\n",
    "        Parameters\n",
    "        ----------\n",
    "        overwrite : bool, optional\n",
    "            Overwrite existing file. Default is True.\n",
    "        \"\"\"\n",
    "    \n",
    "    if path_file is None:\n",
    "        path_file = \".\"\n",
    "    else: path_file.mkdir(parents=True, exist_ok=True)\n",
    "    datasets.write(filename=f\"{path_file}/datasets.yaml\", filename_models=f\"{path_file}/models.yaml\", overwrite=overwrite)\n"
   ]
  },
  {
   "cell_type": "code",
   "execution_count": 6,
   "id": "6c253f84",
   "metadata": {},
   "outputs": [],
   "source": [
    "@is_documented_by([FluxPoints, FluxPointsDataset])\n",
    "def read_datasets(path_file=None):\n",
    "    \"\"\"Read Datasets and Models from YAML file.\"\"\"\n",
    "\n",
    "    if path_file is None:\n",
    "        path_file = \".\"\n",
    "    else: path_file.mkdir(parents=True, exist_ok=True)\n",
    "    return Datasets.read(filename=f\"{path_file}/datasets.yaml\", filename_models=f\"{path_file}/models.yaml\")\n"
   ]
  },
  {
   "cell_type": "code",
   "execution_count": null,
   "id": "44e98b87",
   "metadata": {},
   "outputs": [],
   "source": [
    "# # To save only the models\n",
    "# models_3fhl.write(\"3fhl_models.yaml\", overwrite=True)\n",
    "\n",
    "# # To save datasets and models\n",
    "# datasets.write(\n",
    "#     filename=\"datasets-gc.yaml\", filename_models=\"models_gc.yaml\", overwrite=True\n",
    "# )\n",
    "\n",
    "# # To read only models\n",
    "# models = Models.read(\"3fhl_models.yaml\")\n",
    "# print(models)\n",
    "\n",
    "# # To read datasets with models\n",
    "# datasets_read = Datasets.read(\"datasets-gc.yaml\", filename_models=\"models_gc.yaml\")\n",
    "# print(datasets_read)"
   ]
  }
 ],
 "metadata": {
  "ipub": {
   "titlepage": {
    "author": "R. P. Costa Jr.",
    "email": "rubensp@utfpr.edu.br",
    "institution": [
     "Federal University of Technology – Paraná (UTFPR) "
    ],
    "tagline": "A TeV Astronomy Python package based on Gammapy.",
    "title": "feupy"
   }
  },
  "kernelspec": {
   "display_name": "Python 3 (ipykernel)",
   "language": "python",
   "name": "python3"
  },
  "language_info": {
   "codemirror_mode": {
    "name": "ipython",
    "version": 3
   },
   "file_extension": ".py",
   "mimetype": "text/x-python",
   "name": "python",
   "nbconvert_exporter": "python",
   "pygments_lexer": "ipython3",
   "version": "3.9.18"
  }
 },
 "nbformat": 4,
 "nbformat_minor": 5
}
