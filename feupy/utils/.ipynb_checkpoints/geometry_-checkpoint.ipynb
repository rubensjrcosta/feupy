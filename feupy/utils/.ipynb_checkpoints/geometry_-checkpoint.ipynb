{
 "cells": [
  {
   "cell_type": "code",
   "execution_count": null,
   "id": "821a3525",
   "metadata": {},
   "outputs": [],
   "source": [
    "import numpy as np\n",
    "\n",
    "from gammapy.datasets import Datasets\n",
    "from gammapy.datasets import FluxPointsDataset\n",
    "\n",
    "from gammapy.estimators import FluxPoints"
   ]
  },
  {
   "cell_type": "code",
   "execution_count": 1,
   "id": "7c766987",
   "metadata": {},
   "outputs": [],
   "source": [
    "def ds_fp_from_table_fp(table, sky_model, source_name, sed_type = \"e2dnde\"):\n",
    "    '''Returns the flux points dataset from the flux points table \n",
    "    \n",
    "    >>> ds_fp_from_table_fp(table, sky_model, sed_type)\n",
    "    ds_fp\n",
    "    '''\n",
    "    flux_points = FluxPoints.from_table(table=table, reference_model=sky_model, sed_type=sed_type)\n",
    "    \n",
    "    return FluxPointsDataset(\n",
    "        models=sky_model,\n",
    "        data=flux_points, \n",
    "        name=source_name\n",
    "    )"
   ]
  },
  {
   "cell_type": "code",
   "execution_count": null,
   "id": "f26d0b57",
   "metadata": {},
   "outputs": [],
   "source": [
    "def cut_energy_table_fp(dataset, e_ref_min=None, e_ref_max=None):\n",
    "    _datasets = Datasets()\n",
    "\n",
    "    flux_points = dataset.data\n",
    "    models = dataset.models[0]      \n",
    "    ds_name = dataset.name\n",
    "\n",
    "    if e_ref_min != None:\n",
    "        mask_energy = np.zeros(len(flux_points.to_table()), dtype=bool)\n",
    "\n",
    "        for m, e_ref in enumerate(flux_points.energy_ref):\n",
    "            if e_ref >= e_ref_min:\n",
    "                mask_energy[m] = True\n",
    "\n",
    "        flux_points_mask = flux_points.to_table()[mask_energy]\n",
    "        flux_points = FluxPoints.from_table(flux_points_mask)\n",
    "\n",
    "    if e_ref_max != None:\n",
    "        mask_energy = np.zeros(len(flux_points.to_table()), dtype=bool)\n",
    "\n",
    "        for m, e_ref in enumerate(flux_points.energy_ref):\n",
    "            if e_ref <= e_ref_max:\n",
    "                mask_energy[m] = True\n",
    "\n",
    "        flux_points_mask = flux_points.to_table()[mask_energy]\n",
    "        flux_points = FluxPoints.from_table(flux_points_mask)     \n",
    "\n",
    "    return FluxPointsDataset(models=models, data=flux_points, name=ds_name)"
   ]
  },
  {
   "cell_type": "code",
   "execution_count": 1,
   "id": "c5fe00a8",
   "metadata": {},
   "outputs": [],
   "source": [
    "def write_datasets(datasets, path_file=None, overwrite=True):\n",
    "    \"\"\"Write Datasets and Models to YAML file.\n",
    "\n",
    "        Parameters\n",
    "        ----------\n",
    "        overwrite : bool, optional\n",
    "            Overwrite existing file. Default is True.\n",
    "        \"\"\"\n",
    "    \n",
    "    if path_file is None:\n",
    "        path_file = \".\"\n",
    "    else: path_file.mkdir(parents=True, exist_ok=True)\n",
    "    datasets.write(filename=f\"{path_file}/datasets.yaml\", filename_models=f\"{path_file}/models.yaml\", overwrite=overwrite)\n"
   ]
  },
  {
   "cell_type": "code",
   "execution_count": 2,
   "id": "6c253f84",
   "metadata": {},
   "outputs": [],
   "source": [
    "def read_datasets(path_file=None):\n",
    "    \"\"\"Read Datasets and Models from YAML file.\"\"\"\n",
    "\n",
    "    if path_file is None:\n",
    "        path_file = \".\"\n",
    "    else: path_file.mkdir(parents=True, exist_ok=True)\n",
    "    return Datasets.read(filename=f\"{path_file}/datasets.yaml\", filename_models=f\"{path_file}/models.yaml\")\n"
   ]
  },
  {
   "cell_type": "code",
   "execution_count": null,
   "id": "44e98b87",
   "metadata": {},
   "outputs": [],
   "source": []
  }
 ],
 "metadata": {
  "ipub": {
   "titlepage": {
    "author": "R. P. Costa Jr.",
    "email": "rubensp@utfpr.edu.br",
    "institution": [
     "Federal University of Technology – Paraná (UTFPR) "
    ],
    "tagline": "A TeV Astronomy Python package based on Gammapy.",
    "title": "feupy"
   }
  },
  "kernelspec": {
   "display_name": "Python 3 (ipykernel)",
   "language": "python",
   "name": "python3"
  },
  "language_info": {
   "codemirror_mode": {
    "name": "ipython",
    "version": 3
   },
   "file_extension": ".py",
   "mimetype": "text/x-python",
   "name": "python",
   "nbconvert_exporter": "python",
   "pygments_lexer": "ipython3",
   "version": "3.9.18"
  }
 },
 "nbformat": 4,
 "nbformat_minor": 5
}
