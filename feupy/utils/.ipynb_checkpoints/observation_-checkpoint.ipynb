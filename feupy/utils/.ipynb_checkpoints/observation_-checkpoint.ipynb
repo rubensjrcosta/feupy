{
 "cells": [
  {
   "cell_type": "code",
   "execution_count": 1,
   "id": "821a3525",
   "metadata": {},
   "outputs": [],
   "source": [
    "from gammapy.data import Observation\n",
    "from gammapy.maps import RegionGeom\n",
    "\n",
    "from regions import CircleSkyRegion\n",
    "\n",
    "from astropy.coordinates import SkyCoord\n",
    "\n",
    "from astropy import units as u\n",
    "from gammapy.maps import MapAxis\n"
   ]
  },
  {
   "cell_type": "code",
   "execution_count": 2,
   "id": "46e2cfff",
   "metadata": {},
   "outputs": [],
   "source": [
    "__all__ = [\n",
    "    \"create_energy_axis\",\n",
    "    \"set_pointing\",\n",
    "#     \"create_observation\",\n",
    "    \"define_on_region\",\n",
    "    \"create_geometry\",\n",
    "]"
   ]
  },
  {
   "cell_type": "code",
   "execution_count": 3,
   "id": "7c766987",
   "metadata": {},
   "outputs": [],
   "source": [
    "def create_energy_axis(energy_min, energy_max, nbin=5, per_decade=True, name=\"energy\"):    \n",
    "    return MapAxis.from_energy_bounds(\n",
    "        energy_min=energy_min, \n",
    "        energy_max=energy_max, \n",
    "        nbin=nbin, \n",
    "        per_decade=per_decade, \n",
    "        name=name\n",
    "    )"
   ]
  },
  {
   "cell_type": "code",
   "execution_count": 4,
   "id": "f26d0b57",
   "metadata": {},
   "outputs": [],
   "source": [
    "def set_pointing(position, offset):\n",
    "    \"\"\"Set the pointing position of the observation\"\"\"\n",
    "    return SkyCoord(position.ra, position.dec + offset)"
   ]
  },
  {
   "cell_type": "code",
   "execution_count": 5,
   "id": "c5fe00a8",
   "metadata": {},
   "outputs": [],
   "source": [
    "def define_on_region(center, radius):\n",
    "    \"\"\"\n",
    "    on_region_radius :Angle()\n",
    "    \"\"\"\n",
    "    return CircleSkyRegion(\n",
    "        center=center, \n",
    "        radius=radius\n",
    "    )"
   ]
  },
  {
   "cell_type": "code",
   "execution_count": null,
   "id": "6c253f84",
   "metadata": {},
   "outputs": [],
   "source": [
    "def create_region_geometry(on_region, axes):\n",
    "    \"\"\"Defines the geometry\"\"\"\n",
    "    return RegionGeom.create(\n",
    "        region=on_region, \n",
    "        axes=axes\n",
    "    )"
   ]
  },
  {
   "cell_type": "code",
   "execution_count": null,
   "id": "44e98b87",
   "metadata": {},
   "outputs": [],
   "source": []
  }
 ],
 "metadata": {
  "ipub": {
   "titlepage": {
    "author": "R. P. Costa Jr.",
    "email": "rubensp@utfpr.edu.br",
    "institution": [
     "Federal University of Technology – Paraná (UTFPR) "
    ],
    "tagline": "A TeV Astronomy Python package based on Gammapy.",
    "title": "feupy"
   }
  },
  "kernelspec": {
   "display_name": "Python 3 (ipykernel)",
   "language": "python",
   "name": "python3"
  },
  "language_info": {
   "codemirror_mode": {
    "name": "ipython",
    "version": 3
   },
   "file_extension": ".py",
   "mimetype": "text/x-python",
   "name": "python",
   "nbconvert_exporter": "python",
   "pygments_lexer": "ipython3",
   "version": "3.9.18"
  }
 },
 "nbformat": 4,
 "nbformat_minor": 5
}
