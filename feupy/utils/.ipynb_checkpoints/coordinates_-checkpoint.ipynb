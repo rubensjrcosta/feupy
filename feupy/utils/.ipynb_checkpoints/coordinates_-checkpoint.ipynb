{
 "cells": [
  {
   "cell_type": "code",
   "execution_count": 3,
   "id": "3f46c044",
   "metadata": {},
   "outputs": [],
   "source": [
    "# Licensed under a 3-clause BSD style license - see LICENSE.rst\n",
    "\"\"\"Utilities for coordinates.\"\"\"\n",
    "\n",
    "from astropy.coordinates import SkyCoord\n",
    "\n",
    "# from feupy.analysis import SkyCoordConfig"
   ]
  },
  {
   "cell_type": "code",
   "execution_count": null,
   "id": "d8b5da1b",
   "metadata": {},
   "outputs": [],
   "source": []
  },
  {
   "cell_type": "code",
   "execution_count": null,
   "id": "beba185e",
   "metadata": {},
   "outputs": [],
   "source": [
    "def skcoord_to_dict(position: SkyCoord):\n",
    "    return {\n",
    "        'lon': position.ra,\n",
    "        'lat': position.dec,\n",
    "        'frame': position.frame.name,\n",
    "    }\n"
   ]
  },
  {
   "cell_type": "code",
   "execution_count": 3,
   "id": "f65c84fa",
   "metadata": {},
   "outputs": [],
   "source": [
    "def skcoord_config_to_skcoord(pos_config):\n",
    "    return SkyCoord(pos_config.lon, pos_config.lat, frame=pos_config.frame)"
   ]
  },
  {
   "cell_type": "code",
   "execution_count": 4,
   "id": "96affc6b",
   "metadata": {},
   "outputs": [],
   "source": [
    "def dict_to_skcoord(pos_dict: dict):\n",
    "    return SkyCoord(pos_dict['lon'], pos_dict['lat'], frame=pos_dict['frame'])"
   ]
  },
  {
   "cell_type": "code",
   "execution_count": null,
   "id": "fc886f97",
   "metadata": {},
   "outputs": [],
   "source": []
  }
 ],
 "metadata": {
  "ipub": {
   "titlepage": {
    "author": "R. P. Costa Jr.",
    "email": "rubensp@utfpr.edu.br",
    "institution": [
     "Federal University of Technology – Paraná (UTFPR) "
    ],
    "tagline": "A TeV Astronomy Python package based on Gammapy.",
    "title": "feupy"
   }
  },
  "kernelspec": {
   "display_name": "Python 3 (ipykernel)",
   "language": "python",
   "name": "python3"
  },
  "language_info": {
   "codemirror_mode": {
    "name": "ipython",
    "version": 3
   },
   "file_extension": ".py",
   "mimetype": "text/x-python",
   "name": "python",
   "nbconvert_exporter": "python",
   "pygments_lexer": "ipython3",
   "version": "3.9.18"
  }
 },
 "nbformat": 4,
 "nbformat_minor": 5
}
