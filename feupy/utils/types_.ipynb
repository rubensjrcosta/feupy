{
 "cells": [
  {
   "cell_type": "code",
   "execution_count": 1,
   "id": "3f46c044",
   "metadata": {},
   "outputs": [
    {
     "data": {
      "text/plain": [
       "'Utilities for validation.'"
      ]
     },
     "execution_count": 1,
     "metadata": {},
     "output_type": "execute_result"
    }
   ],
   "source": [
    "# Licensed under a 3-clause BSD style license - see LICENSE.rst\n",
    "\"\"\"Utilities for types validation.\"\"\""
   ]
  },
  {
   "cell_type": "code",
   "execution_count": 2,
   "id": "c1f2370c",
   "metadata": {},
   "outputs": [],
   "source": [
    "from astropy.coordinates import Angle\n",
    "from astropy.time import Time\n",
    "from astropy.units import Quantity\n",
    "\n",
    "from feupy.cta import Irfs"
   ]
  },
  {
   "cell_type": "code",
   "execution_count": 4,
   "id": "b1b21d5d",
   "metadata": {},
   "outputs": [],
   "source": [
    "__all__ = [\n",
    "    \"AngleType\",\n",
    "    \"EnergyType\",\n",
    "    \"QuantityType\",\n",
    "    \"TimeType\",\n",
    "    \"IrfType\",\n",
    "]\n"
   ]
  },
  {
   "cell_type": "code",
   "execution_count": 6,
   "id": "7c766987",
   "metadata": {},
   "outputs": [],
   "source": [
    "class AngleType(Angle):\n",
    "    @classmethod\n",
    "    def __get_validators__(cls):\n",
    "        yield cls.validate\n",
    "\n",
    "    @classmethod\n",
    "    def validate(cls, v):\n",
    "        return Angle(v)\n",
    "\n",
    "\n",
    "class EnergyType(Quantity):\n",
    "    @classmethod\n",
    "    def __get_validators__(cls):\n",
    "        yield cls.validate\n",
    "\n",
    "    @classmethod\n",
    "    def validate(cls, v):\n",
    "        v = Quantity(v)\n",
    "        if v.unit.physical_type != \"energy\":\n",
    "            raise ValueError(f\"Invalid unit for energy: {v.unit!r}\")\n",
    "        return v\n",
    "\n",
    "class QuantityType(Quantity):\n",
    "    @classmethod\n",
    "    def __get_validators__(cls):\n",
    "        yield cls.validate\n",
    "\n",
    "    @classmethod\n",
    "    def validate(cls, v):\n",
    "        return Quantity(v)\n",
    "        \n",
    "            \n",
    "class TimeType(Time):\n",
    "    @classmethod\n",
    "    def __get_validators__(cls):\n",
    "        yield cls.validate\n",
    "\n",
    "    @classmethod\n",
    "    def validate(cls, v):\n",
    "        return Time(v)\n",
    "\n",
    "class IrfType(Irfs):\n",
    "    @classmethod\n",
    "    def __get_validators__(cls):\n",
    "        yield cls.validate\n",
    "\n",
    "    @classmethod\n",
    "    def validate(cls, v):\n",
    "        if not v in Irfs.irfs_opts:\n",
    "            ss = f\"The value of the IRF option is invalid: {v!r}\\n \"\n",
    "            ss += f\"Select one value from the following list: {Irfs.irfs_opts!r}\"\n",
    "            raise ValueError(ss)\n",
    "        return v"
   ]
  },
  {
   "cell_type": "code",
   "execution_count": null,
   "id": "fe3630b9",
   "metadata": {},
   "outputs": [],
   "source": []
  }
 ],
 "metadata": {
  "ipub": {
   "titlepage": {
    "author": "R. P. Costa Jr.",
    "email": "rubensp@utfpr.edu.br",
    "institution": [
     "Federal University of Technology – Paraná (UTFPR) "
    ],
    "tagline": "A TeV Astronomy Python package based on Gammapy.",
    "title": "feupy"
   }
  },
  "kernelspec": {
   "display_name": "Python 3 (ipykernel)",
   "language": "python",
   "name": "python3"
  },
  "language_info": {
   "codemirror_mode": {
    "name": "ipython",
    "version": 3
   },
   "file_extension": ".py",
   "mimetype": "text/x-python",
   "name": "python",
   "nbconvert_exporter": "python",
   "pygments_lexer": "ipython3",
   "version": "3.9.18"
  }
 },
 "nbformat": 4,
 "nbformat_minor": 5
}
