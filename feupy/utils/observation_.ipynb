{
 "cells": [
  {
   "cell_type": "code",
   "execution_count": 1,
   "id": "821a3525",
   "metadata": {},
   "outputs": [],
   "source": [
    "from gammapy.data import Observation"
   ]
  },
  {
   "cell_type": "code",
   "execution_count": 2,
   "id": "46e2cfff",
   "metadata": {},
   "outputs": [],
   "source": [
    "__all__ = [\n",
    "    \"create_observation\",\n",
    "]"
   ]
  },
  {
   "cell_type": "code",
   "execution_count": null,
   "id": "6c253f84",
   "metadata": {},
   "outputs": [],
   "source": [
    "def create_observation(pointing, livetime, irfs, location):\n",
    "    \"\"\"Create an observation.\"\"\"\n",
    "    return Observation.create(\n",
    "        pointing=pointing,\n",
    "        livetime=livetime,\n",
    "        irfs=irfs,\n",
    "        location=location,\n",
    "    )"
   ]
  },
  {
   "cell_type": "code",
   "execution_count": null,
   "id": "44e98b87",
   "metadata": {},
   "outputs": [],
   "source": []
  }
 ],
 "metadata": {
  "ipub": {
   "titlepage": {
    "author": "R. P. Costa Jr.",
    "email": "rubensp@utfpr.edu.br",
    "institution": [
     "Federal University of Technology – Paraná (UTFPR) "
    ],
    "tagline": "A TeV Astronomy Python package based on Gammapy.",
    "title": "feupy"
   }
  },
  "kernelspec": {
   "display_name": "Python 3 (ipykernel)",
   "language": "python",
   "name": "python3"
  },
  "language_info": {
   "codemirror_mode": {
    "name": "ipython",
    "version": 3
   },
   "file_extension": ".py",
   "mimetype": "text/x-python",
   "name": "python",
   "nbconvert_exporter": "python",
   "pygments_lexer": "ipython3",
   "version": "3.9.18"
  }
 },
 "nbformat": 4,
 "nbformat_minor": 5
}
