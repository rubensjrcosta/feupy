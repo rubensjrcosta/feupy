{
 "cells": [
  {
   "cell_type": "code",
   "execution_count": 2,
   "id": "ec72c87f",
   "metadata": {},
   "outputs": [
    {
     "ename": "NameError",
     "evalue": "name 'to_lower' is not defined",
     "output_type": "error",
     "traceback": [
      "\u001b[0;31m---------------------------------------------------------------------------\u001b[0m",
      "\u001b[0;31mNameError\u001b[0m                                 Traceback (most recent call last)",
      "Cell \u001b[0;32mIn[2], line 1\u001b[0m\n\u001b[0;32m----> 1\u001b[0m \u001b[43mto_lower\u001b[49m\n",
      "\u001b[0;31mNameError\u001b[0m: name 'to_lower' is not defined"
     ]
    }
   ],
   "source": []
  },
  {
   "cell_type": "code",
   "execution_count": 1,
   "id": "a4931e91",
   "metadata": {},
   "outputs": [],
   "source": [
    "from astropy.units import Quantity\n",
    "\n",
    "def table_row_to_dict(row, make_quantity=True):\n",
    "    \"\"\"Make one source data dictionary.\n",
    "\n",
    "    Parameters\n",
    "    ----------\n",
    "    row : `~astropy.table.Row`\n",
    "        Row.\n",
    "    make_quantity : bool, optional\n",
    "        Make quantity values for columns with units.\n",
    "        Default is True.\n",
    "\n",
    "    Returns\n",
    "    -------\n",
    "    data : dict\n",
    "        Row data.\n",
    "    \"\"\"\n",
    "    \n",
    "    data = {}\n",
    "    for name, col in row.columns.items():\n",
    "        val = row[name]\n",
    "\n",
    "        if make_quantity and col.unit:\n",
    "            val = Quantity(val, unit=col.unit)\n",
    "        data[name] = val\n",
    "    return data"
   ]
  },
  {
   "cell_type": "code",
   "execution_count": null,
   "id": "ea6b5537",
   "metadata": {},
   "outputs": [],
   "source": [
    "from gammapy.utils.scripts import make_path\n",
    "def append_nones(length, list_):\n",
    "    \"\"\"\n",
    "    Appends Nones to list to get length of list equal to `length`.\n",
    "    If list is too long raise AttributeError\n",
    "    \"\"\"\n",
    "    diff_len = length - len(list_)\n",
    "    if diff_len < 0:\n",
    "        raise AttributeError('Length error list is too long.')\n",
    "    return list_ + [None] * diff_len"
   ]
  },
  {
   "cell_type": "code",
   "execution_count": null,
   "id": "e2b43d43",
   "metadata": {},
   "outputs": [],
   "source": [
    "import numpy as np\n",
    "\n",
    "def remove_nan(mytable):\n",
    "    \"\"\"Remove lines containing a nan\"\"\"\n",
    "    has_nan = np.zeros(len(mytable), dtype=bool)\n",
    "    for col in mytable.itercols():\n",
    "        if col.info.dtype.kind == 'f':\n",
    "            has_nan |= np.isnan(col)\n",
    "    return mytable[~has_nan]"
   ]
  }
 ],
 "metadata": {
  "ipub": {
   "titlepage": {
    "author": "R. P. Costa Jr.",
    "email": "rubensp@utfpr.edu.br",
    "institution": [
     "Federal University of Technology – Paraná (UTFPR) "
    ],
    "tagline": "A TeV Astronomy Python package based on Gammapy.",
    "title": "feupy"
   }
  },
  "kernelspec": {
   "display_name": "Python 3 (ipykernel)",
   "language": "python",
   "name": "python3"
  },
  "language_info": {
   "codemirror_mode": {
    "name": "ipython",
    "version": 3
   },
   "file_extension": ".py",
   "mimetype": "text/x-python",
   "name": "python",
   "nbconvert_exporter": "python",
   "pygments_lexer": "ipython3",
   "version": "3.9.18"
  }
 },
 "nbformat": 4,
 "nbformat_minor": 5
}
