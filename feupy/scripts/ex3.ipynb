{
 "cells": [
  {
   "cell_type": "code",
   "execution_count": 5,
   "id": "a4931e91",
   "metadata": {},
   "outputs": [
    {
     "name": "stdout",
     "output_type": "stream",
     "text": [
      "['/home/born-again/Documents/GitHub/feupy/feupy/scripts', '/home/born-again/Documents/GitHub/feupy', '/home/born-again/anaconda3/envs/gammapy-1.1/lib/python39.zip', '/home/born-again/anaconda3/envs/gammapy-1.1/lib/python3.9', '/home/born-again/anaconda3/envs/gammapy-1.1/lib/python3.9/lib-dynload', '', '/home/born-again/anaconda3/envs/gammapy-1.1/lib/python3.9/site-packages']\n"
     ]
    }
   ],
   "source": [
    "import os\n",
    "import sys\n",
    "print(sys.path)"
   ]
  },
  {
   "cell_type": "code",
   "execution_count": 6,
   "id": "af6f545b",
   "metadata": {},
   "outputs": [
    {
     "name": "stdout",
     "output_type": "stream",
     "text": [
      "/home/born-again/Documents/GitHub/feupy/feupy\n"
     ]
    }
   ],
   "source": [
    "PROJECT_ROOT = os.path.abspath(os.path.join(os.path.dirname(\"__file__\"), os.pardir))\n",
    "print(PROJECT_ROOT)"
   ]
  },
  {
   "cell_type": "code",
   "execution_count": 7,
   "id": "bb6e17d0",
   "metadata": {},
   "outputs": [
    {
     "name": "stdout",
     "output_type": "stream",
     "text": [
      "['/home/born-again/Documents/GitHub/feupy/feupy/scripts', '/home/born-again/Documents/GitHub/feupy', '/home/born-again/anaconda3/envs/gammapy-1.1/lib/python39.zip', '/home/born-again/anaconda3/envs/gammapy-1.1/lib/python3.9', '/home/born-again/anaconda3/envs/gammapy-1.1/lib/python3.9/lib-dynload', '', '/home/born-again/anaconda3/envs/gammapy-1.1/lib/python3.9/site-packages', '/home/born-again/Documents/GitHub/feupy/feupy']\n"
     ]
    }
   ],
   "source": [
    "sys.path.append(PROJECT_ROOT)\n",
    "print(sys.path)"
   ]
  },
  {
   "cell_type": "code",
   "execution_count": 17,
   "id": "19624e46",
   "metadata": {},
   "outputs": [
    {
     "ename": "ImportError",
     "evalue": "attempted relative import beyond top-level package",
     "output_type": "error",
     "traceback": [
      "\u001b[0;31m---------------------------------------------------------------------------\u001b[0m",
      "\u001b[0;31mImportError\u001b[0m                               Traceback (most recent call last)",
      "Cell \u001b[0;32mIn[17], line 1\u001b[0m\n\u001b[0;32m----> 1\u001b[0m \u001b[38;5;28;01mimport\u001b[39;00m \u001b[38;5;21;01mutils\u001b[39;00m \n",
      "File \u001b[0;32m~/Documents/GitHub/feupy/feupy/utils/__init__.py:5\u001b[0m\n\u001b[1;32m      2\u001b[0m \u001b[38;5;28;01mfrom\u001b[39;00m \u001b[38;5;21;01m.\u001b[39;00m\u001b[38;5;21;01mupper\u001b[39;00m \u001b[38;5;28;01mimport\u001b[39;00m to_upper\n\u001b[1;32m      3\u001b[0m \u001b[38;5;28;01mfrom\u001b[39;00m \u001b[38;5;21;01m.\u001b[39;00m\u001b[38;5;21;01mlength\u001b[39;00m \u001b[38;5;28;01mimport\u001b[39;00m get_length\n\u001b[0;32m----> 5\u001b[0m \u001b[38;5;28;01mfrom\u001b[39;00m \u001b[38;5;21;01m.\u001b[39;00m\u001b[38;5;21;01m.\u001b[39;00m\u001b[38;5;21;01mscripts\u001b[39;00m\u001b[38;5;21;01m.\u001b[39;00m\u001b[38;5;21;01mexample1\u001b[39;00m \u001b[38;5;28;01mimport\u001b[39;00m yolo\n",
      "\u001b[0;31mImportError\u001b[0m: attempted relative import beyond top-level package"
     ]
    }
   ],
   "source": [
    "import utils \n"
   ]
  },
  {
   "cell_type": "code",
   "execution_count": null,
   "id": "3871747f",
   "metadata": {},
   "outputs": [],
   "source": [
    "# import utils\n",
    "\n",
    "# print(utils.get_length(\"Hello\"))\n",
    "# utils.yolo(2)"
   ]
  }
 ],
 "metadata": {
  "ipub": {
   "titlepage": {
    "author": "R. P. Costa Jr.",
    "email": "rubensp@utfpr.edu.br",
    "institution": [
     "Federal University of Technology – Paraná (UTFPR) "
    ],
    "tagline": "A TeV Astronomy Python package based on Gammapy.",
    "title": "feupy"
   }
  },
  "kernelspec": {
   "display_name": "Python 3 (ipykernel)",
   "language": "python",
   "name": "python3"
  },
  "language_info": {
   "codemirror_mode": {
    "name": "ipython",
    "version": 3
   },
   "file_extension": ".py",
   "mimetype": "text/x-python",
   "name": "python",
   "nbconvert_exporter": "python",
   "pygments_lexer": "ipython3",
   "version": "3.9.18"
  }
 },
 "nbformat": 4,
 "nbformat_minor": 5
}
