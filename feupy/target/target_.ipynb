{
 "cells": [
  {
   "cell_type": "code",
   "execution_count": 2,
   "id": "9bc0bd75",
   "metadata": {},
   "outputs": [],
   "source": [
    "from astropy import units as u\n",
    "from astropy.coordinates import SkyCoord"
   ]
  },
  {
   "cell_type": "code",
   "execution_count": 2,
   "id": "4513ce03",
   "metadata": {},
   "outputs": [],
   "source": [
    "__all__ = [\n",
    "    \"Target\",\n",
    "]"
   ]
  },
  {
   "cell_type": "code",
   "execution_count": 1,
   "id": "c538402a",
   "metadata": {},
   "outputs": [
    {
     "ename": "NameError",
     "evalue": "name 'u' is not defined",
     "output_type": "error",
     "traceback": [
      "\u001b[0;31m---------------------------------------------------------------------------\u001b[0m",
      "\u001b[0;31mNameError\u001b[0m                                 Traceback (most recent call last)",
      "Cell \u001b[0;32mIn[1], line 1\u001b[0m\n\u001b[0;32m----> 1\u001b[0m \u001b[38;5;28;01mclass\u001b[39;00m \u001b[38;5;21;01mTarget\u001b[39;00m:\n\u001b[1;32m      2\u001b[0m \u001b[38;5;250m    \u001b[39m\u001b[38;5;124;03m\"\"\"Target information.\"\"\"\u001b[39;00m\n\u001b[1;32m      4\u001b[0m     \u001b[38;5;28mall\u001b[39m \u001b[38;5;241m=\u001b[39m []\n",
      "Cell \u001b[0;32mIn[1], line 6\u001b[0m, in \u001b[0;36mTarget\u001b[0;34m()\u001b[0m\n\u001b[1;32m      4\u001b[0m \u001b[38;5;28mall\u001b[39m \u001b[38;5;241m=\u001b[39m []\n\u001b[1;32m      5\u001b[0m \u001b[38;5;66;03m# Validating the units of arguments to functions\u001b[39;00m\n\u001b[0;32m----> 6\u001b[0m \u001b[38;5;129m@u\u001b[39m\u001b[38;5;241m.\u001b[39mquantity_input(pos_ra\u001b[38;5;241m=\u001b[39mu\u001b[38;5;241m.\u001b[39mdeg, pos_dec\u001b[38;5;241m=\u001b[39mu\u001b[38;5;241m.\u001b[39mdeg)\n\u001b[1;32m      7\u001b[0m \u001b[38;5;28;01mdef\u001b[39;00m \u001b[38;5;21m__init__\u001b[39m(\u001b[38;5;28mself\u001b[39m, name: \u001b[38;5;28mstr\u001b[39m, pos_ra, pos_dec):\n\u001b[1;32m      8\u001b[0m \n\u001b[1;32m      9\u001b[0m     \u001b[38;5;66;03m# Run validations to the received arguments\u001b[39;00m\n\u001b[1;32m     10\u001b[0m     \u001b[38;5;28;01massert\u001b[39;00m  \u001b[38;5;241m0\u001b[39m \u001b[38;5;241m<\u001b[39m\u001b[38;5;241m=\u001b[39m pos_ra\u001b[38;5;241m.\u001b[39mvalue \u001b[38;5;241m<\u001b[39m\u001b[38;5;241m=\u001b[39m \u001b[38;5;241m360\u001b[39m, \u001b[38;5;124mf\u001b[39m\u001b[38;5;124m\"\u001b[39m\u001b[38;5;124mRight Ascension \u001b[39m\u001b[38;5;132;01m{\u001b[39;00mpos_ra\u001b[38;5;132;01m}\u001b[39;00m\u001b[38;5;124m is not in the range: (0,360) deg!\u001b[39m\u001b[38;5;124m\"\u001b[39m\n\u001b[1;32m     11\u001b[0m     \u001b[38;5;28;01massert\u001b[39;00m \u001b[38;5;241m-\u001b[39m\u001b[38;5;241m90\u001b[39m \u001b[38;5;241m<\u001b[39m\u001b[38;5;241m=\u001b[39m pos_dec\u001b[38;5;241m.\u001b[39mvalue \u001b[38;5;241m<\u001b[39m\u001b[38;5;241m=\u001b[39m \u001b[38;5;241m90\u001b[39m, \u001b[38;5;124mf\u001b[39m\u001b[38;5;124m\"\u001b[39m\u001b[38;5;124mDeclination \u001b[39m\u001b[38;5;132;01m{\u001b[39;00mpos_dec\u001b[38;5;132;01m}\u001b[39;00m\u001b[38;5;124m is not in the range: (-90,90) deg!\u001b[39m\u001b[38;5;124m\"\u001b[39m\n",
      "\u001b[0;31mNameError\u001b[0m: name 'u' is not defined"
     ]
    }
   ],
   "source": [
    "class Target:\n",
    "    \"\"\"Target information.\"\"\"\n",
    "    \n",
    "    all = []\n",
    "    # Validating the units of arguments to functions\n",
    "    @u.quantity_input(pos_ra=u.deg, pos_dec=u.deg)\n",
    "    def __init__(self, name: str, pos_ra, pos_dec):\n",
    "\n",
    "        # Run validations to the received arguments\n",
    "        assert  0 <= pos_ra.value <= 360, f\"Right Ascension {pos_ra} is not in the range: (0,360) deg!\"\n",
    "        assert -90 <= pos_dec.value <= 90, f\"Declination {pos_dec} is not in the range: (-90,90) deg!\"\n",
    "        \n",
    "        # Assign to self object\n",
    "        self.__name = name\n",
    "        self.position = SkyCoord(pos_ra, pos_dec) # convert coordinates to astropy SkyCoord\n",
    "        \n",
    "        # Actions to execute\n",
    "        Target.all.append(self) \n",
    "        \n",
    "    @property\n",
    "    def info(self):\n",
    "        info = {}\n",
    "        info[\"name\"] = self.name\n",
    "        info[\"position\"] = self.position\n",
    "        return info\n",
    "    \n",
    "    @property\n",
    "    # Property Decorator = Read-Only Attribute\n",
    "    def name(self):\n",
    "        return self.__name\n",
    "    \n",
    "    def __repr__(self):\n",
    "        ss = f\"{self.__class__.__name__}(\"\n",
    "        ss += f\"name={self.name!r}, \"\n",
    "        ss += \"pos_ra=Quantity('{:.2f}'), \".format(self.position.ra).replace(' ', '')\n",
    "        ss += \"pos_dec=Quantity('{:.2f}'))\\n\".format(self.position.dec).replace(' ', '')\n",
    "        return ss "
   ]
  },
  {
   "cell_type": "code",
   "execution_count": 8,
   "id": "187f283e",
   "metadata": {},
   "outputs": [],
   "source": [
    "def test_target():\n",
    "    return Target(\n",
    "        \"2HWC J1825-134\", \n",
    "        27.46* u.Unit('deg'), \n",
    "        12.2* u.Unit('deg')\n",
    "    )"
   ]
  }
 ],
 "metadata": {
  "kernelspec": {
   "display_name": "Python 3 (ipykernel)",
   "language": "python",
   "name": "python3"
  },
  "language_info": {
   "codemirror_mode": {
    "name": "ipython",
    "version": 3
   },
   "file_extension": ".py",
   "mimetype": "text/x-python",
   "name": "python",
   "nbconvert_exporter": "python",
   "pygments_lexer": "ipython3",
   "version": "3.9.18"
  }
 },
 "nbformat": 4,
 "nbformat_minor": 5
}
