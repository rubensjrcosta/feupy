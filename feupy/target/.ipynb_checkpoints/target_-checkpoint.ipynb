{
 "cells": [
  {
   "cell_type": "code",
   "execution_count": null,
   "id": "a1f20d17",
   "metadata": {
    "scrolled": true
   },
   "outputs": [],
   "source": [
    "# Licensed under a 3-clause BSD style license - see LICENSE.rst\n",
    "\"\"\"Target classes.\"\"\""
   ]
  },
  {
   "cell_type": "code",
   "execution_count": 3,
   "id": "9bc0bd75",
   "metadata": {},
   "outputs": [],
   "source": [
    "from astropy import units as u\n",
    "from astropy.units import Quantity\n",
    "\n",
    "from astropy.coordinates import SkyCoord\n",
    "\n",
    "from gammapy.modeling.models import (\n",
    "    SkyModel,\n",
    "    SpectralModel, \n",
    "    SpatialModel, \n",
    "    TemporalModel\n",
    ")\n",
    "\n",
    "from feupy.utils.string_handling import name_to_txt\n"
   ]
  },
  {
   "cell_type": "code",
   "execution_count": 4,
   "id": "4513ce03",
   "metadata": {},
   "outputs": [],
   "source": [
    "__all__ = [\n",
    "    \"Target\",\n",
    "]"
   ]
  },
  {
   "cell_type": "code",
   "execution_count": null,
   "id": "acba982f",
   "metadata": {},
   "outputs": [],
   "source": []
  },
  {
   "cell_type": "code",
   "execution_count": 206,
   "id": "4f1c574d",
   "metadata": {},
   "outputs": [],
   "source": [
    "class Target:\n",
    "    \"\"\"Observation target information.\n",
    "    \n",
    "    Parameters\n",
    "    ----------\n",
    "    name : `str`\n",
    "        Name of the source\n",
    "    pos_ra : `~astropy.units.Quantity`\n",
    "        Right ascension (J2000) (degrees) of the source position\n",
    "    pos_dec : `~astropy.units.Quantity`\n",
    "        Declination (J2000) (degrees) of the source position\n",
    "    spectral_model : `~gammapy.modeling.models.SpectralModel`\n",
    "        Spectral Model of the source\n",
    "    spatial_model : `~gammapy.modeling.models.SpatialModel`\n",
    "        Spatial Model of the source\n",
    "    temporal_model : `~gammapy.modeling.models.TemporalModel`\n",
    "        Temporal Model of the source\n",
    "    \"\"\"\n",
    "    \n",
    "    all = []\n",
    "    # Validating the units of arguments to functions\n",
    "#     @u.quantity_input(pos_ra=u.Quantity['deg'], pos_dec=u.Quantity[u.deg])\n",
    "    def __init__(\n",
    "        self, \n",
    "        name: str = None, \n",
    "        pos_ra = None, \n",
    "        pos_dec = None,\n",
    "        model: SkyModel=None,\n",
    "    ):\n",
    "\n",
    "        # Run validations to the received arguments\n",
    "        if pos_ra is not None and pos_dec is not None:\n",
    "            pos_ra = Quantity(pos_ra, \"deg\") \n",
    "            pos_dec = Quantity(pos_dec, \"deg\")\n",
    "            assert  0 <= pos_ra.value <= 360, f\"Right Ascension {pos_ra} is not in the range: (0,360) deg!\"            \n",
    "            assert -90 <= pos_dec.value <= 90, f\"Declination {pos_dec} is not in the range: (-90,90) deg!\"\n",
    "            self.position = SkyCoord(pos_ra, pos_dec)\n",
    "            \n",
    "        # Assign to self object\n",
    "        self._name = name\n",
    "\n",
    "        self._model = model \n",
    "        if model is not None:\n",
    "            self.spectral_model = self._model.spectral_model\n",
    "            self.spatial_model = self._model.spatial_model\n",
    "            self.temporal_model = self._model.temporal_model\n",
    "        Target.all.append(self)\n",
    "        \n",
    "    @property\n",
    "    def name(self):\n",
    "        return self._name\n",
    "        \n",
    "    @property\n",
    "    def model(self):\n",
    "        return self._model\n",
    "    \n",
    "    @property\n",
    "    def info(self):\n",
    "        \"\"\"Target report (`str`).\"\"\"\n",
    "        ss = '*** Basic parameters ***\\n\\n'\n",
    "        if self.name is not None:\n",
    "            ss += 'name={}\\n'.format(self.name)\n",
    "        else: ss += 'name=None\\n'\n",
    "        if self.position is not None: \n",
    "            ss += \"pos_ra={:.2f}\\n\".format(self.position.ra).replace(' ', '')\n",
    "            ss += \"pos_dec={:.2f}\\n\".format(self.position.dec).replace(' ', '')\n",
    "        else: ss += \"position=None\\n\"\n",
    "        if self.model:\n",
    "            ss += \"\\n*** Model information ***\\n\\n\"\n",
    "            ss += str(self.model)\n",
    "        return ss.replace('=', ' = ')\n",
    "    \n",
    "    def __repr__(self):\n",
    "        return self.info\n",
    "    "
   ]
  },
  {
   "cell_type": "code",
   "execution_count": 207,
   "id": "72fb16a4",
   "metadata": {},
   "outputs": [],
   "source": [
    "#     def __repr__(self):\n",
    "#         ss = f\"{self.__class__.__name__}(\"\n",
    "#         ss += f\"name={self.name!r}, \"\n",
    "#         ss += \"pos_ra=Quantity('{:.2f}'), \".format(self.position.ra).replace(' ', '')\n",
    "#         ss += \"pos_dec=Quantity('{:.2f}'))\\n\".format(self.position.dec).replace(' ', '')\n",
    "#         return ss.replace('=', ' = ') "
   ]
  },
  {
   "cell_type": "code",
   "execution_count": 208,
   "id": "51747c73",
   "metadata": {},
   "outputs": [],
   "source": [
    "from gammapy.modeling.models import ExpCutoffPowerLawSpectralModel, SkyModel\n",
    "name = \"LHAASO J1825-1326\"\n",
    "pos_ra = '276.45deg'\n",
    "pos_dec = -13.45* u.Unit('deg')"
   ]
  },
  {
   "cell_type": "code",
   "execution_count": 209,
   "id": "5716796d",
   "metadata": {},
   "outputs": [],
   "source": [
    "spec_model = ExpCutoffPowerLawSpectralModel(\n",
    "    amplitude=1e-12*u.Unit(\"TeV-1 cm-2 s-1\"),\n",
    "    index=2,\n",
    "    lambda_= 0.1*u.Unit(\"TeV-1\"),\n",
    "    reference=10*u.Unit(\"TeV\"),\n",
    "    alpha=1.0,\n",
    ")\n",
    "\n",
    "model = SkyModel(spectral_model=spec_model.copy(), name=\"model\")\n",
    "\n",
    "\n",
    "target = Target(name, pos_ra, pos_dec,model)"
   ]
  },
  {
   "cell_type": "code",
   "execution_count": 210,
   "id": "fb914519",
   "metadata": {},
   "outputs": [
    {
     "name": "stdout",
     "output_type": "stream",
     "text": [
      "*** Basic parameters ***\n",
      "\n",
      "name = LHAASO J1825-1326\n",
      "pos_ra = 276.45deg\n",
      "pos_dec = -13.45deg\n",
      "\n",
      "*** Model information ***\n",
      "\n",
      "SkyModel\n",
      "\n",
      "  Name                      : model\n",
      "  Datasets names            : None\n",
      "  Spectral model type       : ExpCutoffPowerLawSpectralModel\n",
      "  Spatial  model type       : \n",
      "  Temporal model type       : \n",
      "  Parameters:\n",
      "    index                         :      2.000   +/-    0.00             \n",
      "    amplitude                     :   1.00e-12   +/- 0.0e+00 1 / (TeV s cm2)\n",
      "    reference             (frozen):     10.000       TeV         \n",
      "    lambda_                       :      0.100   +/-    0.00 1 / TeV     \n",
      "    alpha                 (frozen):      1.000                   \n",
      "\n",
      "\n"
     ]
    }
   ],
   "source": [
    "print(target.info)"
   ]
  },
  {
   "cell_type": "code",
   "execution_count": 211,
   "id": "b11ed126",
   "metadata": {},
   "outputs": [],
   "source": [
    "target = Target()"
   ]
  },
  {
   "cell_type": "code",
   "execution_count": 212,
   "id": "f268460d",
   "metadata": {},
   "outputs": [],
   "source": [
    "target.name = \"a\""
   ]
  },
  {
   "cell_type": "code",
   "execution_count": 213,
   "id": "e1dfbb26",
   "metadata": {},
   "outputs": [],
   "source": [
    "target.name = \"b\""
   ]
  },
  {
   "cell_type": "code",
   "execution_count": 215,
   "id": "bc1f40e0",
   "metadata": {},
   "outputs": [
    {
     "ename": "AttributeError",
     "evalue": "'Target' object has no attribute 'position'",
     "output_type": "error",
     "traceback": [
      "\u001b[0;31m---------------------------------------------------------------------------\u001b[0m",
      "\u001b[0;31mAttributeError\u001b[0m                            Traceback (most recent call last)",
      "File \u001b[0;32m~/anaconda3/envs/gammapy-1.1/lib/python3.9/site-packages/IPython/core/formatters.py:706\u001b[0m, in \u001b[0;36mPlainTextFormatter.__call__\u001b[0;34m(self, obj)\u001b[0m\n\u001b[1;32m    699\u001b[0m stream \u001b[38;5;241m=\u001b[39m StringIO()\n\u001b[1;32m    700\u001b[0m printer \u001b[38;5;241m=\u001b[39m pretty\u001b[38;5;241m.\u001b[39mRepresentationPrinter(stream, \u001b[38;5;28mself\u001b[39m\u001b[38;5;241m.\u001b[39mverbose,\n\u001b[1;32m    701\u001b[0m     \u001b[38;5;28mself\u001b[39m\u001b[38;5;241m.\u001b[39mmax_width, \u001b[38;5;28mself\u001b[39m\u001b[38;5;241m.\u001b[39mnewline,\n\u001b[1;32m    702\u001b[0m     max_seq_length\u001b[38;5;241m=\u001b[39m\u001b[38;5;28mself\u001b[39m\u001b[38;5;241m.\u001b[39mmax_seq_length,\n\u001b[1;32m    703\u001b[0m     singleton_pprinters\u001b[38;5;241m=\u001b[39m\u001b[38;5;28mself\u001b[39m\u001b[38;5;241m.\u001b[39msingleton_printers,\n\u001b[1;32m    704\u001b[0m     type_pprinters\u001b[38;5;241m=\u001b[39m\u001b[38;5;28mself\u001b[39m\u001b[38;5;241m.\u001b[39mtype_printers,\n\u001b[1;32m    705\u001b[0m     deferred_pprinters\u001b[38;5;241m=\u001b[39m\u001b[38;5;28mself\u001b[39m\u001b[38;5;241m.\u001b[39mdeferred_printers)\n\u001b[0;32m--> 706\u001b[0m \u001b[43mprinter\u001b[49m\u001b[38;5;241;43m.\u001b[39;49m\u001b[43mpretty\u001b[49m\u001b[43m(\u001b[49m\u001b[43mobj\u001b[49m\u001b[43m)\u001b[49m\n\u001b[1;32m    707\u001b[0m printer\u001b[38;5;241m.\u001b[39mflush()\n\u001b[1;32m    708\u001b[0m \u001b[38;5;28;01mreturn\u001b[39;00m stream\u001b[38;5;241m.\u001b[39mgetvalue()\n",
      "File \u001b[0;32m~/anaconda3/envs/gammapy-1.1/lib/python3.9/site-packages/IPython/lib/pretty.py:393\u001b[0m, in \u001b[0;36mRepresentationPrinter.pretty\u001b[0;34m(self, obj)\u001b[0m\n\u001b[1;32m    390\u001b[0m \u001b[38;5;28;01mfor\u001b[39;00m \u001b[38;5;28mcls\u001b[39m \u001b[38;5;129;01min\u001b[39;00m _get_mro(obj_class):\n\u001b[1;32m    391\u001b[0m     \u001b[38;5;28;01mif\u001b[39;00m \u001b[38;5;28mcls\u001b[39m \u001b[38;5;129;01min\u001b[39;00m \u001b[38;5;28mself\u001b[39m\u001b[38;5;241m.\u001b[39mtype_pprinters:\n\u001b[1;32m    392\u001b[0m         \u001b[38;5;66;03m# printer registered in self.type_pprinters\u001b[39;00m\n\u001b[0;32m--> 393\u001b[0m         \u001b[38;5;28;01mreturn\u001b[39;00m \u001b[38;5;28;43mself\u001b[39;49m\u001b[38;5;241;43m.\u001b[39;49m\u001b[43mtype_pprinters\u001b[49m\u001b[43m[\u001b[49m\u001b[38;5;28;43mcls\u001b[39;49m\u001b[43m]\u001b[49m\u001b[43m(\u001b[49m\u001b[43mobj\u001b[49m\u001b[43m,\u001b[49m\u001b[43m \u001b[49m\u001b[38;5;28;43mself\u001b[39;49m\u001b[43m,\u001b[49m\u001b[43m \u001b[49m\u001b[43mcycle\u001b[49m\u001b[43m)\u001b[49m\n\u001b[1;32m    394\u001b[0m     \u001b[38;5;28;01melse\u001b[39;00m:\n\u001b[1;32m    395\u001b[0m         \u001b[38;5;66;03m# deferred printer\u001b[39;00m\n\u001b[1;32m    396\u001b[0m         printer \u001b[38;5;241m=\u001b[39m \u001b[38;5;28mself\u001b[39m\u001b[38;5;241m.\u001b[39m_in_deferred_types(\u001b[38;5;28mcls\u001b[39m)\n",
      "File \u001b[0;32m~/anaconda3/envs/gammapy-1.1/lib/python3.9/site-packages/IPython/lib/pretty.py:640\u001b[0m, in \u001b[0;36m_seq_pprinter_factory.<locals>.inner\u001b[0;34m(obj, p, cycle)\u001b[0m\n\u001b[1;32m    638\u001b[0m         p\u001b[38;5;241m.\u001b[39mtext(\u001b[38;5;124m'\u001b[39m\u001b[38;5;124m,\u001b[39m\u001b[38;5;124m'\u001b[39m)\n\u001b[1;32m    639\u001b[0m         p\u001b[38;5;241m.\u001b[39mbreakable()\n\u001b[0;32m--> 640\u001b[0m     \u001b[43mp\u001b[49m\u001b[38;5;241;43m.\u001b[39;49m\u001b[43mpretty\u001b[49m\u001b[43m(\u001b[49m\u001b[43mx\u001b[49m\u001b[43m)\u001b[49m\n\u001b[1;32m    641\u001b[0m \u001b[38;5;28;01mif\u001b[39;00m \u001b[38;5;28mlen\u001b[39m(obj) \u001b[38;5;241m==\u001b[39m \u001b[38;5;241m1\u001b[39m \u001b[38;5;129;01mand\u001b[39;00m \u001b[38;5;28misinstance\u001b[39m(obj, \u001b[38;5;28mtuple\u001b[39m):\n\u001b[1;32m    642\u001b[0m     \u001b[38;5;66;03m# Special case for 1-item tuples.\u001b[39;00m\n\u001b[1;32m    643\u001b[0m     p\u001b[38;5;241m.\u001b[39mtext(\u001b[38;5;124m'\u001b[39m\u001b[38;5;124m,\u001b[39m\u001b[38;5;124m'\u001b[39m)\n",
      "File \u001b[0;32m~/anaconda3/envs/gammapy-1.1/lib/python3.9/site-packages/IPython/lib/pretty.py:410\u001b[0m, in \u001b[0;36mRepresentationPrinter.pretty\u001b[0;34m(self, obj)\u001b[0m\n\u001b[1;32m    407\u001b[0m                         \u001b[38;5;28;01mreturn\u001b[39;00m meth(obj, \u001b[38;5;28mself\u001b[39m, cycle)\n\u001b[1;32m    408\u001b[0m                 \u001b[38;5;28;01mif\u001b[39;00m \u001b[38;5;28mcls\u001b[39m \u001b[38;5;129;01mis\u001b[39;00m \u001b[38;5;129;01mnot\u001b[39;00m \u001b[38;5;28mobject\u001b[39m \\\n\u001b[1;32m    409\u001b[0m                         \u001b[38;5;129;01mand\u001b[39;00m \u001b[38;5;28mcallable\u001b[39m(\u001b[38;5;28mcls\u001b[39m\u001b[38;5;241m.\u001b[39m\u001b[38;5;18m__dict__\u001b[39m\u001b[38;5;241m.\u001b[39mget(\u001b[38;5;124m'\u001b[39m\u001b[38;5;124m__repr__\u001b[39m\u001b[38;5;124m'\u001b[39m)):\n\u001b[0;32m--> 410\u001b[0m                     \u001b[38;5;28;01mreturn\u001b[39;00m \u001b[43m_repr_pprint\u001b[49m\u001b[43m(\u001b[49m\u001b[43mobj\u001b[49m\u001b[43m,\u001b[49m\u001b[43m \u001b[49m\u001b[38;5;28;43mself\u001b[39;49m\u001b[43m,\u001b[49m\u001b[43m \u001b[49m\u001b[43mcycle\u001b[49m\u001b[43m)\u001b[49m\n\u001b[1;32m    412\u001b[0m     \u001b[38;5;28;01mreturn\u001b[39;00m _default_pprint(obj, \u001b[38;5;28mself\u001b[39m, cycle)\n\u001b[1;32m    413\u001b[0m \u001b[38;5;28;01mfinally\u001b[39;00m:\n",
      "File \u001b[0;32m~/anaconda3/envs/gammapy-1.1/lib/python3.9/site-packages/IPython/lib/pretty.py:778\u001b[0m, in \u001b[0;36m_repr_pprint\u001b[0;34m(obj, p, cycle)\u001b[0m\n\u001b[1;32m    776\u001b[0m \u001b[38;5;250m\u001b[39m\u001b[38;5;124;03m\"\"\"A pprint that just redirects to the normal repr function.\"\"\"\u001b[39;00m\n\u001b[1;32m    777\u001b[0m \u001b[38;5;66;03m# Find newlines and replace them with p.break_()\u001b[39;00m\n\u001b[0;32m--> 778\u001b[0m output \u001b[38;5;241m=\u001b[39m \u001b[38;5;28;43mrepr\u001b[39;49m\u001b[43m(\u001b[49m\u001b[43mobj\u001b[49m\u001b[43m)\u001b[49m\n\u001b[1;32m    779\u001b[0m lines \u001b[38;5;241m=\u001b[39m output\u001b[38;5;241m.\u001b[39msplitlines()\n\u001b[1;32m    780\u001b[0m \u001b[38;5;28;01mwith\u001b[39;00m p\u001b[38;5;241m.\u001b[39mgroup():\n",
      "Cell \u001b[0;32mIn[206], line 94\u001b[0m, in \u001b[0;36mTarget.__repr__\u001b[0;34m(self)\u001b[0m\n\u001b[1;32m     93\u001b[0m \u001b[38;5;28;01mdef\u001b[39;00m \u001b[38;5;21m__repr__\u001b[39m(\u001b[38;5;28mself\u001b[39m):\n\u001b[0;32m---> 94\u001b[0m     \u001b[38;5;28;01mreturn\u001b[39;00m \u001b[38;5;28;43mself\u001b[39;49m\u001b[38;5;241;43m.\u001b[39;49m\u001b[43minfo\u001b[49m\n",
      "Cell \u001b[0;32mIn[206], line 84\u001b[0m, in \u001b[0;36mTarget.info\u001b[0;34m(self)\u001b[0m\n\u001b[1;32m     82\u001b[0m     ss \u001b[38;5;241m+\u001b[39m\u001b[38;5;241m=\u001b[39m \u001b[38;5;124m'\u001b[39m\u001b[38;5;124mname=\u001b[39m\u001b[38;5;132;01m{}\u001b[39;00m\u001b[38;5;130;01m\\n\u001b[39;00m\u001b[38;5;124m'\u001b[39m\u001b[38;5;241m.\u001b[39mformat(\u001b[38;5;28mself\u001b[39m\u001b[38;5;241m.\u001b[39mname)\n\u001b[1;32m     83\u001b[0m \u001b[38;5;28;01melse\u001b[39;00m: ss \u001b[38;5;241m+\u001b[39m\u001b[38;5;241m=\u001b[39m \u001b[38;5;124m'\u001b[39m\u001b[38;5;124mname=None\u001b[39m\u001b[38;5;130;01m\\n\u001b[39;00m\u001b[38;5;124m'\u001b[39m\n\u001b[0;32m---> 84\u001b[0m \u001b[38;5;28;01mif\u001b[39;00m \u001b[38;5;28;43mself\u001b[39;49m\u001b[38;5;241;43m.\u001b[39;49m\u001b[43mposition\u001b[49m \u001b[38;5;129;01mis\u001b[39;00m \u001b[38;5;129;01mnot\u001b[39;00m \u001b[38;5;28;01mNone\u001b[39;00m: \n\u001b[1;32m     85\u001b[0m     ss \u001b[38;5;241m+\u001b[39m\u001b[38;5;241m=\u001b[39m \u001b[38;5;124m\"\u001b[39m\u001b[38;5;124mpos_ra=\u001b[39m\u001b[38;5;132;01m{:.2f}\u001b[39;00m\u001b[38;5;130;01m\\n\u001b[39;00m\u001b[38;5;124m\"\u001b[39m\u001b[38;5;241m.\u001b[39mformat(\u001b[38;5;28mself\u001b[39m\u001b[38;5;241m.\u001b[39mposition\u001b[38;5;241m.\u001b[39mra)\u001b[38;5;241m.\u001b[39mreplace(\u001b[38;5;124m'\u001b[39m\u001b[38;5;124m \u001b[39m\u001b[38;5;124m'\u001b[39m, \u001b[38;5;124m'\u001b[39m\u001b[38;5;124m'\u001b[39m)\n\u001b[1;32m     86\u001b[0m     ss \u001b[38;5;241m+\u001b[39m\u001b[38;5;241m=\u001b[39m \u001b[38;5;124m\"\u001b[39m\u001b[38;5;124mpos_dec=\u001b[39m\u001b[38;5;132;01m{:.2f}\u001b[39;00m\u001b[38;5;130;01m\\n\u001b[39;00m\u001b[38;5;124m\"\u001b[39m\u001b[38;5;241m.\u001b[39mformat(\u001b[38;5;28mself\u001b[39m\u001b[38;5;241m.\u001b[39mposition\u001b[38;5;241m.\u001b[39mdec)\u001b[38;5;241m.\u001b[39mreplace(\u001b[38;5;124m'\u001b[39m\u001b[38;5;124m \u001b[39m\u001b[38;5;124m'\u001b[39m, \u001b[38;5;124m'\u001b[39m\u001b[38;5;124m'\u001b[39m)\n",
      "\u001b[0;31mAttributeError\u001b[0m: 'Target' object has no attribute 'position'"
     ]
    }
   ],
   "source": [
    "target.all"
   ]
  },
  {
   "cell_type": "code",
   "execution_count": null,
   "id": "f8e1c8b4",
   "metadata": {},
   "outputs": [],
   "source": [
    "# # from feupy.target import Target\n",
    "# # from feupy.roi import ROI\n",
    "\n",
    "# from astropy import units as u\n",
    "# from astropy.units import Quantity\n",
    "# from gammapy.modeling.models import (\n",
    "#     PowerLawSpectralModel,\n",
    "#     SkyModel,\n",
    "# )\n",
    "# from astropy.coordinates import Angle\n",
    "\n",
    "# name = \"LHAASO J1825-1326\"\n",
    "# pos_ra = u.Quantity(\"276.45deg\") \n",
    "# pos_dec = -13.45* u.Unit('deg')\n",
    "\n",
    "# on_region_radius = on_region_radius=Angle(\"1.0 deg\")\n",
    "# model = PowerLawSpectralModel()\n",
    "# target = Target(name, pos_ra, pos_dec, spectral_model=model)\n",
    "# target.info"
   ]
  },
  {
   "cell_type": "code",
   "execution_count": null,
   "id": "ee80143c",
   "metadata": {},
   "outputs": [],
   "source": []
  }
 ],
 "metadata": {
  "kernelspec": {
   "display_name": "Python 3 (ipykernel)",
   "language": "python",
   "name": "python3"
  },
  "language_info": {
   "codemirror_mode": {
    "name": "ipython",
    "version": 3
   },
   "file_extension": ".py",
   "mimetype": "text/x-python",
   "name": "python",
   "nbconvert_exporter": "python",
   "pygments_lexer": "ipython3",
   "version": "3.9.18"
  }
 },
 "nbformat": 4,
 "nbformat_minor": 5
}
