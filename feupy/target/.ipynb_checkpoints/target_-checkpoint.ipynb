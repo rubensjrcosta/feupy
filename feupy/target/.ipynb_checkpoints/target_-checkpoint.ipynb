{
 "cells": [
  {
   "cell_type": "code",
   "execution_count": null,
   "id": "a1f20d17",
   "metadata": {
    "scrolled": true
   },
   "outputs": [],
   "source": [
    "# Licensed under a 3-clause BSD style license - see LICENSE.rst\n",
    "\"\"\"Target class.\"\"\""
   ]
  },
  {
   "cell_type": "code",
   "execution_count": null,
   "id": "9bc0bd75",
   "metadata": {},
   "outputs": [],
   "source": [
    "from astropy import units as u\n",
    "from astropy.units import Quantity\n",
    "\n",
    "from astropy.coordinates import SkyCoord\n",
    "\n",
    "from gammapy.modeling.models import (\n",
    "    SkyModel,\n",
    "    SpectralModel, \n",
    "    SpatialModel, \n",
    "    TemporalModel\n",
    ")\n",
    "\n",
    "from feupy.utils.string_handling import name_to_txt"
   ]
  },
  {
   "cell_type": "code",
   "execution_count": null,
   "id": "4513ce03",
   "metadata": {},
   "outputs": [],
   "source": [
    "__all__ = [\n",
    "    \"Target\",\n",
    "]"
   ]
  },
  {
   "cell_type": "code",
   "execution_count": null,
   "id": "dfafceb8",
   "metadata": {},
   "outputs": [],
   "source": []
  },
  {
   "cell_type": "code",
   "execution_count": null,
   "id": "4f1c574d",
   "metadata": {},
   "outputs": [],
   "source": [
    "class Target:\n",
    "    \"\"\"Observation target information.\n",
    "    \n",
    "    Parameters\n",
    "    ----------\n",
    "    name : `str`\n",
    "        Name of the source\n",
    "    pos_ra : `~astropy.units.Quantity`\n",
    "        Right ascension (J2000) (degrees) of the source position\n",
    "    pos_dec : `~astropy.units.Quantity`\n",
    "        Declination (J2000) (degrees) of the source position\n",
    "    spectral_model : `~gammapy.modeling.models.SpectralModel`\n",
    "        Spectral Model of the source\n",
    "    spatial_model : `~gammapy.modeling.models.SpatialModel`\n",
    "        Spatial Model of the source\n",
    "    temporal_model : `~gammapy.modeling.models.TemporalModel`\n",
    "        Temporal Model of the source\n",
    "    \"\"\"\n",
    "    \n",
    "    all = []\n",
    "    # Validating the units of arguments to functions\n",
    "    @u.quantity_input(pos_ra=u.deg, pos_dec=u.deg)\n",
    "    def __init__(\n",
    "        self, \n",
    "        name: str, \n",
    "        pos_ra, \n",
    "        pos_dec,\n",
    "        model: SkyModel= None,\n",
    "    ):\n",
    "\n",
    "        # Run validations to the received arguments\n",
    "        assert  0 <= pos_ra.value <= 360, f\"Right Ascension {pos_ra} is not in the range: (0,360) deg!\"\n",
    "        assert -90 <= pos_dec.value <= 90, f\"Declination {pos_dec} is not in the range: (-90,90) deg!\"\n",
    "\n",
    "        # Assign to self object\n",
    "        self.__name = name\n",
    "        self.model = model \n",
    "        self.position = SkyCoord(Quantity(pos_ra, \"deg\"), Quantity(pos_dec, \"deg\"))\n",
    "    \n",
    "    \n",
    "    @property\n",
    "    def name(self):\n",
    "        return self.__name\n",
    "        \n",
    "    @property\n",
    "    def model(self):\n",
    "        return self._model\n",
    "\n",
    "    @model.setter\n",
    "    def model(self, model):\n",
    "        self._model = model\n",
    "        if model:\n",
    "            self.spectral_model = model.spectral_model\n",
    "            self.spatial_model = model.spatial_model\n",
    "            self.temporal_model = model.temporal_model\n",
    "            \n",
    "    @property\n",
    "    def info(self):\n",
    "        \"\"\"Target report (`str`).\"\"\"\n",
    "        ss = '*** Basic parameters ***\\n\\n'\n",
    "        if self.name is not None:\n",
    "            ss += 'name={}\\n'.format(self.name)\n",
    "        else: ss += 'name=None\\n'\n",
    "        if self.position is not None: \n",
    "            ss += \"pos_ra={:.2f}\\n\".format(self.position.ra).replace(' ', '')\n",
    "            ss += \"pos_dec={:.2f}\\n\".format(self.position.dec).replace(' ', '')\n",
    "        else: ss += \"position=None\\n\"\n",
    "        if self.model:\n",
    "            ss += \"\\n*** Model information ***\\n\\n\"\n",
    "            ss += str(self.model)\n",
    "        return ss.replace('=', ' = ')\n",
    "\n",
    "    \n",
    "    \n",
    "    def __repr__(self):\n",
    "        ss = f'{self.__class__.__name__}('\n",
    "        ss += f'name={self.name!r}, '\n",
    "        ss += f\"position={self.position!r}, \"\n",
    "        ss += f\"model={self.model!r})\"\n",
    "        return ss\n",
    "        "
   ]
  },
  {
   "cell_type": "code",
   "execution_count": null,
   "id": "d139edb0",
   "metadata": {},
   "outputs": [],
   "source": []
  }
 ],
 "metadata": {
  "kernelspec": {
   "display_name": "Python 3 (ipykernel)",
   "language": "python",
   "name": "python3"
  },
  "language_info": {
   "codemirror_mode": {
    "name": "ipython",
    "version": 3
   },
   "file_extension": ".py",
   "mimetype": "text/x-python",
   "name": "python",
   "nbconvert_exporter": "python",
   "pygments_lexer": "ipython3",
   "version": "3.9.18"
  }
 },
 "nbformat": 4,
 "nbformat_minor": 5
}
