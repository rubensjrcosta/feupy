{
 "cells": [
  {
   "cell_type": "code",
   "execution_count": 1,
   "id": "fcbe08f8",
   "metadata": {},
   "outputs": [],
   "source": [
    "from feupy.plotters.config import *\n"
   ]
  },
  {
   "cell_type": "code",
   "execution_count": 6,
   "id": "9bc0bd75",
   "metadata": {},
   "outputs": [],
   "source": [
    "from gammapy.modeling.models import Models\n",
    "from gammapy.datasets import Datasets"
   ]
  },
  {
   "cell_type": "code",
   "execution_count": null,
   "id": "4513ce03",
   "metadata": {},
   "outputs": [],
   "source": [
    "__all__ = [\n",
    "    \"set_leg_style_models\",\n",
    "    \"set_leg_style_datasets\",\n",
    "    \"set_leg_style\",\n",
    "]"
   ]
  },
  {
   "cell_type": "code",
   "execution_count": 2,
   "id": "23502822",
   "metadata": {},
   "outputs": [],
   "source": [
    "def set_leg_style(\n",
    "    leg_style = {}, \n",
    "    datasets_names=None, \n",
    "    models_names=None, \n",
    "    colors=COLORS, \n",
    "    markers=MARKERS, \n",
    "    linestyles=LINESTYLES\n",
    "):\n",
    "    \n",
    "    if all([datasets_names ==  None, models_names ==  None]):\n",
    "        return print(\"Sorry, there is error: 'datasets_names =  None' and 'models_names =  None'\")\n",
    "    else: \n",
    "        if datasets_names !=  None:\n",
    "            leg_style = set_leg_style_datasets(datasets_names, leg_style, colors, markers)\n",
    "\n",
    "        if models_names !=  None:\n",
    "            leg_style = set_leg_style_models(models_names, leg_style, colors, linestyles)\n",
    "    \n",
    "    return leg_style"
   ]
  },
  {
   "cell_type": "code",
   "execution_count": null,
   "id": "fdea0e78",
   "metadata": {},
   "outputs": [],
   "source": [
    "def set_leg_style_datasets(datasets_names, leg_style={}, colors=COLORS, markers=MARKERS):\n",
    "    if not isinstance(datasets_names, list):\n",
    "        datasets_names = [datasets_names]\n",
    "        \n",
    "    if len(colors) < len(datasets_names):      \n",
    "        while len(colors) < len(datasets_names) +1:\n",
    "            colors.extend(colors)\n",
    "    \n",
    "    if len(markers) < len(datasets_names):\n",
    "        while len(markers) < len(datasets_names)+1:\n",
    "            markers.extend(markers)\n",
    "\n",
    "    for index, name in enumerate(datasets_names):\n",
    "        color = colors[index]\n",
    "        marker = markers[index]   \n",
    "        leg_style[name] = (color, marker)\n",
    "    return leg_style"
   ]
  },
  {
   "cell_type": "code",
   "execution_count": 3,
   "id": "502b861b",
   "metadata": {},
   "outputs": [],
   "source": [
    "def set_leg_style_models(models_names, leg_style={}, colors='black', linestyles=LINESTYLES):\n",
    "    if not isinstance(models_names, list):\n",
    "        models_names = [models_names]\n",
    "    \n",
    "    if len(linestyles) < len(models_names):\n",
    "        while len(linestyles) < len(models_names)+1:\n",
    "            linestyles.extend(linestyles)\n",
    "\n",
    "    if len(colors) < len(models_names):      \n",
    "        while len(colors) < len(models_names) +1:\n",
    "            colors.extend(colors)\n",
    "\n",
    "    for index, name in enumerate(models_names):\n",
    "        color = colors[index]\n",
    "        linestyle = linestyles[index]   \n",
    "        leg_style[name] = (color, linestyle)\n",
    "    return leg_style"
   ]
  },
  {
   "cell_type": "code",
   "execution_count": null,
   "id": "fdce7e1c",
   "metadata": {},
   "outputs": [],
   "source": []
  }
 ],
 "metadata": {
  "kernelspec": {
   "display_name": "Python 3 (ipykernel)",
   "language": "python",
   "name": "python3"
  },
  "language_info": {
   "codemirror_mode": {
    "name": "ipython",
    "version": 3
   },
   "file_extension": ".py",
   "mimetype": "text/x-python",
   "name": "python",
   "nbconvert_exporter": "python",
   "pygments_lexer": "ipython3",
   "version": "3.9.18"
  }
 },
 "nbformat": 4,
 "nbformat_minor": 5
}
