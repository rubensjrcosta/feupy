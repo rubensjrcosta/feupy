{
 "cells": [
  {
   "cell_type": "code",
   "execution_count": 1,
   "id": "fcbe08f8",
   "metadata": {},
   "outputs": [],
   "source": [
    "from feupy.config import *\n"
   ]
  },
  {
   "cell_type": "code",
   "execution_count": 6,
   "id": "9bc0bd75",
   "metadata": {},
   "outputs": [],
   "source": [
    "from gammapy.modeling.models import Models\n",
    "from gammapy.datasets import Datasets"
   ]
  },
  {
   "cell_type": "code",
   "execution_count": null,
   "id": "4513ce03",
   "metadata": {},
   "outputs": [],
   "source": [
    "__all__ = [\n",
    "    \"set_leg_style_models\",\n",
    "    \"set_leg_style_datasets\",\n",
    "    \"set_leg_style\",\n",
    "]"
   ]
  },
  {
   "cell_type": "code",
   "execution_count": 2,
   "id": "23502822",
   "metadata": {},
   "outputs": [],
   "source": [
    "def set_leg_style_models(dict_leg_style, models, color = None, linestyle = None):\n",
    "    models = Models(models)\n",
    "    color_m = color\n",
    "    linestyle_m = linestyle\n",
    "    \n",
    "    if not linestyle:\n",
    "        while len(LINESTYLES) < len(models) +1:\n",
    "            LINESTYLES.extend(LINESTYLES)\n",
    "    if not color_m:      \n",
    "        while len(COLORS) < len(models) +1:\n",
    "            COLORS.extend(COLORS)\n",
    "\n",
    "    for index, model in enumerate(models):\n",
    "        if not color_m:\n",
    "            color = \"black\"\n",
    "            \n",
    "        linestyle = LINESTYLES[index]\n",
    "        dict_leg_style[model.name] = (color, linestyle)\n",
    "    return dict_leg_style"
   ]
  },
  {
   "cell_type": "code",
   "execution_count": null,
   "id": "fdea0e78",
   "metadata": {},
   "outputs": [],
   "source": [
    "def set_leg_style_datasets(dict_leg_style, datasets, color = None, marker = None):\n",
    "    datasets = Datasets(datasets)\n",
    "    marker_ds = marker\n",
    "    color_ds = color\n",
    "    if not marker_ds:\n",
    "        while len(MARKERS) < len(datasets) +1:\n",
    "            MARKERS.extend(MARKERS)\n",
    "    if not color_ds:      \n",
    "        while len(COLORS) < len(datasets) +1:\n",
    "            COLORS.extend(COLORS)\n",
    "\n",
    "    for index, dataset in enumerate(datasets):\n",
    "        if not color_ds:\n",
    "            color = COLORS[index]\n",
    "\n",
    "        if not color_ds:\n",
    "            marker = MARKERS[index]\n",
    "        \n",
    "        #############################\n",
    "        if dataset.name.find('LHAASO') != -1:\n",
    "            color = COLOR_LHAASO\n",
    "            marker = MARKER_LHAASO\n",
    "            \n",
    "        if dataset.name.find('CTA') != -1:\n",
    "            color = COLOR_CTA\n",
    "            marker = MARKER_CTA\n",
    "        #############################    \n",
    "        dict_leg_style[dataset.name] = (color, marker)\n",
    "    return dict_leg_style"
   ]
  },
  {
   "cell_type": "code",
   "execution_count": 3,
   "id": "502b861b",
   "metadata": {},
   "outputs": [],
   "source": [
    "def set_leg_style(dict_leg_style, datasets = None, models = None, color = None, marker = None, linestyle = None):\n",
    "    if all([datasets ==  None, models ==  None]):\n",
    "        return print(\"Sorry, there is error: 'datasets =  None' and 'models =  None'\")\n",
    "    else: \n",
    "        if datasets !=  None:\n",
    "            dict_leg_style = set_leg_style_datasets(dict_leg_style, datasets, color, marker)\n",
    "\n",
    "        if models !=  None:\n",
    "            dict_leg_style = set_leg_style_models(dict_leg_style, models, color, linestyle)\n",
    "        \n",
    "    return dict_leg_style"
   ]
  },
  {
   "cell_type": "code",
   "execution_count": 4,
   "id": "1a45ab21",
   "metadata": {},
   "outputs": [],
   "source": [
    "# class ROI:\n",
    "#     # ADD others parameters\n",
    "#     all=[]\n",
    "\n",
    "#     # Validating the units of arguments to functions\n",
    "#     @u.quantity_input(pos_ra=u.deg, pos_dec=u.deg, radius=u.deg)\n",
    "#     def __init__(self, name: str, pos_ra, pos_dec, radius):\n",
    "\n",
    "#         # Run validations to the received arguments\n",
    "#         assert 0 <= pos_ra.value <= 360, f\"Right Ascension {pos_ra} is not in the range: (0,360) deg!\"\n",
    "#         assert -90 <= pos_dec.value <= 90, f\"Declination {pos_dec} is not in the range: (-90,90) deg!\"\n",
    "\n",
    "#         # Assign to self object\n",
    "#         self.__name=name\n",
    "#         self.radius=radius\n",
    "#         self.position=SkyCoord(pos_ra,pos_dec) # convert coordinates to astropy SkyCoord\n",
    "\n",
    "#         # Actions to execute\n",
    "#         ROI.all.append(self) \n",
    "\n",
    "#     @property\n",
    "#     def info(self):\n",
    "#         info={}\n",
    "#         info[\"name\"]=self.__name\n",
    "#         info[\"position\"]=self.position\n",
    "#         info[\"radius\"]=self.radius\n",
    "#         return info\n",
    "\n",
    "#     @property\n",
    "#     # Property Decorator=Read-Only Attribute\n",
    "#     def name(self):\n",
    "#         return self.__name\n",
    "\n",
    "#     def __repr__(self):\n",
    "#         return f\"{self.__class__.__name__}({self.__name}, {(self.position.ra.value)}.deg, {(self.position.dec.value)}.deg, {(self.radius.value)}.deg)\"\n"
   ]
  },
  {
   "cell_type": "code",
   "execution_count": 5,
   "id": "e7d53ccc",
   "metadata": {},
   "outputs": [],
   "source": [
    "# def test_roi():\n",
    "#     return ROI(\n",
    "#         \"LHAASO J1825-1326\", \n",
    "#         u.Quantity(\"276.45deg\"), \n",
    "#         -13.45* u.Unit('deg'), \n",
    "#         u.Quantity(\"1.0deg\")\n",
    "#     )"
   ]
  },
  {
   "cell_type": "code",
   "execution_count": null,
   "id": "39c2d7c2",
   "metadata": {},
   "outputs": [],
   "source": []
  }
 ],
 "metadata": {
  "kernelspec": {
   "display_name": "Python 3 (ipykernel)",
   "language": "python",
   "name": "python3"
  },
  "language_info": {
   "codemirror_mode": {
    "name": "ipython",
    "version": 3
   },
   "file_extension": ".py",
   "mimetype": "text/x-python",
   "name": "python",
   "nbconvert_exporter": "python",
   "pygments_lexer": "ipython3",
   "version": "3.9.18"
  }
 },
 "nbformat": 4,
 "nbformat_minor": 5
}
