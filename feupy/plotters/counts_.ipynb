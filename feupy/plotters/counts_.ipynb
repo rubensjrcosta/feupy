{
 "cells": [
  {
   "cell_type": "code",
   "execution_count": null,
   "id": "79780e5a",
   "metadata": {},
   "outputs": [],
   "source": []
  },
  {
   "cell_type": "code",
   "execution_count": 2,
   "id": "fcbe08f8",
   "metadata": {},
   "outputs": [],
   "source": [
    "from feupy.plotters.config import *\n",
    "import matplotlib.pyplot as plt # A collection of command style functions\n",
    "from gammapy.utils.scripts import make_path\n",
    "from astropy import units as u\n",
    "\n",
    "plt.style.use(make_path(PATHMYSTYLE))"
   ]
  },
  {
   "cell_type": "code",
   "execution_count": null,
   "id": "4513ce03",
   "metadata": {},
   "outputs": [],
   "source": [
    "__all__ = [\n",
    "    \"show_hist_counts\",\n",
    "    \"show_sensitivity_curve\",\n",
    "]"
   ]
  },
  {
   "cell_type": "code",
   "execution_count": null,
   "id": "5f804288",
   "metadata": {},
   "outputs": [],
   "source": []
  },
  {
   "cell_type": "code",
   "execution_count": null,
   "id": "23502822",
   "metadata": {},
   "outputs": [],
   "source": [
    "def show_hist_counts(table, path_file=None):   \n",
    "    fix, axes = plt.subplots(1, 4, figsize=(12, 4))\n",
    "    axes[0].hist(table[\"counts\"])\n",
    "    axes[0].set_xlabel(\"Counts\")\n",
    "    axes[0].set_ylabel(\"Frequency\");\n",
    "\n",
    "    axes[1].hist(table[\"counts_off\"])\n",
    "    axes[1].set_xlabel(\"Counts Off\");\n",
    "\n",
    "    axes[2].hist(table[\"excess\"])\n",
    "    axes[2].set_xlabel(\"excess\");\n",
    "\n",
    "    axes[3].hist(table[\"sqrt_ts\"])\n",
    "    axes[3].set_xlabel(r\"significance ($\\sigma$)\");\n",
    "#     path_file =  utl.get_path_counts(region_of_interest)  \n",
    "#     file_name = utl.name_to_txt(file_name)\n",
    "    \n",
    "#     savefig(path_file, file_name)\n",
    "    return"
   ]
  },
  {
   "cell_type": "code",
   "execution_count": null,
   "id": "0c870787",
   "metadata": {},
   "outputs": [],
   "source": [
    "def show_sensitivity_curve(table, path_file=None):\n",
    "    # Plot the sensitivity curve\n",
    "    \n",
    "    is_s = table[\"criterion\"] == \"significance\"\n",
    "\n",
    "    fig, ax = plt.subplots()\n",
    "    ax.plot(\n",
    "        table[\"e_ref\"][is_s],\n",
    "        table[\"e2dnde\"][is_s],\n",
    "        \"s-\",\n",
    "        color=\"red\",\n",
    "        label=\"significance\",\n",
    "    )\n",
    "\n",
    "    is_g = table[\"criterion\"] == \"gamma\"\n",
    "    ax.plot(table[\"e_ref\"][is_g], table[\"e2dnde\"][is_g], \"*-\", color=\"blue\", label=\"gamma\")\n",
    "    is_bkg_syst = table[\"criterion\"] == \"bkg\"\n",
    "    ax.plot(\n",
    "        table[\"e_ref\"][is_bkg_syst],\n",
    "        table[\"e2dnde\"][is_bkg_syst],\n",
    "        \"v-\",\n",
    "        color=\"green\",\n",
    "        label=\"bkg syst\",\n",
    "    )\n",
    "\n",
    "    ax.loglog()\n",
    "    # ax.set_xlabel(f\"Energy [{table['e_ref'].unit.to_string(UNIT_STRING_FORMAT)}]\")\n",
    "    # ax.set_ylabel(f\"Sensitivity [{table['e2dnde'].unit.to_string(UNIT_STRING_FORMAT)}]\")\n",
    "    ax.legend()\n",
    "    plt.show()\n",
    "    return"
   ]
  },
  {
   "cell_type": "code",
   "execution_count": null,
   "id": "6200f2c4",
   "metadata": {},
   "outputs": [],
   "source": [
    "# from gammapy.maps.axes import UNIT_STRING_FORMAT\n",
    "# # Plot the sensitivity curve\n",
    "# t = sensitivity_table\n",
    "\n",
    "# is_s = t[\"criterion\"] == \"significance\"\n",
    "\n",
    "# fig, ax = plt.subplots()\n",
    "# ax.plot(\n",
    "#     t[\"e_ref\"][is_s],\n",
    "#     t[\"e2dnde\"][is_s],\n",
    "#     \"s-\",\n",
    "#     color=\"red\",\n",
    "#     label=\"significance\",\n",
    "# )\n",
    "\n",
    "# is_g = t[\"criterion\"] == \"gamma\"\n",
    "# ax.plot(t[\"e_ref\"][is_g], t[\"e2dnde\"][is_g], \"*-\", color=\"blue\", label=\"gamma\")\n",
    "# is_bkg_syst = t[\"criterion\"] == \"bkg\"\n",
    "# ax.plot(\n",
    "#     t[\"e_ref\"][is_bkg_syst],\n",
    "#     t[\"e2dnde\"][is_bkg_syst],\n",
    "#     \"v-\",\n",
    "#     color=\"green\",\n",
    "#     label=\"bkg syst\",\n",
    "# )\n",
    "\n",
    "# ax.loglog()\n",
    "# ax.set_xlabel(f\"Energy [{t['e_ref'].unit.to_string(UNIT_STRING_FORMAT)}]\")\n",
    "# ax.set_ylabel(f\"Sensitivity [{t['e2dnde'].unit.to_string(UNIT_STRING_FORMAT)}]\")\n",
    "# ax.legend()\n",
    "# plt.show()"
   ]
  }
 ],
 "metadata": {
  "kernelspec": {
   "display_name": "Python 3 (ipykernel)",
   "language": "python",
   "name": "python3"
  },
  "language_info": {
   "codemirror_mode": {
    "name": "ipython",
    "version": 3
   },
   "file_extension": ".py",
   "mimetype": "text/x-python",
   "name": "python",
   "nbconvert_exporter": "python",
   "pygments_lexer": "ipython3",
   "version": "3.9.18"
  }
 },
 "nbformat": 4,
 "nbformat_minor": 5
}
