{
 "cells": [
  {
   "cell_type": "code",
   "execution_count": 1,
   "id": "75dd3a58",
   "metadata": {},
   "outputs": [],
   "source": [
    "# Licensed under a 3-clause BSD style license - see LICENSE.rst\n",
    "\"\"\"Plotters Module configutation.\"\"\""
   ]
  },
  {
   "cell_type": "code",
   "execution_count": 2,
   "id": "df1144f8",
   "metadata": {},
   "outputs": [],
   "source": [
    "COLORS = [\n",
    "    \"aqua\",\n",
    "    \"fuchsia\",\n",
    "    \"peru\",\n",
    "    \"brown\",\n",
    "    \"chartreuse\",\n",
    "    \"chocolate\",\n",
    "    \"coral\",\n",
    "    \"khaki\",\n",
    "    \"darkblue\",\n",
    "    \"cadetblue\",\n",
    "    \"pink\",\n",
    "    \"indigo\",\n",
    "    \"seagreen\",\n",
    "    \"crimson\",\n",
    "    \"khaki\",\n",
    "    \"darkmagenta\",\n",
    "    \"orange\",\n",
    "    \"springgreen\",\n",
    "    \"plum\",\n",
    "    \"maroon\",\n",
    "    \"navy\",\n",
    "    \"olive\",\n",
    "    \"skyblue\",          \n",
    "    \"orange\",\n",
    "    \"orangered\",\n",
    "    \"orchid\",\n",
    "    \"pink\",\n",
    "    \"plum\",\n",
    "    \"purple\",\n",
    "    \"red\",\n",
    "    \"salmon\",\n",
    "    \"sienna\",\n",
    "    \"silver\",\n",
    "    \"tan\",\n",
    "    \"teal\",\n",
    "    \"azure\",\n",
    "    \"beige\",\n",
    "    \"ivory\",\n",
    "    \"black\",\n",
    "    \"tomato\",\n",
    "    \"turquoise\",\n",
    "    \"violet\",\n",
    "    \"aquamarine\",\n",
    "    \"wheat\",\n",
    "    \"white\",\n",
    "    \"cyan\",\n",
    "    \"blue\",\n",
    "    \"lightblue\",\n",
    "    \"yellowgreen\"\n",
    "]"
   ]
  },
  {
   "cell_type": "code",
   "execution_count": null,
   "id": "353284ab",
   "metadata": {},
   "outputs": [],
   "source": []
  }
 ],
 "metadata": {
  "kernelspec": {
   "display_name": "Python 3 (ipykernel)",
   "language": "python",
   "name": "python3"
  },
  "language_info": {
   "codemirror_mode": {
    "name": "ipython",
    "version": 3
   },
   "file_extension": ".py",
   "mimetype": "text/x-python",
   "name": "python",
   "nbconvert_exporter": "python",
   "pygments_lexer": "ipython3",
   "version": "3.9.18"
  }
 },
 "nbformat": 4,
 "nbformat_minor": 5
}
