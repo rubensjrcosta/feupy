{
 "cells": [
  {
   "cell_type": "code",
   "execution_count": 1,
   "id": "75dd3a58",
   "metadata": {},
   "outputs": [],
   "source": [
    "# Licensed under a 3-clause BSD style license - see LICENSE.rst\n",
    "\"\"\"CTA Module configutation.\"\"\""
   ]
  },
  {
   "cell_type": "code",
   "execution_count": null,
   "id": "c44a7092",
   "metadata": {},
   "outputs": [],
   "source": [
    "# ZENITH = ['20deg', '40deg', '60deg']"
   ]
  },
  {
   "cell_type": "code",
   "execution_count": null,
   "id": "4872ceb1",
   "metadata": {},
   "outputs": [],
   "source": [
    "# AVERAGE = ['AverageAz', 'NorthAz', 'SouthAz']"
   ]
  },
  {
   "cell_type": "code",
   "execution_count": 1,
   "id": "6f18ac8a",
   "metadata": {},
   "outputs": [],
   "source": []
  },
  {
   "cell_type": "code",
   "execution_count": 2,
   "id": "298a5d87",
   "metadata": {},
   "outputs": [],
   "source": []
  },
  {
   "cell_type": "code",
   "execution_count": null,
   "id": "27ae86b6",
   "metadata": {},
   "outputs": [],
   "source": []
  }
 ],
 "metadata": {
  "kernelspec": {
   "display_name": "Python 3 (ipykernel)",
   "language": "python",
   "name": "python3"
  },
  "language_info": {
   "codemirror_mode": {
    "name": "ipython",
    "version": 3
   },
   "file_extension": ".py",
   "mimetype": "text/x-python",
   "name": "python",
   "nbconvert_exporter": "python",
   "pygments_lexer": "ipython3",
   "version": "3.9.18"
  }
 },
 "nbformat": 4,
 "nbformat_minor": 5
}
