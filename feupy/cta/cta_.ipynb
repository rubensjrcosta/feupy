{
 "cells": [
  {
   "cell_type": "code",
   "execution_count": 22,
   "id": "d758b0db",
   "metadata": {},
   "outputs": [],
   "source": [
    "from gammapy.irf import load_irf_dict_from_file"
   ]
  },
  {
   "cell_type": "code",
   "execution_count": null,
   "id": "4134a0ca",
   "metadata": {},
   "outputs": [],
   "source": [
    "__all__ = [\n",
    "    \"CTA\",\n",
    "]"
   ]
  },
  {
   "cell_type": "code",
   "execution_count": 25,
   "id": "b58d018c",
   "metadata": {},
   "outputs": [],
   "source": [
    "class CTA:\n",
    "    \"\"\"CTA.\n",
    "\n",
    "    CTA is represented by `~feupy.cta.CTA`.\n",
    "    \"\"\"    \n",
    "#     IRF_ZENITH = [20, 40, 60]\n",
    "#     IRF_HOURS = [0.5, 5, 50]\n",
    "    SITE = [(\"cta_north\", \"North\"), (\"cta_south\", \"South\")]\n",
    "\n",
    "    def __init__(self):\n",
    "        self.irf_name = None\n",
    "    \n",
    "    def create_irf_name(self, irf_zenith=20, irf_hours=0.5, site='North'):\n",
    "        return f'{site}_z{irf_zenith}_{irf_hours}h'\n",
    "    \n",
    "    def load_irfs(self, irf_zenith=20, irf_hours=0.5, site=\"North\"):\n",
    "        dirbasename=\"$PYTHONPATH/feupy/data/irfs/CTAO_IRFs-prod5versionv0.1/fits/\"\n",
    "        \n",
    "        if site == 'South':\n",
    "            telescopes = '14MSTs37SSTs'\n",
    "        else: telescopes = '4LSTs09MSTs'\n",
    "        \n",
    "        dir_irf = f'CTA-Performance-prod5-v0.1-{site}-{irf_zenith}deg.FITS/'\n",
    "        \n",
    "        if irf_hours == 0.5:\n",
    "            seconds = 1800\n",
    "        elif irf_hours == 5:\n",
    "            seconds = 18000\n",
    "        else: seconds = 180000\n",
    "            \n",
    "        irf_file_name = f'Prod5-{site}-{irf_zenith}deg-{site}Az-{telescopes}.{seconds}s-v0.1.fits.gz'\n",
    "        return load_irf_dict_from_file(f'{dirbasename}{dir_irf}{irf_file_name}')"
   ]
  },
  {
   "cell_type": "code",
   "execution_count": 26,
   "id": "356d278b",
   "metadata": {},
   "outputs": [
    {
     "data": {
      "text/plain": [
       "{'aeff': <gammapy.irf.effective_area.EffectiveAreaTable2D at 0x7fe51c4609a0>,\n",
       " 'psf': <gammapy.irf.psf.parametric.EnergyDependentMultiGaussPSF at 0x7fe51c40cd30>,\n",
       " 'edisp': <gammapy.irf.edisp.core.EnergyDispersion2D at 0x7fe51c4fbc10>,\n",
       " 'bkg': <gammapy.irf.background.Background3D at 0x7fe51c460a30>}"
      ]
     },
     "execution_count": 26,
     "metadata": {},
     "output_type": "execute_result"
    }
   ],
   "source": [
    "# CTA().load_irfs()"
   ]
  },
  {
   "cell_type": "code",
   "execution_count": null,
   "id": "50d68004",
   "metadata": {},
   "outputs": [],
   "source": []
  },
  {
   "cell_type": "code",
   "execution_count": null,
   "id": "2fd8192f",
   "metadata": {},
   "outputs": [],
   "source": []
  }
 ],
 "metadata": {
  "kernelspec": {
   "display_name": "Python 3 (ipykernel)",
   "language": "python",
   "name": "python3"
  },
  "language_info": {
   "codemirror_mode": {
    "name": "ipython",
    "version": 3
   },
   "file_extension": ".py",
   "mimetype": "text/x-python",
   "name": "python",
   "nbconvert_exporter": "python",
   "pygments_lexer": "ipython3",
   "version": "3.9.18"
  }
 },
 "nbformat": 4,
 "nbformat_minor": 5
}
