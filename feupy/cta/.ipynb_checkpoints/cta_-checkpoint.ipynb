{
 "cells": [
  {
   "cell_type": "code",
   "execution_count": null,
   "id": "9bc0bd75",
   "metadata": {},
   "outputs": [],
   "source": [
    "from astropy import units as u\n",
    "from astropy.units import Quantity\n",
    "from astropy.coordinates import SkyCoord\n",
    "from gammapy.utils.units import energy_unit_format"
   ]
  },
  {
   "cell_type": "code",
   "execution_count": 2,
   "id": "4513ce03",
   "metadata": {},
   "outputs": [],
   "source": [
    "__all__ = [\n",
    "#     \"ROI\",\n",
    "    \"Target\",\n",
    "#     \"AnalysisConfig\",\n",
    "]"
   ]
  },
  {
   "cell_type": "code",
   "execution_count": 5,
   "id": "c538402a",
   "metadata": {},
   "outputs": [],
   "source": [
    "class Target:\n",
    "    \"\"\"Target information.\"\"\"\n",
    "    \n",
    "    all = []\n",
    "    # Validating the units of arguments to functions\n",
    "    @u.quantity_input(pos_ra= u.deg,  pos_dec= u.deg)\n",
    "    def __init__(self, name: str, pos_ra,  pos_dec):\n",
    "\n",
    "        # Run validations to the received arguments\n",
    "        assert  0 <= pos_ra.value <= 360, f\"Right Ascension {pos_ra} is not in the range: (0,360) deg!\"\n",
    "        assert -90 <= pos_dec.value <= 90, f\"Declination {pos_dec} is not in the range: (-90,90) deg!\"\n",
    "        \n",
    "        # Assign to self object\n",
    "        self.__name = name\n",
    "        self.position = SkyCoord(pos_ra,pos_dec) # convert coordinates to astropy SkyCoord\n",
    "        \n",
    "        # Actions to execute\n",
    "        Target.all.append(self) \n",
    "        \n",
    "    @property\n",
    "    def info(self):\n",
    "        info = {}\n",
    "        info[\"name\"] = self.name\n",
    "        info[\"position\"] = self.position\n",
    "        return info\n",
    "    \n",
    "    @property\n",
    "    # Property Decorator = Read-Only Attribute\n",
    "    def name(self):\n",
    "        return self.__name\n",
    "    \n",
    "    def __repr__(self):\n",
    "        return  f\"{self.__class__.__name__}({self.__name}, {(self.position.ra.value)}.deg, {(self.position.dec.value)}.deg)\"\n"
   ]
  },
  {
   "cell_type": "code",
   "execution_count": 8,
   "id": "187f283e",
   "metadata": {},
   "outputs": [],
   "source": [
    "def test_target():\n",
    "    return Target(\n",
    "        \"2HWC J1825-134\", \n",
    "        27.46* u.Unit('deg'), \n",
    "        12.2* u.Unit('deg')\n",
    "    )\n",
    "\n",
    "    "
   ]
  }
 ],
 "metadata": {
  "kernelspec": {
   "display_name": "Python 3 (ipykernel)",
   "language": "python",
   "name": "python3"
  },
  "language_info": {
   "codemirror_mode": {
    "name": "ipython",
    "version": 3
   },
   "file_extension": ".py",
   "mimetype": "text/x-python",
   "name": "python",
   "nbconvert_exporter": "python",
   "pygments_lexer": "ipython3",
   "version": "3.9.18"
  }
 },
 "nbformat": 4,
 "nbformat_minor": 5
}
