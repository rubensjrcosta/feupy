{
 "cells": [
  {
   "cell_type": "code",
   "execution_count": null,
   "id": "d758b0db",
   "metadata": {},
   "outputs": [],
   "source": [
    "from gammapy.irf import load_irf_dict_from_file\n",
    "from gammapy.data import observatory_locations\n",
    "from astropy.coordinates import Angle\n",
    "from astropy.units import Quantity\n",
    "\n",
    "from astropy import units as u"
   ]
  },
  {
   "cell_type": "code",
   "execution_count": null,
   "id": "4134a0ca",
   "metadata": {},
   "outputs": [],
   "source": [
    "__all__ = [\n",
    "    \"ObservationParameters\"\n",
    "]"
   ]
  },
  {
   "cell_type": "code",
   "execution_count": null,
   "id": "c5cd8341",
   "metadata": {},
   "outputs": [],
   "source": [
    "class ObservationParameters:\n",
    "    \"\"\"Container for observation parameters.\n",
    "\n",
    "    Parameters\n",
    "    ----------\n",
    "    livetime :  `~astropy.units.Quantity`\n",
    "        Livetime exposure of the simulated observation\n",
    "    on_region_radius : `~astropy.units.Quantity`\n",
    "        Integration radius of the ON extraction region\n",
    "    offset : `~astropy.units.Quantity`\n",
    "        Pointing position offset    \n",
    "    e_edges_min :  `~astropy.units.Quantity`\n",
    "        Minimal energy for simulation\n",
    "    e_edges_max : `~astropy.units.Quantity`\n",
    "        Maximal energy for simulation\n",
    "    n_obs : int\n",
    "    \n",
    "        Number of simulations of each observation   \n",
    "    alpha : `~astropy.units.Quantity`\n",
    "        Normalisation between ON and OFF regions\n",
    "    \"\"\"\n",
    "    @u.quantity_input(livetime=u.h, on_region_radius=u.deg, offset=u.deg, e_edges_min=u.eV, e_edges_max=u.eV)\n",
    "    def __init__(self,livetime=None,\n",
    "                 on_region_radius=None, \n",
    "                 offset=None, \n",
    "                 e_edges_min=None,\n",
    "                 e_edges_max=None,\n",
    "                 n_obs=None\n",
    "                ):\n",
    "        self.livetime = Quantity(livetime, \"h\")\n",
    "        self.on_region_radius = Angle(Quantity(on_region_radius, \"deg\"))\n",
    "        self.offset = Quantity(offset, \"deg\")\n",
    "        self.e_edges_min = Quantity(e_edges_min, \"TeV\")\n",
    "        self.e_edges_max = Quantity(e_edges_max, \"TeV\")\n",
    "        self.n_obs = n_obs\n",
    "\n",
    "    def __str__(self):\n",
    "        \"\"\"Observation summary report (`str`).\"\"\"\n",
    "        ss = '*** Observation parameters summary ***\\n\\n'\n",
    "        ss += 'livetime={} [{}]\\n'.format(self.livetime.value, self.livetime.unit)\n",
    "        ss += 'on_region_radius={} [{}]\\n'.format(self.on_region_radius.value, self.on_region_radius.unit)\n",
    "        ss += 'offset={} [{}]\\n'.format(self.offset.value, self.offset.unit)\n",
    "        ss += 'e_edges_min={} [{}]\\n'.format(self.e_edges_min.value, self.e_edges_min.unit)\n",
    "        ss += 'e_edges_max={} [{}]\\n'.format(self.e_edges_max.value, self.e_edges_max.unit)\n",
    "        ss += 'n_obs={}\\n'.format(self.n_obs)\n",
    "        return ss"
   ]
  },
  {
   "cell_type": "code",
   "execution_count": null,
   "id": "c93bcb54",
   "metadata": {},
   "outputs": [],
   "source": []
  }
 ],
 "metadata": {
  "kernelspec": {
   "display_name": "Python 3 (ipykernel)",
   "language": "python",
   "name": "python3"
  },
  "language_info": {
   "codemirror_mode": {
    "name": "ipython",
    "version": 3
   },
   "file_extension": ".py",
   "mimetype": "text/x-python",
   "name": "python",
   "nbconvert_exporter": "python",
   "pygments_lexer": "ipython3",
   "version": "3.9.18"
  }
 },
 "nbformat": 4,
 "nbformat_minor": 5
}
