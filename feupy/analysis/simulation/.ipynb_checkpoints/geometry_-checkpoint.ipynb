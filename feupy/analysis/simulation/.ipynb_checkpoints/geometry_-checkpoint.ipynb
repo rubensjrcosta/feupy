{
 "cells": [
  {
   "cell_type": "code",
   "execution_count": null,
   "id": "3d891ad7",
   "metadata": {},
   "outputs": [],
   "source": [
    "# Licensed under a 3-clause BSD style license - see LICENSE.rst\n",
    "\"\"\"Map geometry.\"\"\""
   ]
  },
  {
   "cell_type": "code",
   "execution_count": 4,
   "id": "d758b0db",
   "metadata": {},
   "outputs": [],
   "source": [
    "from gammapy.data import Observation\n",
    "from gammapy.maps import RegionGeom\n",
    "\n",
    "from regions import CircleSkyRegion\n",
    "\n",
    "from astropy.coordinates import SkyCoord\n",
    "\n",
    "from astropy import units as u\n",
    "from astropy.units import Quantity\n"
   ]
  },
  {
   "cell_type": "code",
   "execution_count": 5,
   "id": "4134a0ca",
   "metadata": {},
   "outputs": [],
   "source": [
    "__all__ = [\n",
    "    \"GeometryParameters\"\n",
    "]"
   ]
  },
  {
   "cell_type": "code",
   "execution_count": null,
   "id": "c5cd8341",
   "metadata": {},
   "outputs": [],
   "source": []
  },
  {
   "cell_type": "code",
   "execution_count": 6,
   "id": "d3f84eb5",
   "metadata": {},
   "outputs": [],
   "source": [
    "class GeometryParameters:\n",
    "    \"\"\"Container for geometry parameters.\n",
    "\n",
    "    Parameters\n",
    "    ----------  \n",
    "    e_reco_min :  `~astropy.units.Quantity`\n",
    "        Minimal energy for simulation\n",
    "    e_reco_max : `~astropy.units.Quantity`\n",
    "        Maximal energy for simulation\n",
    "    nbin_reco : int\n",
    "    e_true_min :  `~astropy.units.Quantity`\n",
    "        Minimal energy for simulation\n",
    "    e_true_max : `~astropy.units.Quantity`\n",
    "        Maximal energy for simulation\n",
    "    nbin_true : int\n",
    "    \"\"\"\n",
    "    @u.quantity_input(\n",
    "        e_reco_min=u.eV, \n",
    "        e_reco_max=u.eV,\n",
    "        e_true_min=u.eV, \n",
    "        e_true_max=u.eV\n",
    "    )\n",
    "    def __init__(self,\n",
    "                 e_reco_min=None,\n",
    "                 e_reco_max=None,\n",
    "                 nbin_reco: int=None,\n",
    "                 e_true_min=None,\n",
    "                 e_true_max=None,\n",
    "                 nbin_true: int=None,\n",
    "                ):\n",
    "        self.e_reco_min = Quantity(e_reco_min, \"TeV\")\n",
    "        self.e_reco_max = Quantity(e_reco_max, \"TeV\")\n",
    "        self.nbin_reco = nbin_reco\n",
    "        self.e_true_min = Quantity(e_true_min, \"TeV\")\n",
    "        self.e_true_max = Quantity(e_true_max, \"TeV\")\n",
    "        self.nbin_true = nbin_true\n",
    "\n",
    "    def __str__(self):\n",
    "        \"\"\"Geometry summary report (`str`).\"\"\"\n",
    "        ss = 'e_reco_min={:.2f}\\n'.format(self.e_reco_min).replace(' ', '')\n",
    "        ss += 'e_reco_max={:.2f}\\n'.format(self.e_reco_max).replace(' ', '')\n",
    "        ss += 'nbin_reco={}\\n'.format(self.nbin_reco)\n",
    "        ss += 'e_true_min={:.2f}\\n'.format(self.e_true_min).replace(' ', '')\n",
    "        ss += 'e_true_max={:.2f}\\n'.format(self.e_true_max).replace(' ', '')\n",
    "        ss += 'nbin_true={}\\n'.format(self.nbin_true)\n",
    "        return ss.replace('=', ' = ')"
   ]
  },
  {
   "cell_type": "code",
   "execution_count": null,
   "id": "eaa61d07",
   "metadata": {},
   "outputs": [],
   "source": []
  }
 ],
 "metadata": {
  "kernelspec": {
   "display_name": "Python 3 (ipykernel)",
   "language": "python",
   "name": "python3"
  },
  "language_info": {
   "codemirror_mode": {
    "name": "ipython",
    "version": 3
   },
   "file_extension": ".py",
   "mimetype": "text/x-python",
   "name": "python",
   "nbconvert_exporter": "python",
   "pygments_lexer": "ipython3",
   "version": "3.9.18"
  }
 },
 "nbformat": 4,
 "nbformat_minor": 5
}
