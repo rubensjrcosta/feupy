{
 "cells": [
  {
   "cell_type": "code",
   "execution_count": null,
   "id": "8460405c",
   "metadata": {},
   "outputs": [],
   "source": []
  },
  {
   "cell_type": "code",
   "execution_count": 1,
   "id": "d758b0db",
   "metadata": {},
   "outputs": [],
   "source": [
    "from astropy.coordinates import Angle\n",
    "from astropy.units import Quantity\n",
    "\n",
    "from astropy import units as u\n",
    "from gammapy.estimators import SensitivityEstimator\n",
    "from feupy.utils.scripts import is_documented_by\n",
    "from feupy.utils.datasets import flux_points_dataset_from_table"
   ]
  },
  {
   "cell_type": "code",
   "execution_count": 2,
   "id": "4134a0ca",
   "metadata": {},
   "outputs": [],
   "source": [
    "__all__ = [\n",
    "    \"ObservationParameters\"\n",
    "]"
   ]
  },
  {
   "cell_type": "code",
   "execution_count": 3,
   "id": "c5cd8341",
   "metadata": {},
   "outputs": [],
   "source": [
    "class ObservationParameters:\n",
    "    \"\"\"Container for observation parameters.\n",
    "\n",
    "    Parameters\n",
    "    ----------\n",
    "    livetime :  `~astropy.units.Quantity`\n",
    "        Livetime exposure of the simulated observation\n",
    "    on_region_radius : `~astropy.units.Quantity`\n",
    "        Integration radius of the ON extraction region\n",
    "    offset : `~astropy.units.Quantity`\n",
    "        Pointing position offset    \n",
    "    e_edges_min :  `~astropy.units.Quantity`\n",
    "        Minimal energy for simulation\n",
    "    e_edges_max : `~astropy.units.Quantity`\n",
    "        Maximal energy for simulation\n",
    "    n_obs : int\n",
    "    \n",
    "        Number of simulations of each observation   \n",
    "    alpha : `~astropy.units.Quantity`\n",
    "        Normalisation between ON and OFF regions\n",
    "    \"\"\"\n",
    "    @u.quantity_input(livetime=u.h, on_region_radius=u.deg, offset=u.deg, e_edges_min=u.eV, e_edges_max=u.eV)\n",
    "    def __init__(self,livetime=None,\n",
    "                 on_region_radius=None, \n",
    "                 offset=None, \n",
    "                 e_edges_min=None,\n",
    "                 e_edges_max=None,\n",
    "                 n_obs=None\n",
    "                ):\n",
    "        self.livetime = Quantity(livetime, \"h\")\n",
    "        self.on_region_radius = Angle(Quantity(on_region_radius, \"deg\"))\n",
    "        self.offset = Quantity(offset, \"deg\")\n",
    "        self.e_edges_min = Quantity(e_edges_min, \"TeV\")\n",
    "        self.e_edges_max = Quantity(e_edges_max, \"TeV\")\n",
    "        self.n_obs = n_obs\n",
    "\n",
    "    def __str__(self):\n",
    "        \"\"\"Observation summary report (`str`).\"\"\"\n",
    "        ss = '*** Basic parameters ***\\n\\n'\n",
    "        ss += 'livetime={:.2f}\\n'.format(self.livetime).replace(' ', '')\n",
    "        ss += 'on_region_radius={:.2f}\\n'.format(self.on_region_radius).replace(' ', '')\n",
    "        ss += 'offset={:.2f}\\n'.format(self.offset).replace(' ', '')\n",
    "        ss += 'e_edges_min={:.2f}\\n'.format(self.e_edges_min).replace(' ', '')\n",
    "        ss += 'e_edges_max={:.2f}\\n'.format(self.e_edges_max).replace(' ', '')\n",
    "        ss += 'n_obs={}\\n'.format(self.n_obs)\n",
    "        return ss.replace('=', ' = ')"
   ]
  },
  {
   "cell_type": "code",
   "execution_count": null,
   "id": "c93bcb54",
   "metadata": {},
   "outputs": [],
   "source": [
    "@is_documented_by(SensitivityEstimator)\n",
    "def sensitivity_estimator(\n",
    "    spectrum=None,\n",
    "    n_sigma=5.0,\n",
    "    gamma_min=10,\n",
    "    bkg_syst_fraction=0.05,\n",
    "    dataset_onoff=None,\n",
    "):\n",
    "    sensitivity = SensitivityEstimator(\n",
    "        spectrum=spectrum,\n",
    "        gamma_min=gamma_min, \n",
    "        n_sigma=n_sigma, \n",
    "        bkg_syst_fraction=bkg_syst_fraction\n",
    ")\n",
    "    table = sensitivity.run(dataset_onoff)\n",
    "    dataset = flux_points_dataset_from_table(table)\n",
    "    return table, dataset"
   ]
  }
 ],
 "metadata": {
  "kernelspec": {
   "display_name": "Python 3 (ipykernel)",
   "language": "python",
   "name": "python3"
  },
  "language_info": {
   "codemirror_mode": {
    "name": "ipython",
    "version": 3
   },
   "file_extension": ".py",
   "mimetype": "text/x-python",
   "name": "python",
   "nbconvert_exporter": "python",
   "pygments_lexer": "ipython3",
   "version": "3.9.18"
  }
 },
 "nbformat": 4,
 "nbformat_minor": 5
}
