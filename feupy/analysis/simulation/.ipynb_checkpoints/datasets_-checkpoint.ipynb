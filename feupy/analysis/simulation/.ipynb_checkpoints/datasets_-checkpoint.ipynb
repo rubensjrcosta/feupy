{
 "cells": [
  {
   "cell_type": "code",
   "execution_count": null,
   "id": "3d891ad7",
   "metadata": {},
   "outputs": [],
   "source": [
    "# Licensed under a 3-clause BSD style license - see LICENSE.rst\n",
    "\"\"\"Map geometry.\"\"\""
   ]
  },
  {
   "cell_type": "code",
   "execution_count": 1,
   "id": "d758b0db",
   "metadata": {},
   "outputs": [],
   "source": [
    "from gammapy.data import Observation\n",
    "from gammapy.maps import RegionGeom\n",
    "\n",
    "from regions import CircleSkyRegion\n",
    "\n",
    "from astropy.coordinates import SkyCoord\n",
    "\n",
    "from astropy import units as u"
   ]
  },
  {
   "cell_type": "code",
   "execution_count": 2,
   "id": "4134a0ca",
   "metadata": {},
   "outputs": [],
   "source": [
    "__all__ = [\n",
    "    \"create_dataset_empty\",\n",
    "    \"set_pointing\",\n",
    "    \"create_observation\",\n",
    "    \"define_on_region\",\n",
    "    \"define_geometry\"\n",
    "]"
   ]
  },
  {
   "cell_type": "code",
   "execution_count": null,
   "id": "4c4c0d0d",
   "metadata": {},
   "outputs": [],
   "source": [
    "from gammapy.datasets import SpectrumDataset\n",
    "\n",
    "def create_dataset_empty(geom, energy_true):\n",
    "    \"\"\"Create a MapDataset object with zero filled maps.\"\"\"\n",
    "    return SpectrumDataset.create(\n",
    "        geom=geom, \n",
    "        energy_axis_true=energy_true,\n",
    "        name=\"obs-0\"\n",
    "    )"
   ]
  }
 ],
 "metadata": {
  "kernelspec": {
   "display_name": "Python 3 (ipykernel)",
   "language": "python",
   "name": "python3"
  },
  "language_info": {
   "codemirror_mode": {
    "name": "ipython",
    "version": 3
   },
   "file_extension": ".py",
   "mimetype": "text/x-python",
   "name": "python",
   "nbconvert_exporter": "python",
   "pygments_lexer": "ipython3",
   "version": "3.9.18"
  }
 },
 "nbformat": 4,
 "nbformat_minor": 5
}
