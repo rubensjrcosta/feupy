{
 "cells": [
  {
   "cell_type": "code",
   "execution_count": null,
   "id": "3d891ad7",
   "metadata": {},
   "outputs": [],
   "source": [
    "# Licensed under a 3-clause BSD style license - see LICENSE.rst\n",
    "\"\"\"Datasets.\"\"\""
   ]
  },
  {
   "cell_type": "code",
   "execution_count": 1,
   "id": "d758b0db",
   "metadata": {},
   "outputs": [],
   "source": [
    "from gammapy.datasets import SpectrumDataset\n",
    "from gammapy.datasets import SpectrumDatasetOnOff"
   ]
  },
  {
   "cell_type": "code",
   "execution_count": 2,
   "id": "4134a0ca",
   "metadata": {},
   "outputs": [],
   "source": [
    "__all__ = [\n",
    "    \"create_spectrum_dataset_empty\",\n",
    "    \"create_spectrum_dataset_onoff\"\n",
    "]"
   ]
  },
  {
   "cell_type": "code",
   "execution_count": null,
   "id": "3e5d006d",
   "metadata": {},
   "outputs": [],
   "source": [
    "def create_spectrum_dataset_empty(geom, energy_axis_true, name=\"obs-0\"):\n",
    "    \"\"\"Create a MapDataset object with zero filled maps.\"\"\"\n",
    "    return SpectrumDataset.create(\n",
    "        geom=geom, \n",
    "        energy_axis_true=energy_axis_true,\n",
    "        name=name,\n",
    "    )"
   ]
  },
  {
   "cell_type": "code",
   "execution_count": null,
   "id": "2e212388",
   "metadata": {},
   "outputs": [],
   "source": [
    "def create_spectrum_dataset_onoff(dataset, acceptance, acceptance_off):\n",
    "    \"\"\"Create a SpectrumDatasetOnOff from a `SpectrumDataset` dataset.\"\"\" \n",
    "    return SpectrumDatasetOnOff.from_spectrum_dataset(\n",
    "        dataset=dataset, \n",
    "        acceptance=acceptance, \n",
    "        acceptance_off=acceptance_off,\n",
    "    )"
   ]
  },
  {
   "cell_type": "code",
   "execution_count": null,
   "id": "ca88dd90",
   "metadata": {},
   "outputs": [],
   "source": []
  }
 ],
 "metadata": {
  "kernelspec": {
   "display_name": "Python 3 (ipykernel)",
   "language": "python",
   "name": "python3"
  },
  "language_info": {
   "codemirror_mode": {
    "name": "ipython",
    "version": 3
   },
   "file_extension": ".py",
   "mimetype": "text/x-python",
   "name": "python",
   "nbconvert_exporter": "python",
   "pygments_lexer": "ipython3",
   "version": "3.9.18"
  }
 },
 "nbformat": 4,
 "nbformat_minor": 5
}
