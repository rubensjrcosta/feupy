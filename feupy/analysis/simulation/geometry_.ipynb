{
 "cells": [
  {
   "cell_type": "code",
   "execution_count": null,
   "id": "3d891ad7",
   "metadata": {},
   "outputs": [],
   "source": [
    "# Licensed under a 3-clause BSD style license - see LICENSE.rst\n",
    "\"\"\"Map geometry.\"\"\""
   ]
  },
  {
   "cell_type": "code",
   "execution_count": 7,
   "id": "d604c7a9",
   "metadata": {},
   "outputs": [
    {
     "name": "stdout",
     "output_type": "stream",
     "text": [
      "geometry.py:14:1: 'gammapy.data.Observation' imported but unused\r\n",
      "geometry.py:15:1: 'gammapy.maps.RegionGeom' imported but unused\r\n",
      "geometry.py:18:1: 'regions.CircleSkyRegion' imported but unused\r\n",
      "geometry.py:20:1: 'astropy.coordinates.SkyCoord' imported but unused\r\n"
     ]
    }
   ],
   "source": []
  },
  {
   "cell_type": "code",
   "execution_count": 4,
   "id": "d758b0db",
   "metadata": {},
   "outputs": [],
   "source": [
    "from astropy import units as u\n",
    "from astropy.units import Quantity\n"
   ]
  },
  {
   "cell_type": "code",
   "execution_count": 5,
   "id": "4134a0ca",
   "metadata": {},
   "outputs": [],
   "source": [
    "__all__ = [\n",
    "    \"GeometryParameters\"\n",
    "]"
   ]
  },
  {
   "cell_type": "code",
   "execution_count": null,
   "id": "c5cd8341",
   "metadata": {},
   "outputs": [],
   "source": []
  },
  {
   "cell_type": "code",
   "execution_count": 6,
   "id": "d3f84eb5",
   "metadata": {},
   "outputs": [],
   "source": [
    "class GeometryParameters:\n",
    "    \"\"\"Container for geometry parameters.\n",
    "\n",
    "    Parameters\n",
    "    ----------  \n",
    "    e_reco_min :  `~astropy.units.Quantity`\n",
    "        Minimal energy for simulation\n",
    "    e_reco_max : `~astropy.units.Quantity`\n",
    "        Maximal energy for simulation\n",
    "    nbin_reco : int\n",
    "    e_true_min :  `~astropy.units.Quantity`\n",
    "        Minimal energy for simulation\n",
    "    e_true_max : `~astropy.units.Quantity`\n",
    "        Maximal energy for simulation\n",
    "    nbin_true : int\n",
    "    \"\"\"\n",
    "    @u.quantity_input(\n",
    "        e_reco_min=u.eV, \n",
    "        e_reco_max=u.eV,\n",
    "        e_true_min=u.eV, \n",
    "        e_true_max=u.eV\n",
    "    )\n",
    "    def __init__(self,\n",
    "                 e_reco_min=None,\n",
    "                 e_reco_max=None,\n",
    "                 nbin_reco: int=None,\n",
    "                 e_true_min=None,\n",
    "                 e_true_max=None,\n",
    "                 nbin_true: int=None,\n",
    "                ):\n",
    "        self.e_reco_min = Quantity(e_reco_min, \"TeV\")\n",
    "        self.e_reco_max = Quantity(e_reco_max, \"TeV\")\n",
    "        self.nbin_reco = nbin_reco\n",
    "        self.e_true_min = Quantity(e_true_min, \"TeV\")\n",
    "        self.e_true_max = Quantity(e_true_max, \"TeV\")\n",
    "        self.nbin_true = nbin_true\n",
    "\n",
    "    def __str__(self):\n",
    "        \"\"\"Geometry summary report (`str`).\"\"\"\n",
    "        ss = '*** Basic parameters ***\\n\\n'\n",
    "        ss += 'e_reco_min={:.2f}\\n'.format(self.e_reco_min).replace(' ', '')\n",
    "        ss += 'e_reco_max={:.2f}\\n'.format(self.e_reco_max).replace(' ', '')\n",
    "        ss += 'nbin_reco={}\\n'.format(self.nbin_reco)\n",
    "        ss += 'e_true_min={:.2f}\\n'.format(self.e_true_min).replace(' ', '')\n",
    "        ss += 'e_true_max={:.2f}\\n'.format(self.e_true_max).replace(' ', '')\n",
    "        ss += 'nbin_true={}\\n'.format(self.nbin_true)\n",
    "        return ss.replace('=', ' = ')"
   ]
  },
  {
   "cell_type": "code",
   "execution_count": null,
   "id": "695f7414",
   "metadata": {},
   "outputs": [],
   "source": [
    "# class Geometry(GeometryParameters):\n",
    "#     all = []\n",
    "#      def __init__(self,\n",
    "#                  e_reco_min=None,\n",
    "#                  e_reco_max=None,\n",
    "#                  nbin_reco: int=None,\n",
    "#                  e_true_min=None,\n",
    "#                  e_true_max=None,\n",
    "#                  nbin_true: int=None,\n",
    "#                 ):        # Call to super function to have access to all attributes / methods\n",
    "#         super().__init__(\n",
    "#                 e_reco_min=None,\n",
    "#                  e_reco_max=None,\n",
    "#                  nbin_reco: int=None,\n",
    "#                  e_true_min=None,\n",
    "#                  e_true_max=None,\n",
    "#                  nbin_true: int=None,\n",
    "#         )\n",
    "\n",
    "#         # Run validations to the received arguments\n",
    "#         assert  distance>=0, f\"Distance: {distance} <= 0!\"\n",
    "    \n",
    "#         # Assign to self object\n",
    "#         self.distance = distance\n",
    "#         Pulsar.all.append(self) \n",
    "\n",
    "#     @classmethod\n",
    "#     def instantiate_from_fits(cls):\n",
    "#         table = Table().read(\"pulsars.fits\")\n",
    "#         col_names = table.colnames\n",
    "#         for index, pulsar in enumerate(table):\n",
    "#             name, ra, dec, distance, age, luminosity = table[index][col_names]\n",
    "#             ra = ra*table[\"ra\"].unit\n",
    "#             dec = dec*table[\"dec\"].unit\n",
    "#             distance = distance*table[\"distance\"].unit\n",
    "#             age = age*table[\"age\"].unit\n",
    "#             luminosity = luminosity*table[\"luminosity\"].unit\n",
    "#             Pulsar(name=name,pos_ra=ra,pos_dec=dec, distance=distance)"
   ]
  }
 ],
 "metadata": {
  "kernelspec": {
   "display_name": "Python 3 (ipykernel)",
   "language": "python",
   "name": "python3"
  },
  "language_info": {
   "codemirror_mode": {
    "name": "ipython",
    "version": 3
   },
   "file_extension": ".py",
   "mimetype": "text/x-python",
   "name": "python",
   "nbconvert_exporter": "python",
   "pygments_lexer": "ipython3",
   "version": "3.9.18"
  }
 },
 "nbformat": 4,
 "nbformat_minor": 5
}
