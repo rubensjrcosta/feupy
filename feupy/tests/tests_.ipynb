{
 "cells": [
  {
   "cell_type": "code",
   "execution_count": null,
   "id": "ac2ab14d",
   "metadata": {},
   "outputs": [],
   "source": [
    "# Licensed under a 3-clause BSD style license - see LICENSE.rst\n",
    "\"\"\"tests classes.\"\"\""
   ]
  },
  {
   "cell_type": "code",
   "execution_count": null,
   "id": "ab1eeb4b",
   "metadata": {},
   "outputs": [],
   "source": [
    "from astropy import units as u\n",
    "from astropy.units import Quantity\n",
    "\n",
    "from feupy.target import Target\n",
    "from feupy.roi import ROI"
   ]
  },
  {
   "cell_type": "code",
   "execution_count": null,
   "id": "693625a7",
   "metadata": {},
   "outputs": [],
   "source": [
    "__all__ = [\n",
    "    \"test_target\",\n",
    "    \"test_roi\"\n",
    "]"
   ]
  },
  {
   "cell_type": "code",
   "execution_count": null,
   "id": "b2958e50",
   "metadata": {},
   "outputs": [],
   "source": [
    "def test_target():\n",
    "    return Target(\n",
    "        name=\"23HWC J1825-134\", \n",
    "        pos_ra=27.46* u.Unit('deg'), \n",
    "        pos_dec=12.2* u.Unit('deg'),\n",
    "    \n",
    "    )"
   ]
  },
  {
   "cell_type": "code",
   "execution_count": null,
   "id": "af4b86d8",
   "metadata": {},
   "outputs": [],
   "source": [
    "def test_roi():\n",
    "    return ROI(test_target(), \n",
    "        u.Quantity(\"1.0deg\")\n",
    "    )"
   ]
  },
  {
   "cell_type": "code",
   "execution_count": null,
   "id": "52690fc8",
   "metadata": {},
   "outputs": [],
   "source": [
    "from feupy.cta.observation import ObservationParameters\n",
    "from feupy.cta.irfs import CTAOPerf"
   ]
  },
  {
   "cell_type": "code",
   "execution_count": null,
   "id": "ad43097e",
   "metadata": {},
   "outputs": [],
   "source": [
    "from astropy.coordinates import SkyCoord, Angle\n",
    "def test_cta_obs_parm():\n",
    "    return ObservationParameters(\n",
    "    livetime=50*u.h, \n",
    "    offset=0.11*u.deg, \n",
    "    e_edges_min=0.1*u.TeV, \n",
    "    e_edges_max=100.*u.TeV,\n",
    "    on_region_radius=Quantity(\"1.0 deg\"),\n",
    "    n_obs=1000\n",
    ")"
   ]
  },
  {
   "cell_type": "code",
   "execution_count": 8,
   "id": "9bc0bd75",
   "metadata": {},
   "outputs": [],
   "source": [
    "# from astropy import units as u\n",
    "# from astropy.coordinates import SkyCoord\n",
    "# \n",
    "\n",
    "# from feupy.scripts import gammapy_catalogs \n",
    "\n",
    "# from feupy.catalog.pulsar.atnf import SourceCatalogATNF\n",
    "# from feupy.catalog.lhaaso import SourceCatalogPublishNatureLHAASO\n",
    "# from feupy.catalog.hawc import SourceCatalogExtraHAWC\n",
    "\n",
    "# \n",
    "\n",
    "\n",
    "# from gammapy.datasets import FluxPointsDataset\n",
    "# from gammapy.datasets import Datasets\n",
    "# from feupy.utils.string_handling import name_to_txt\n",
    "\n",
    "# from gammapy.modeling.models import SkyModel, Models\n",
    "\n",
    "# from gammapy.estimators import FluxPoints"
   ]
  }
 ],
 "metadata": {
  "kernelspec": {
   "display_name": "Python 3 (ipykernel)",
   "language": "python",
   "name": "python3"
  },
  "language_info": {
   "codemirror_mode": {
    "name": "ipython",
    "version": 3
   },
   "file_extension": ".py",
   "mimetype": "text/x-python",
   "name": "python",
   "nbconvert_exporter": "python",
   "pygments_lexer": "ipython3",
   "version": "3.9.18"
  }
 },
 "nbformat": 4,
 "nbformat_minor": 5
}
