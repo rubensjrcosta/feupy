{
 "cells": [
  {
   "cell_type": "code",
   "execution_count": 1,
   "id": "3e41b2dd",
   "metadata": {
    "scrolled": true
   },
   "outputs": [
    {
     "data": {
      "text/plain": [
       "'This script converts extraHAWC data to FITS format.'"
      ]
     },
     "execution_count": 1,
     "metadata": {},
     "output_type": "execute_result"
    }
   ],
   "source": [
    "\"\"\"This script converts extraHAWC data to FITS format.\"\"\""
   ]
  },
  {
   "cell_type": "code",
   "execution_count": 2,
   "id": "084c85db",
   "metadata": {},
   "outputs": [],
   "source": [
    "from psrqpy import QueryATNF\n",
    "\n",
    "from astropy.table import Table, Column\n",
    "# from astropy.coordinates import SkyCoord\n",
    "from astropy import units as u"
   ]
  },
  {
   "cell_type": "code",
   "execution_count": 3,
   "id": "11b17195",
   "metadata": {},
   "outputs": [],
   "source": [
    "PSR_PARAMS = [\n",
    "        'JNAME', \n",
    "        'RAJD', \n",
    "        'RAJD_ERR',\n",
    "        'DECJD',\n",
    "        'DECJD_ERR',\n",
    "        'DIST',\n",
    "        'DIST_DM', \n",
    "        'AGE', \n",
    "        'P0',\n",
    "        'P0_ERR',\n",
    "        'BSURF',\n",
    "        'EDOT', \n",
    "        'TYPE', \n",
    "        'ASSOC',\n",
    "    ]"
   ]
  },
  {
   "cell_type": "code",
   "execution_count": 4,
   "id": "0f467782",
   "metadata": {},
   "outputs": [],
   "source": [
    "#  QueryATNF().table.colnames"
   ]
  },
  {
   "cell_type": "code",
   "execution_count": 5,
   "id": "e8ee298d",
   "metadata": {},
   "outputs": [],
   "source": [
    "table = Table()\n",
    "data_name = \"ATNF\"\n",
    "table.meta['catalog_name'] = data_name\n",
    "table.meta['catalog_description'] = \"ATNF Pulsar Catalogue v2.0.1\"\n",
    "table.meta['catalog_ref'] = \"https://www.atnf.csiro.au/research/pulsar/psrcat/\""
   ]
  },
  {
   "cell_type": "code",
   "execution_count": 6,
   "id": "7ae4248d",
   "metadata": {},
   "outputs": [],
   "source": [
    "table.meta['PSR_PARAMS'] = PSR_PARAMS"
   ]
  },
  {
   "cell_type": "code",
   "execution_count": 7,
   "id": "b22e5df5",
   "metadata": {},
   "outputs": [
    {
     "name": "stderr",
     "output_type": "stream",
     "text": [
      "UserWarning: Parameter 'RAJD_ERR' not recognised.\n",
      "UserWarning: Parameter 'P0_ERR' not recognised.\n",
      "UserWarning: Parameter 'DECJD_ERR' not recognised.\n"
     ]
    }
   ],
   "source": [
    "_table = QueryATNF(params=PSR_PARAMS).table\n",
    "# _table"
   ]
  },
  {
   "cell_type": "code",
   "execution_count": 9,
   "id": "4708a342",
   "metadata": {},
   "outputs": [],
   "source": [
    "columns = []"
   ]
  },
  {
   "cell_type": "code",
   "execution_count": 10,
   "id": "d1d11772",
   "metadata": {},
   "outputs": [],
   "source": [
    "col = _table[\"JNAME\"]\n",
    "\n",
    "_list = []\n",
    "list_ = list(col)\n",
    "for iten in list_:\n",
    "    iten = f\"PSR {iten}\"\n",
    "    _list.append(iten)\n",
    "col_ = Column(name=col.name, description='Pulsar name based on J2000 coordinates', data=_list, dtype=str)\n",
    "columns.append(col_)"
   ]
  },
  {
   "cell_type": "code",
   "execution_count": 11,
   "id": "1f8e1ea5",
   "metadata": {},
   "outputs": [],
   "source": [
    "col = _table[\"RAJD\"]\n",
    "col_ = Column(name='RAJ2000', description='Right ascension (J2000)', data=col.data, format=\".3f\", unit=col.unit, dtype=col.dtype)\n",
    "columns.append(col_)"
   ]
  },
  {
   "cell_type": "code",
   "execution_count": 12,
   "id": "3bb8d518",
   "metadata": {},
   "outputs": [],
   "source": [
    "col = _table[\"RAJD_ERR\"]\n",
    "col_ = Column(name='RAJ2000_ERR', description='Right ascension (J2000) error', data=col.data, format=\".3f\", unit=col.unit, dtype=col.dtype)\n",
    "columns.append(col_)"
   ]
  },
  {
   "cell_type": "code",
   "execution_count": 13,
   "id": "f98c4076",
   "metadata": {},
   "outputs": [],
   "source": [
    "col = _table[\"DECJD\"]\n",
    "col_ = Column(name='DEJ2000', description='Declination (J2000)', data=col.data, format=\".3f\", unit=col.unit, dtype=col.dtype)\n",
    "columns.append(col_)"
   ]
  },
  {
   "cell_type": "code",
   "execution_count": 14,
   "id": "734a26ad",
   "metadata": {},
   "outputs": [],
   "source": [
    "col = _table[\"DECJD_ERR\"]\n",
    "col_ = Column(name='DEJ2000_ERR', description='Declination (J2000) error', data=col.data, format=\".3f\", unit=col.unit, dtype=col.dtype)\n",
    "columns.append(col_)"
   ]
  },
  {
   "cell_type": "code",
   "execution_count": 15,
   "id": "6b524de5",
   "metadata": {},
   "outputs": [],
   "source": [
    "name = \"DIST\"\n",
    "col = _table[name]\n",
    "description = \"Best estimate of the pulsar distance using the YMW16 DM-based distance as default\"\n",
    "col_ = Column(name=name, description=description, data=col.data, format=\".3f\", unit=col.unit, dtype=col.dtype)\n",
    "columns.append(col_)"
   ]
  },
  {
   "cell_type": "code",
   "execution_count": 16,
   "id": "b257b352",
   "metadata": {},
   "outputs": [],
   "source": [
    "name = \"DIST_DM\"\n",
    "col = _table[name]\n",
    "description = \"Distance based on the YMW16 electron density model\"\n",
    "col_ = Column(name=name, description=description, data=col.data, format=\".3f\", unit=col.unit, dtype=col.dtype)\n",
    "columns.append(col_)"
   ]
  },
  {
   "cell_type": "code",
   "execution_count": 17,
   "id": "7e8e700d",
   "metadata": {},
   "outputs": [],
   "source": [
    "name = \"AGE\"\n",
    "col = _table[name]\n",
    "description = \"Spin down age\"\n",
    "col_ = Column(name=name, description=description, data=col.data, format=\".3e\", unit=col.unit, dtype=col.dtype)\n",
    "columns.append(col_)"
   ]
  },
  {
   "cell_type": "code",
   "execution_count": 18,
   "id": "0894c6ee",
   "metadata": {},
   "outputs": [],
   "source": [
    "name = \"P0\"\n",
    "col = _table[name]\n",
    "description = \"Barycentric period of the pulsar\"\n",
    "col_ = Column(name=name, description=description, data=col.data, format=\".3f\", unit=col.unit, dtype=col.dtype)\n",
    "columns.append(col_)"
   ]
  },
  {
   "cell_type": "code",
   "execution_count": 19,
   "id": "553642f3",
   "metadata": {},
   "outputs": [],
   "source": [
    "name = \"P0_ERR\"\n",
    "col = _table[name]\n",
    "description = \"Barycentric period of the pulsar error\"\n",
    "col_ = Column(name=name, description=description, data=col.data, format=\".3e\", unit=col.unit, dtype=col.dtype)\n",
    "columns.append(col_)"
   ]
  },
  {
   "cell_type": "code",
   "execution_count": 20,
   "id": "ff471577",
   "metadata": {},
   "outputs": [],
   "source": [
    "name = \"BSURF\"\n",
    "col = _table[name]\n",
    "description = \"Surface magnetic flux density\"\n",
    "col_ = Column(name=name, description=description, data=col.data, format=\".3e\", unit=col.unit, dtype=col.dtype)\n",
    "columns.append(col_)"
   ]
  },
  {
   "cell_type": "code",
   "execution_count": 21,
   "id": "467d2dc8",
   "metadata": {},
   "outputs": [],
   "source": [
    "name = \"EDOT\"\n",
    "col = _table[name]\n",
    "description = \"Spin down energy loss rate\"\n",
    "col_ = Column(name=name, description=description, data=col.data, format=\".3e\", unit=col.unit, dtype=col.dtype)\n",
    "columns.append(col_)"
   ]
  },
  {
   "cell_type": "code",
   "execution_count": 22,
   "id": "09cca51b",
   "metadata": {},
   "outputs": [],
   "source": [
    "_list = []\n",
    "name = \"TYPE\"\n",
    "col = _table[name]\n",
    "description = \"Type codes for the pulsar\"\n",
    "for iten in col.data:\n",
    "    iten = str(iten)\n",
    "    if iten == '--':\n",
    "        iten = None\n",
    "    _list.append(iten)\n",
    "col_ = Column(name=name, description=description, data=_list, dtype=str)\n",
    "columns.append(col_)"
   ]
  },
  {
   "cell_type": "code",
   "execution_count": 23,
   "id": "44ea7be8",
   "metadata": {},
   "outputs": [],
   "source": [
    "_list = []\n",
    "name = \"ASSOC\"\n",
    "col = _table[name]\n",
    "description = 'Names of other objects, e.g., supernova remnant, globular cluster or gamma-ray source'\n",
    "for iten in col.data:\n",
    "    iten = str(iten)\n",
    "    if iten == '--':\n",
    "        iten = None\n",
    "    _list.append(iten)\n",
    "col_ = Column(name=name, description=description, data=_list, dtype=str)\n",
    "columns.append(col_)"
   ]
  },
  {
   "cell_type": "code",
   "execution_count": 24,
   "id": "86826ec1",
   "metadata": {},
   "outputs": [
    {
     "name": "stderr",
     "output_type": "stream",
     "text": [
      "WARNING: VerifyWarning: Keyword name 'catalog_name' is greater than 8 characters or contains characters not allowed by the FITS standard; a HIERARCH card will be created. [astropy.io.fits.card]\n",
      "WARNING: VerifyWarning: Keyword name 'catalog_description' is greater than 8 characters or contains characters not allowed by the FITS standard; a HIERARCH card will be created. [astropy.io.fits.card]\n",
      "WARNING: VerifyWarning: Keyword name 'catalog_ref' is greater than 8 characters or contains characters not allowed by the FITS standard; a HIERARCH card will be created. [astropy.io.fits.card]\n",
      "WARNING: VerifyWarning: Keyword name 'PSR_PARAMS' is greater than 8 characters or contains characters not allowed by the FITS standard; a HIERARCH card will be created. [astropy.io.fits.card]\n"
     ]
    }
   ],
   "source": [
    "table.add_columns(columns)\n",
    "table.write(f\"{data_name}.fits\".lower(),\n",
    "    format = 'fits', \n",
    "    overwrite = True\n",
    ")"
   ]
  },
  {
   "cell_type": "code",
   "execution_count": null,
   "id": "7c0f6925",
   "metadata": {},
   "outputs": [],
   "source": []
  },
  {
   "cell_type": "code",
   "execution_count": null,
   "id": "ac98aa2d",
   "metadata": {},
   "outputs": [],
   "source": []
  }
 ],
 "metadata": {
  "ipub": {
   "titlepage": {
    "author": "R. P. Costa Jr.",
    "email": "rubensp@utfpr.edu.br",
    "institution": [
     "Federal University of Technology – Paraná (UTFPR) "
    ],
    "tagline": "A TeV Astronomy Python package based on Gammapy.",
    "title": "feupy"
   }
  },
  "kernelspec": {
   "display_name": "Python 3 (ipykernel)",
   "language": "python",
   "name": "python3"
  },
  "language_info": {
   "codemirror_mode": {
    "name": "ipython",
    "version": 3
   },
   "file_extension": ".py",
   "mimetype": "text/x-python",
   "name": "python",
   "nbconvert_exporter": "python",
   "pygments_lexer": "ipython3",
   "version": "3.9.18"
  }
 },
 "nbformat": 4,
 "nbformat_minor": 5
}
